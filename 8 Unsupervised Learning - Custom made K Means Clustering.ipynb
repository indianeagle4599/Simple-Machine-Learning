{
 "cells": [
  {
   "cell_type": "markdown",
   "metadata": {},
   "source": [
    "# Applying KNN in K Means Clustering\n",
    "\n",
    "### Algorithm:\n",
    "\n",
    "1. Input 'n' as number of centroids and 'k' as the number of nearest neighbours to check from.\n",
    "2. Select 'n' centroids randomly.\n",
    "3. Calculate distance of each element from all centroids and assign to closest centroid.\n",
    "4. Get KNN of the centroid from the new-formed clusters.\n",
    "5. Generate new centroid by finding the mean of the KNN.\n",
    "6. If new centroids are same as old centroids, go to step 8.\n",
    "7. Else, go to step 3."
   ]
  },
  {
   "cell_type": "code",
   "execution_count": 1,
   "metadata": {},
   "outputs": [],
   "source": [
    "import random\n",
    "from copy import deepcopy\n",
    "\n",
    "import matplotlib.pyplot as plt"
   ]
  },
  {
   "cell_type": "code",
   "execution_count": 2,
   "metadata": {},
   "outputs": [],
   "source": [
    "def getDistance(centroid, element):\n",
    "    \n",
    "    distance = 0\n",
    "    for i in range(len(centroid)):\n",
    "        # Manhattan Distance\n",
    "        distance += abs(centroid[i]-element[i])\n",
    "    return distance\n",
    "\n",
    "def getClosest(centroids, element):\n",
    "    \n",
    "    closest = 0\n",
    "    shortest = getDistance(centroids[closest], element)\n",
    "    for centroid in range(len(centroids)):\n",
    "        distance = getDistance(centroids[centroid], element)\n",
    "        if distance < shortest:\n",
    "            shortest = distance\n",
    "            closest = centroid\n",
    "    return closest\n",
    "\n",
    "def getKNearest(clus, centroid, k):\n",
    "    \n",
    "    knn = []\n",
    "    cluster = deepcopy(clus)\n",
    "    \n",
    "    while len(knn) < k and len(cluster) > 0:\n",
    "        \n",
    "        closest = 0\n",
    "        shortest = getDistance(centroid, cluster[closest])\n",
    "        \n",
    "        for i in range(len(cluster)):\n",
    "            dist = getDistance(centroid, cluster[i])\n",
    "            if dist <= shortest and i != closest:\n",
    "                closest = i\n",
    "                shortest = dist\n",
    "                \n",
    "        knn.append(cluster[closest])\n",
    "        del cluster[closest]\n",
    "    \n",
    "    return knn\n",
    "\n",
    "def KNNClustering(n, k, data):\n",
    "    \n",
    "    # Select n centroids randomly\n",
    "    curCentroids = []\n",
    "    newCentroids = []\n",
    "    clusters = []\n",
    "    clustervalue = []\n",
    "    datasize = len(data)\n",
    "    while len(curCentroids) < n:\n",
    "        cent = random.randint(0, datasize-1)\n",
    "        if data[cent] not in curCentroids:\n",
    "            curCentroids.append(data[cent])\n",
    "            clusters.append([])\n",
    "            newCentroids.append([])\n",
    "            \n",
    "    while newCentroids != curCentroids:\n",
    "        \n",
    "        if newCentroids != curCentroids and len(newCentroids[0]) > 0:\n",
    "            curCentroids = deepcopy(newCentroids)\n",
    "            \n",
    "        for i in range(len(clusters)):\n",
    "            clusters[i] = []\n",
    "            newCentroids[i] = []\n",
    "        \n",
    "        # Calculate distance of each element and assign to the closest centroid\n",
    "        for i in range(datasize):\n",
    "            closest = getClosest(curCentroids, data[i])\n",
    "            clusters[closest].append(data[i])\n",
    "            if len(clustervalue) == i:\n",
    "                clustervalue.append(closest)\n",
    "            else:\n",
    "                clustervalue[i] = closest\n",
    "            \n",
    "        knnclusters = []\n",
    "        for i in range(len(clusters)):\n",
    "            knnclusters.append(getKNearest(clusters[i], curCentroids[i], k))\n",
    "        \n",
    "        # Calculate the new centriods\n",
    "        for cluster in range(len(knnclusters)):\n",
    "            for element in range(len(knnclusters[cluster])):\n",
    "                for attribute in range(len(knnclusters[cluster][element])):\n",
    "                    if len(newCentroids[cluster]) == attribute:\n",
    "                        newCentroids[cluster].append(0)\n",
    "                    \n",
    "                    # Calculating mean\n",
    "                    newCentroids[cluster][attribute] *= element\n",
    "                    newCentroids[cluster][attribute] += knnclusters[cluster][element][attribute]\n",
    "                    newCentroids[cluster][attribute] /= element+1\n",
    "                    \n",
    "    return [clustervalue, newCentroids]\n",
    "\n",
    "def KMeansClustering(n, data):\n",
    "    \n",
    "    # Select n centroids randomly\n",
    "    curCentroids = []\n",
    "    newCentroids = []\n",
    "    clusters = []\n",
    "    clustervalue = []\n",
    "    datasize = len(data)\n",
    "    while len(curCentroids) < n:\n",
    "        cent = random.randint(0, datasize-1)\n",
    "        if data[cent] not in curCentroids:\n",
    "            curCentroids.append(data[cent])\n",
    "            clusters.append([])\n",
    "            newCentroids.append([])\n",
    "            \n",
    "    while newCentroids != curCentroids:\n",
    "        \n",
    "        if newCentroids != curCentroids and len(newCentroids[0]) > 0:\n",
    "            curCentroids = deepcopy(newCentroids)\n",
    "            \n",
    "        for i in range(len(clusters)):\n",
    "            clusters[i] = []\n",
    "            newCentroids[i] = []\n",
    "        \n",
    "        # Calculate distance of each element and assign to the closest centroid\n",
    "        for i in range(datasize):\n",
    "            closest = getClosest(curCentroids, data[i])\n",
    "            clusters[closest].append(data[i])\n",
    "            if len(clustervalue) == i:\n",
    "                clustervalue.append(closest)\n",
    "            else:\n",
    "                clustervalue[i] = closest\n",
    "        \n",
    "        # Calculate the new centriods\n",
    "        for cluster in range(len(clusters)):\n",
    "            for element in range(len(clusters[cluster])):\n",
    "                for attribute in range(len(clusters[cluster][element])):\n",
    "                    if len(newCentroids[cluster]) == attribute:\n",
    "                        newCentroids[cluster].append(0)\n",
    "                    \n",
    "                    # Calculating mean\n",
    "                    newCentroids[cluster][attribute] *= element\n",
    "                    newCentroids[cluster][attribute] += clusters[cluster][element][attribute]\n",
    "                    newCentroids[cluster][attribute] /= element+1\n",
    "                    \n",
    "    return [clustervalue, newCentroids]"
   ]
  },
  {
   "cell_type": "code",
   "execution_count": 3,
   "metadata": {},
   "outputs": [],
   "source": [
    "data = [\n",
    "    [0, 2],\n",
    "    [0, 4],\n",
    "    [1, 2],\n",
    "    [3, 1],\n",
    "    [5, 8],\n",
    "    [4, 2],\n",
    "    [2, 5],\n",
    "    [1, 5],\n",
    "    [9, 4],\n",
    "    [8, 3],\n",
    "    [3, 9],\n",
    "    [7, 1],\n",
    "    [5, 8],\n",
    "    [1, 8],\n",
    "    [2, 5],\n",
    "    [3, 6],\n",
    "    [5, 2],\n",
    "    [4, 3],\n",
    "    [8, 5],\n",
    "    [6, 7],\n",
    "    [7, 7],\n",
    "    [9, 1],\n",
    "    [7, 0],\n",
    "    [2, 9],\n",
    "]\n",
    "n = 3\n",
    "k = 4\n",
    "col = ['Red', 'Blue', 'Green']"
   ]
  },
  {
   "cell_type": "code",
   "execution_count": 4,
   "metadata": {},
   "outputs": [],
   "source": [
    "KNN = KNNClustering(n, k, data)\n",
    "knnvals = KNN[0]\n",
    "knnc = KNN[1]\n",
    "\n",
    "KME = KMeansClustering(n, data)\n",
    "kmevals = KME[0]\n",
    "kmec = KME[1]"
   ]
  },
  {
   "cell_type": "code",
   "execution_count": 5,
   "metadata": {},
   "outputs": [
    {
     "data": {
      "image/png": "[encoded data removed]",
      "text/plain": [
       "<Figure size 432x288 with 1 Axes>"
      ]
     },
     "metadata": {
      "needs_background": "light"
     },
     "output_type": "display_data"
    }
   ],
   "source": [
    "for i in range(len(data)):\n",
    "    x = data[i][0]\n",
    "    y = data[i][1]\n",
    "    plt.scatter(x, y, c=col[knnvals[i]])\n",
    "\n",
    "for i in range(len(knnc)):\n",
    "    x = knnc[i][0]\n",
    "    y = knnc[i][1]\n",
    "    plt.scatter(x, y, marker='+', c='Black')"
   ]
  },
  {
   "cell_type": "code",
   "execution_count": 6,
   "metadata": {},
   "outputs": [
    {
     "data": {
      "image/png": "[encoded data removed]",
      "text/plain": [
       "<Figure size 432x288 with 1 Axes>"
      ]
     },
     "metadata": {
      "needs_background": "light"
     },
     "output_type": "display_data"
    }
   ],
   "source": [
    "for i in range(len(data)):\n",
    "    x = data[i][0]\n",
    "    y = data[i][1]\n",
    "    plt.scatter(x, y, c=col[kmevals[i]])\n",
    "\n",
    "for i in range(len(kmec)):\n",
    "    x = kmec[i][0]\n",
    "    y = kmec[i][1]\n",
    "    plt.scatter(x, y, marker='+', c='Black')"
   ]
  },
  {
   "cell_type": "code",
   "execution_count": null,
   "metadata": {},
   "outputs": [],
   "source": []
  }
 ],
 "metadata": {
  "kernelspec": {
   "display_name": "Python 3",
   "language": "python",
   "name": "python3"
  },
  "language_info": {
   "codemirror_mode": {
    "name": "ipython",
    "version": 3
   },
   "file_extension": ".py",
   "mimetype": "text/x-python",
   "name": "python",
   "nbconvert_exporter": "python",
   "pygments_lexer": "ipython3",
   "version": "3.8.5"
  }
 },
 "nbformat": 4,
 "nbformat_minor": 4
}
