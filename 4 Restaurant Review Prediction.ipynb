{
 "cells": [
  {
   "cell_type": "markdown",
   "metadata": {},
   "source": [
    "# Predicting different ratings in restaurant data\n",
    "\n",
    "You can download the dataset from:\n",
    "\n",
    "https://www.kaggle.com/uciml/restaurant-data-with-consumer-ratings"
   ]
  },
  {
   "cell_type": "markdown",
   "metadata": {},
   "source": [
    "## Importing Required Libraries"
   ]
  },
  {
   "cell_type": "code",
   "execution_count": 1,
   "metadata": {},
   "outputs": [],
   "source": [
    "# Basic ML Libraries\n",
    "import numpy as np\n",
    "import pandas as pd\n",
    "import matplotlib.pyplot as plt\n",
    "import seaborn as sns\n",
    "\n",
    "# Importing data\n",
    "import io\n",
    "import requests\n",
    "\n",
    "# Model Creation Libraries\n",
    "from sklearn.preprocessing import MinMaxScaler\n",
    "from sklearn.model_selection import train_test_split\n",
    "from sklearn.linear_model import LinearRegression\n",
    "from sklearn.neural_network import MLPRegressor\n",
    "\n",
    "# Model Evaluation\n",
    "from sklearn.metrics import mean_squared_error, r2_score, mean_absolute_error"
   ]
  },
  {
   "cell_type": "markdown",
   "metadata": {},
   "source": [
    "## Loading and creating the main dataset"
   ]
  },
  {
   "cell_type": "code",
   "execution_count": 2,
   "metadata": {
    "scrolled": true
   },
   "outputs": [
    {
     "name": "stdout",
     "output_type": "stream",
     "text": [
      "Error tokenizing data. C error: Expected 1 fields in line 7, saw 2\n",
      "\n",
      "Error tokenizing data. C error: Expected 1 fields in line 7, saw 2\n",
      "\n"
     ]
    }
   ],
   "source": [
    "url='https://www.kaggle.com/uciml/restaurant-data-with-consumer-ratings?select=chefmozhours4.csv'\n",
    "s = requests.get(url).content\n",
    "try:\n",
    "    df = pd.read_csv(io.StringIO(s.decode('utf-8')))\n",
    "except Exception as e:\n",
    "    print(e)\n",
    "    \n",
    "try:\n",
    "    df = pd.read_csv(url)\n",
    "except Exception as e:\n",
    "    print(e)"
   ]
  },
  {
   "cell_type": "markdown",
   "metadata": {},
   "source": [
    "Having tried to import the dataset in a few different ways and being unable to load from the URL, I had to download the dataset."
   ]
  },
  {
   "cell_type": "code",
   "execution_count": 3,
   "metadata": {},
   "outputs": [
    {
     "data": {
      "text/html": [
       "<div>\n",
       "<style scoped>\n",
       "    .dataframe tbody tr th:only-of-type {\n",
       "        vertical-align: middle;\n",
       "    }\n",
       "\n",
       "    .dataframe tbody tr th {\n",
       "        vertical-align: top;\n",
       "    }\n",
       "\n",
       "    .dataframe thead th {\n",
       "        text-align: right;\n",
       "    }\n",
       "</style>\n",
       "<table border=\"1\" class=\"dataframe\">\n",
       "  <thead>\n",
       "    <tr style=\"text-align: right;\">\n",
       "      <th></th>\n",
       "      <th>placeID</th>\n",
       "      <th>hours</th>\n",
       "      <th>days</th>\n",
       "    </tr>\n",
       "  </thead>\n",
       "  <tbody>\n",
       "    <tr>\n",
       "      <th>0</th>\n",
       "      <td>135111</td>\n",
       "      <td>00:00-23:30;</td>\n",
       "      <td>Mon;Tue;Wed;Thu;Fri;</td>\n",
       "    </tr>\n",
       "    <tr>\n",
       "      <th>1</th>\n",
       "      <td>135111</td>\n",
       "      <td>00:00-23:30;</td>\n",
       "      <td>Sat;</td>\n",
       "    </tr>\n",
       "    <tr>\n",
       "      <th>2</th>\n",
       "      <td>135111</td>\n",
       "      <td>00:00-23:30;</td>\n",
       "      <td>Sun;</td>\n",
       "    </tr>\n",
       "    <tr>\n",
       "      <th>3</th>\n",
       "      <td>135110</td>\n",
       "      <td>08:00-19:00;</td>\n",
       "      <td>Mon;Tue;Wed;Thu;Fri;</td>\n",
       "    </tr>\n",
       "    <tr>\n",
       "      <th>4</th>\n",
       "      <td>135110</td>\n",
       "      <td>00:00-00:00;</td>\n",
       "      <td>Sat;</td>\n",
       "    </tr>\n",
       "  </tbody>\n",
       "</table>\n",
       "</div>"
      ],
      "text/plain": [
       "   placeID         hours                  days\n",
       "0   135111  00:00-23:30;  Mon;Tue;Wed;Thu;Fri;\n",
       "1   135111  00:00-23:30;                  Sat;\n",
       "2   135111  00:00-23:30;                  Sun;\n",
       "3   135110  08:00-19:00;  Mon;Tue;Wed;Thu;Fri;\n",
       "4   135110  00:00-00:00;                  Sat;"
      ]
     },
     "execution_count": 3,
     "metadata": {},
     "output_type": "execute_result"
    }
   ],
   "source": [
    "PATH = './Data/restaurant/'\n",
    "dfhrs = pd.read_csv(PATH+'/chefmozhours4.csv')\n",
    "dfhrs.head()"
   ]
  },
  {
   "cell_type": "code",
   "execution_count": 4,
   "metadata": {},
   "outputs": [
    {
     "data": {
      "text/html": [
       "<div>\n",
       "<style scoped>\n",
       "    .dataframe tbody tr th:only-of-type {\n",
       "        vertical-align: middle;\n",
       "    }\n",
       "\n",
       "    .dataframe tbody tr th {\n",
       "        vertical-align: top;\n",
       "    }\n",
       "\n",
       "    .dataframe thead th {\n",
       "        text-align: right;\n",
       "    }\n",
       "</style>\n",
       "<table border=\"1\" class=\"dataframe\">\n",
       "  <thead>\n",
       "    <tr style=\"text-align: right;\">\n",
       "      <th></th>\n",
       "      <th>placeID</th>\n",
       "      <th>Rpayment</th>\n",
       "    </tr>\n",
       "  </thead>\n",
       "  <tbody>\n",
       "    <tr>\n",
       "      <th>0</th>\n",
       "      <td>135110</td>\n",
       "      <td>cash</td>\n",
       "    </tr>\n",
       "    <tr>\n",
       "      <th>1</th>\n",
       "      <td>135110</td>\n",
       "      <td>VISA</td>\n",
       "    </tr>\n",
       "    <tr>\n",
       "      <th>2</th>\n",
       "      <td>135110</td>\n",
       "      <td>MasterCard-Eurocard</td>\n",
       "    </tr>\n",
       "    <tr>\n",
       "      <th>3</th>\n",
       "      <td>135110</td>\n",
       "      <td>American_Express</td>\n",
       "    </tr>\n",
       "    <tr>\n",
       "      <th>4</th>\n",
       "      <td>135110</td>\n",
       "      <td>bank_debit_cards</td>\n",
       "    </tr>\n",
       "  </tbody>\n",
       "</table>\n",
       "</div>"
      ],
      "text/plain": [
       "   placeID             Rpayment\n",
       "0   135110                 cash\n",
       "1   135110                 VISA\n",
       "2   135110  MasterCard-Eurocard\n",
       "3   135110     American_Express\n",
       "4   135110     bank_debit_cards"
      ]
     },
     "execution_count": 4,
     "metadata": {},
     "output_type": "execute_result"
    }
   ],
   "source": [
    "dfacc = pd.read_csv(PATH+'chefmozaccepts.csv')\n",
    "dfacc.head()"
   ]
  },
  {
   "cell_type": "code",
   "execution_count": 5,
   "metadata": {},
   "outputs": [
    {
     "data": {
      "text/html": [
       "<div>\n",
       "<style scoped>\n",
       "    .dataframe tbody tr th:only-of-type {\n",
       "        vertical-align: middle;\n",
       "    }\n",
       "\n",
       "    .dataframe tbody tr th {\n",
       "        vertical-align: top;\n",
       "    }\n",
       "\n",
       "    .dataframe thead th {\n",
       "        text-align: right;\n",
       "    }\n",
       "</style>\n",
       "<table border=\"1\" class=\"dataframe\">\n",
       "  <thead>\n",
       "    <tr style=\"text-align: right;\">\n",
       "      <th></th>\n",
       "      <th>placeID</th>\n",
       "      <th>rcuisine</th>\n",
       "    </tr>\n",
       "  </thead>\n",
       "  <tbody>\n",
       "    <tr>\n",
       "      <th>0</th>\n",
       "      <td>135110</td>\n",
       "      <td>Spanish</td>\n",
       "    </tr>\n",
       "    <tr>\n",
       "      <th>1</th>\n",
       "      <td>135109</td>\n",
       "      <td>Italian</td>\n",
       "    </tr>\n",
       "    <tr>\n",
       "      <th>2</th>\n",
       "      <td>135107</td>\n",
       "      <td>Latin_American</td>\n",
       "    </tr>\n",
       "    <tr>\n",
       "      <th>3</th>\n",
       "      <td>135106</td>\n",
       "      <td>Mexican</td>\n",
       "    </tr>\n",
       "    <tr>\n",
       "      <th>4</th>\n",
       "      <td>135105</td>\n",
       "      <td>Fast_Food</td>\n",
       "    </tr>\n",
       "  </tbody>\n",
       "</table>\n",
       "</div>"
      ],
      "text/plain": [
       "   placeID        rcuisine\n",
       "0   135110         Spanish\n",
       "1   135109         Italian\n",
       "2   135107  Latin_American\n",
       "3   135106         Mexican\n",
       "4   135105       Fast_Food"
      ]
     },
     "execution_count": 5,
     "metadata": {},
     "output_type": "execute_result"
    }
   ],
   "source": [
    "dfcui = pd.read_csv(PATH+'chefmozcuisine.csv')\n",
    "dfcui['rcuisine'] = dfcui['Rcuisine']\n",
    "dfcui = dfcui.drop(columns=['Rcuisine'])\n",
    "dfcui.head()"
   ]
  },
  {
   "cell_type": "code",
   "execution_count": 6,
   "metadata": {},
   "outputs": [
    {
     "data": {
      "text/html": [
       "<div>\n",
       "<style scoped>\n",
       "    .dataframe tbody tr th:only-of-type {\n",
       "        vertical-align: middle;\n",
       "    }\n",
       "\n",
       "    .dataframe tbody tr th {\n",
       "        vertical-align: top;\n",
       "    }\n",
       "\n",
       "    .dataframe thead th {\n",
       "        text-align: right;\n",
       "    }\n",
       "</style>\n",
       "<table border=\"1\" class=\"dataframe\">\n",
       "  <thead>\n",
       "    <tr style=\"text-align: right;\">\n",
       "      <th></th>\n",
       "      <th>placeID</th>\n",
       "      <th>parking_lot</th>\n",
       "    </tr>\n",
       "  </thead>\n",
       "  <tbody>\n",
       "    <tr>\n",
       "      <th>0</th>\n",
       "      <td>135111</td>\n",
       "      <td>public</td>\n",
       "    </tr>\n",
       "    <tr>\n",
       "      <th>1</th>\n",
       "      <td>135110</td>\n",
       "      <td>none</td>\n",
       "    </tr>\n",
       "    <tr>\n",
       "      <th>2</th>\n",
       "      <td>135109</td>\n",
       "      <td>none</td>\n",
       "    </tr>\n",
       "    <tr>\n",
       "      <th>3</th>\n",
       "      <td>135108</td>\n",
       "      <td>none</td>\n",
       "    </tr>\n",
       "    <tr>\n",
       "      <th>4</th>\n",
       "      <td>135107</td>\n",
       "      <td>none</td>\n",
       "    </tr>\n",
       "  </tbody>\n",
       "</table>\n",
       "</div>"
      ],
      "text/plain": [
       "   placeID parking_lot\n",
       "0   135111      public\n",
       "1   135110        none\n",
       "2   135109        none\n",
       "3   135108        none\n",
       "4   135107        none"
      ]
     },
     "execution_count": 6,
     "metadata": {},
     "output_type": "execute_result"
    }
   ],
   "source": [
    "dfpark = pd.read_csv(PATH+'chefmozparking.csv')\n",
    "dfpark.head()"
   ]
  },
  {
   "cell_type": "code",
   "execution_count": 7,
   "metadata": {
    "scrolled": true
   },
   "outputs": [
    {
     "data": {
      "text/html": [
       "<div>\n",
       "<style scoped>\n",
       "    .dataframe tbody tr th:only-of-type {\n",
       "        vertical-align: middle;\n",
       "    }\n",
       "\n",
       "    .dataframe tbody tr th {\n",
       "        vertical-align: top;\n",
       "    }\n",
       "\n",
       "    .dataframe thead th {\n",
       "        text-align: right;\n",
       "    }\n",
       "</style>\n",
       "<table border=\"1\" class=\"dataframe\">\n",
       "  <thead>\n",
       "    <tr style=\"text-align: right;\">\n",
       "      <th></th>\n",
       "      <th>placeID</th>\n",
       "      <th>latitude</th>\n",
       "      <th>longitude</th>\n",
       "      <th>the_geom_meter</th>\n",
       "      <th>name</th>\n",
       "      <th>address</th>\n",
       "      <th>city</th>\n",
       "      <th>state</th>\n",
       "      <th>country</th>\n",
       "      <th>fax</th>\n",
       "      <th>...</th>\n",
       "      <th>alcohol</th>\n",
       "      <th>smoking_area</th>\n",
       "      <th>dress_code</th>\n",
       "      <th>accessibility</th>\n",
       "      <th>price</th>\n",
       "      <th>url</th>\n",
       "      <th>Rambience</th>\n",
       "      <th>franchise</th>\n",
       "      <th>area</th>\n",
       "      <th>other_services</th>\n",
       "    </tr>\n",
       "  </thead>\n",
       "  <tbody>\n",
       "    <tr>\n",
       "      <th>0</th>\n",
       "      <td>134999</td>\n",
       "      <td>18.915421</td>\n",
       "      <td>-99.184871</td>\n",
       "      <td>0101000020957F000088568DE356715AC138C0A525FC46...</td>\n",
       "      <td>Kiku Cuernavaca</td>\n",
       "      <td>Revolucion</td>\n",
       "      <td>Cuernavaca</td>\n",
       "      <td>Morelos</td>\n",
       "      <td>Mexico</td>\n",
       "      <td>?</td>\n",
       "      <td>...</td>\n",
       "      <td>No_Alcohol_Served</td>\n",
       "      <td>none</td>\n",
       "      <td>informal</td>\n",
       "      <td>no_accessibility</td>\n",
       "      <td>medium</td>\n",
       "      <td>kikucuernavaca.com.mx</td>\n",
       "      <td>familiar</td>\n",
       "      <td>f</td>\n",
       "      <td>closed</td>\n",
       "      <td>none</td>\n",
       "    </tr>\n",
       "    <tr>\n",
       "      <th>1</th>\n",
       "      <td>132825</td>\n",
       "      <td>22.147392</td>\n",
       "      <td>-100.983092</td>\n",
       "      <td>0101000020957F00001AD016568C4858C1243261274BA5...</td>\n",
       "      <td>puesto de tacos</td>\n",
       "      <td>esquina santos degollado y leon guzman</td>\n",
       "      <td>s.l.p.</td>\n",
       "      <td>s.l.p.</td>\n",
       "      <td>mexico</td>\n",
       "      <td>?</td>\n",
       "      <td>...</td>\n",
       "      <td>No_Alcohol_Served</td>\n",
       "      <td>none</td>\n",
       "      <td>informal</td>\n",
       "      <td>completely</td>\n",
       "      <td>low</td>\n",
       "      <td>?</td>\n",
       "      <td>familiar</td>\n",
       "      <td>f</td>\n",
       "      <td>open</td>\n",
       "      <td>none</td>\n",
       "    </tr>\n",
       "    <tr>\n",
       "      <th>2</th>\n",
       "      <td>135106</td>\n",
       "      <td>22.149709</td>\n",
       "      <td>-100.976093</td>\n",
       "      <td>0101000020957F0000649D6F21634858C119AE9BF528A3...</td>\n",
       "      <td>El Rinc�n de San Francisco</td>\n",
       "      <td>Universidad 169</td>\n",
       "      <td>San Luis Potosi</td>\n",
       "      <td>San Luis Potosi</td>\n",
       "      <td>Mexico</td>\n",
       "      <td>?</td>\n",
       "      <td>...</td>\n",
       "      <td>Wine-Beer</td>\n",
       "      <td>only at bar</td>\n",
       "      <td>informal</td>\n",
       "      <td>partially</td>\n",
       "      <td>medium</td>\n",
       "      <td>?</td>\n",
       "      <td>familiar</td>\n",
       "      <td>f</td>\n",
       "      <td>open</td>\n",
       "      <td>none</td>\n",
       "    </tr>\n",
       "    <tr>\n",
       "      <th>3</th>\n",
       "      <td>132667</td>\n",
       "      <td>23.752697</td>\n",
       "      <td>-99.163359</td>\n",
       "      <td>0101000020957F00005D67BCDDED8157C1222A2DC8D84D...</td>\n",
       "      <td>little pizza Emilio Portes Gil</td>\n",
       "      <td>calle emilio portes gil</td>\n",
       "      <td>victoria</td>\n",
       "      <td>tamaulipas</td>\n",
       "      <td>?</td>\n",
       "      <td>?</td>\n",
       "      <td>...</td>\n",
       "      <td>No_Alcohol_Served</td>\n",
       "      <td>none</td>\n",
       "      <td>informal</td>\n",
       "      <td>completely</td>\n",
       "      <td>low</td>\n",
       "      <td>?</td>\n",
       "      <td>familiar</td>\n",
       "      <td>t</td>\n",
       "      <td>closed</td>\n",
       "      <td>none</td>\n",
       "    </tr>\n",
       "    <tr>\n",
       "      <th>4</th>\n",
       "      <td>132613</td>\n",
       "      <td>23.752903</td>\n",
       "      <td>-99.165076</td>\n",
       "      <td>0101000020957F00008EBA2D06DC8157C194E03B7B504E...</td>\n",
       "      <td>carnitas_mata</td>\n",
       "      <td>lic. Emilio portes gil</td>\n",
       "      <td>victoria</td>\n",
       "      <td>Tamaulipas</td>\n",
       "      <td>Mexico</td>\n",
       "      <td>?</td>\n",
       "      <td>...</td>\n",
       "      <td>No_Alcohol_Served</td>\n",
       "      <td>permitted</td>\n",
       "      <td>informal</td>\n",
       "      <td>completely</td>\n",
       "      <td>medium</td>\n",
       "      <td>?</td>\n",
       "      <td>familiar</td>\n",
       "      <td>t</td>\n",
       "      <td>closed</td>\n",
       "      <td>none</td>\n",
       "    </tr>\n",
       "  </tbody>\n",
       "</table>\n",
       "<p>5 rows × 21 columns</p>\n",
       "</div>"
      ],
      "text/plain": [
       "   placeID   latitude   longitude  \\\n",
       "0   134999  18.915421  -99.184871   \n",
       "1   132825  22.147392 -100.983092   \n",
       "2   135106  22.149709 -100.976093   \n",
       "3   132667  23.752697  -99.163359   \n",
       "4   132613  23.752903  -99.165076   \n",
       "\n",
       "                                      the_geom_meter  \\\n",
       "0  0101000020957F000088568DE356715AC138C0A525FC46...   \n",
       "1  0101000020957F00001AD016568C4858C1243261274BA5...   \n",
       "2  0101000020957F0000649D6F21634858C119AE9BF528A3...   \n",
       "3  0101000020957F00005D67BCDDED8157C1222A2DC8D84D...   \n",
       "4  0101000020957F00008EBA2D06DC8157C194E03B7B504E...   \n",
       "\n",
       "                             name                                 address  \\\n",
       "0                 Kiku Cuernavaca                              Revolucion   \n",
       "1                 puesto de tacos  esquina santos degollado y leon guzman   \n",
       "2      El Rinc�n de San Francisco                         Universidad 169   \n",
       "3  little pizza Emilio Portes Gil                 calle emilio portes gil   \n",
       "4                   carnitas_mata                  lic. Emilio portes gil   \n",
       "\n",
       "              city            state country fax  ...            alcohol  \\\n",
       "0       Cuernavaca          Morelos  Mexico   ?  ...  No_Alcohol_Served   \n",
       "1           s.l.p.           s.l.p.  mexico   ?  ...  No_Alcohol_Served   \n",
       "2  San Luis Potosi  San Luis Potosi  Mexico   ?  ...          Wine-Beer   \n",
       "3        victoria        tamaulipas       ?   ?  ...  No_Alcohol_Served   \n",
       "4         victoria       Tamaulipas  Mexico   ?  ...  No_Alcohol_Served   \n",
       "\n",
       "  smoking_area dress_code     accessibility   price                    url  \\\n",
       "0         none   informal  no_accessibility  medium  kikucuernavaca.com.mx   \n",
       "1         none   informal        completely     low                      ?   \n",
       "2  only at bar   informal         partially  medium                      ?   \n",
       "3         none   informal        completely     low                      ?   \n",
       "4    permitted   informal        completely  medium                      ?   \n",
       "\n",
       "  Rambience franchise    area other_services  \n",
       "0  familiar         f  closed           none  \n",
       "1  familiar         f    open           none  \n",
       "2  familiar         f    open           none  \n",
       "3  familiar         t  closed           none  \n",
       "4  familiar         t  closed           none  \n",
       "\n",
       "[5 rows x 21 columns]"
      ]
     },
     "execution_count": 7,
     "metadata": {},
     "output_type": "execute_result"
    }
   ],
   "source": [
    "dfgeo = pd.read_csv(PATH+'geoplaces2.csv')\n",
    "dfgeo.head()"
   ]
  },
  {
   "cell_type": "code",
   "execution_count": 8,
   "metadata": {
    "scrolled": true
   },
   "outputs": [
    {
     "data": {
      "text/html": [
       "<div>\n",
       "<style scoped>\n",
       "    .dataframe tbody tr th:only-of-type {\n",
       "        vertical-align: middle;\n",
       "    }\n",
       "\n",
       "    .dataframe tbody tr th {\n",
       "        vertical-align: top;\n",
       "    }\n",
       "\n",
       "    .dataframe thead th {\n",
       "        text-align: right;\n",
       "    }\n",
       "</style>\n",
       "<table border=\"1\" class=\"dataframe\">\n",
       "  <thead>\n",
       "    <tr style=\"text-align: right;\">\n",
       "      <th></th>\n",
       "      <th>userID</th>\n",
       "      <th>ucuisine</th>\n",
       "    </tr>\n",
       "  </thead>\n",
       "  <tbody>\n",
       "    <tr>\n",
       "      <th>0</th>\n",
       "      <td>U1001</td>\n",
       "      <td>American</td>\n",
       "    </tr>\n",
       "    <tr>\n",
       "      <th>1</th>\n",
       "      <td>U1002</td>\n",
       "      <td>Mexican</td>\n",
       "    </tr>\n",
       "    <tr>\n",
       "      <th>2</th>\n",
       "      <td>U1003</td>\n",
       "      <td>Mexican</td>\n",
       "    </tr>\n",
       "    <tr>\n",
       "      <th>3</th>\n",
       "      <td>U1004</td>\n",
       "      <td>Bakery</td>\n",
       "    </tr>\n",
       "    <tr>\n",
       "      <th>4</th>\n",
       "      <td>U1004</td>\n",
       "      <td>Breakfast-Brunch</td>\n",
       "    </tr>\n",
       "  </tbody>\n",
       "</table>\n",
       "</div>"
      ],
      "text/plain": [
       "  userID          ucuisine\n",
       "0  U1001          American\n",
       "1  U1002           Mexican\n",
       "2  U1003           Mexican\n",
       "3  U1004            Bakery\n",
       "4  U1004  Breakfast-Brunch"
      ]
     },
     "execution_count": 8,
     "metadata": {},
     "output_type": "execute_result"
    }
   ],
   "source": [
    "udfcu = pd.read_csv(PATH+'usercuisine.csv')\n",
    "udfcu['ucuisine'] = udfcu['Rcuisine']\n",
    "udfcu = udfcu.drop(columns=['Rcuisine'])\n",
    "udfcu.head()"
   ]
  },
  {
   "cell_type": "code",
   "execution_count": 9,
   "metadata": {},
   "outputs": [
    {
     "data": {
      "text/html": [
       "<div>\n",
       "<style scoped>\n",
       "    .dataframe tbody tr th:only-of-type {\n",
       "        vertical-align: middle;\n",
       "    }\n",
       "\n",
       "    .dataframe tbody tr th {\n",
       "        vertical-align: top;\n",
       "    }\n",
       "\n",
       "    .dataframe thead th {\n",
       "        text-align: right;\n",
       "    }\n",
       "</style>\n",
       "<table border=\"1\" class=\"dataframe\">\n",
       "  <thead>\n",
       "    <tr style=\"text-align: right;\">\n",
       "      <th></th>\n",
       "      <th>userID</th>\n",
       "      <th>Upayment</th>\n",
       "    </tr>\n",
       "  </thead>\n",
       "  <tbody>\n",
       "    <tr>\n",
       "      <th>0</th>\n",
       "      <td>U1001</td>\n",
       "      <td>cash</td>\n",
       "    </tr>\n",
       "    <tr>\n",
       "      <th>1</th>\n",
       "      <td>U1002</td>\n",
       "      <td>cash</td>\n",
       "    </tr>\n",
       "    <tr>\n",
       "      <th>2</th>\n",
       "      <td>U1003</td>\n",
       "      <td>cash</td>\n",
       "    </tr>\n",
       "    <tr>\n",
       "      <th>3</th>\n",
       "      <td>U1004</td>\n",
       "      <td>cash</td>\n",
       "    </tr>\n",
       "    <tr>\n",
       "      <th>4</th>\n",
       "      <td>U1004</td>\n",
       "      <td>bank_debit_cards</td>\n",
       "    </tr>\n",
       "  </tbody>\n",
       "</table>\n",
       "</div>"
      ],
      "text/plain": [
       "  userID          Upayment\n",
       "0  U1001              cash\n",
       "1  U1002              cash\n",
       "2  U1003              cash\n",
       "3  U1004              cash\n",
       "4  U1004  bank_debit_cards"
      ]
     },
     "execution_count": 9,
     "metadata": {},
     "output_type": "execute_result"
    }
   ],
   "source": [
    "udfpay = pd.read_csv(PATH+'userpayment.csv')\n",
    "udfpay.head()"
   ]
  },
  {
   "cell_type": "code",
   "execution_count": 10,
   "metadata": {},
   "outputs": [
    {
     "data": {
      "text/html": [
       "<div>\n",
       "<style scoped>\n",
       "    .dataframe tbody tr th:only-of-type {\n",
       "        vertical-align: middle;\n",
       "    }\n",
       "\n",
       "    .dataframe tbody tr th {\n",
       "        vertical-align: top;\n",
       "    }\n",
       "\n",
       "    .dataframe thead th {\n",
       "        text-align: right;\n",
       "    }\n",
       "</style>\n",
       "<table border=\"1\" class=\"dataframe\">\n",
       "  <thead>\n",
       "    <tr style=\"text-align: right;\">\n",
       "      <th></th>\n",
       "      <th>userID</th>\n",
       "      <th>latitude</th>\n",
       "      <th>longitude</th>\n",
       "      <th>smoker</th>\n",
       "      <th>drink_level</th>\n",
       "      <th>dress_preference</th>\n",
       "      <th>ambience</th>\n",
       "      <th>transport</th>\n",
       "      <th>marital_status</th>\n",
       "      <th>hijos</th>\n",
       "      <th>birth_year</th>\n",
       "      <th>interest</th>\n",
       "      <th>personality</th>\n",
       "      <th>religion</th>\n",
       "      <th>activity</th>\n",
       "      <th>color</th>\n",
       "      <th>weight</th>\n",
       "      <th>budget</th>\n",
       "      <th>height</th>\n",
       "    </tr>\n",
       "  </thead>\n",
       "  <tbody>\n",
       "    <tr>\n",
       "      <th>0</th>\n",
       "      <td>U1001</td>\n",
       "      <td>22.139997</td>\n",
       "      <td>-100.978803</td>\n",
       "      <td>false</td>\n",
       "      <td>abstemious</td>\n",
       "      <td>informal</td>\n",
       "      <td>family</td>\n",
       "      <td>on foot</td>\n",
       "      <td>single</td>\n",
       "      <td>independent</td>\n",
       "      <td>1989</td>\n",
       "      <td>variety</td>\n",
       "      <td>thrifty-protector</td>\n",
       "      <td>none</td>\n",
       "      <td>student</td>\n",
       "      <td>black</td>\n",
       "      <td>69</td>\n",
       "      <td>medium</td>\n",
       "      <td>1.77</td>\n",
       "    </tr>\n",
       "    <tr>\n",
       "      <th>1</th>\n",
       "      <td>U1002</td>\n",
       "      <td>22.150087</td>\n",
       "      <td>-100.983325</td>\n",
       "      <td>false</td>\n",
       "      <td>abstemious</td>\n",
       "      <td>informal</td>\n",
       "      <td>family</td>\n",
       "      <td>public</td>\n",
       "      <td>single</td>\n",
       "      <td>independent</td>\n",
       "      <td>1990</td>\n",
       "      <td>technology</td>\n",
       "      <td>hunter-ostentatious</td>\n",
       "      <td>Catholic</td>\n",
       "      <td>student</td>\n",
       "      <td>red</td>\n",
       "      <td>40</td>\n",
       "      <td>low</td>\n",
       "      <td>1.87</td>\n",
       "    </tr>\n",
       "    <tr>\n",
       "      <th>2</th>\n",
       "      <td>U1003</td>\n",
       "      <td>22.119847</td>\n",
       "      <td>-100.946527</td>\n",
       "      <td>false</td>\n",
       "      <td>social drinker</td>\n",
       "      <td>formal</td>\n",
       "      <td>family</td>\n",
       "      <td>public</td>\n",
       "      <td>single</td>\n",
       "      <td>independent</td>\n",
       "      <td>1989</td>\n",
       "      <td>none</td>\n",
       "      <td>hard-worker</td>\n",
       "      <td>Catholic</td>\n",
       "      <td>student</td>\n",
       "      <td>blue</td>\n",
       "      <td>60</td>\n",
       "      <td>low</td>\n",
       "      <td>1.69</td>\n",
       "    </tr>\n",
       "    <tr>\n",
       "      <th>3</th>\n",
       "      <td>U1004</td>\n",
       "      <td>18.867000</td>\n",
       "      <td>-99.183000</td>\n",
       "      <td>false</td>\n",
       "      <td>abstemious</td>\n",
       "      <td>informal</td>\n",
       "      <td>family</td>\n",
       "      <td>public</td>\n",
       "      <td>single</td>\n",
       "      <td>independent</td>\n",
       "      <td>1940</td>\n",
       "      <td>variety</td>\n",
       "      <td>hard-worker</td>\n",
       "      <td>none</td>\n",
       "      <td>professional</td>\n",
       "      <td>green</td>\n",
       "      <td>44</td>\n",
       "      <td>medium</td>\n",
       "      <td>1.53</td>\n",
       "    </tr>\n",
       "    <tr>\n",
       "      <th>4</th>\n",
       "      <td>U1005</td>\n",
       "      <td>22.183477</td>\n",
       "      <td>-100.959891</td>\n",
       "      <td>false</td>\n",
       "      <td>abstemious</td>\n",
       "      <td>no preference</td>\n",
       "      <td>family</td>\n",
       "      <td>public</td>\n",
       "      <td>single</td>\n",
       "      <td>independent</td>\n",
       "      <td>1992</td>\n",
       "      <td>none</td>\n",
       "      <td>thrifty-protector</td>\n",
       "      <td>Catholic</td>\n",
       "      <td>student</td>\n",
       "      <td>black</td>\n",
       "      <td>65</td>\n",
       "      <td>medium</td>\n",
       "      <td>1.69</td>\n",
       "    </tr>\n",
       "  </tbody>\n",
       "</table>\n",
       "</div>"
      ],
      "text/plain": [
       "  userID   latitude   longitude smoker     drink_level dress_preference  \\\n",
       "0  U1001  22.139997 -100.978803  false      abstemious         informal   \n",
       "1  U1002  22.150087 -100.983325  false      abstemious         informal   \n",
       "2  U1003  22.119847 -100.946527  false  social drinker           formal   \n",
       "3  U1004  18.867000  -99.183000  false      abstemious         informal   \n",
       "4  U1005  22.183477 -100.959891  false      abstemious    no preference   \n",
       "\n",
       "  ambience transport marital_status        hijos  birth_year    interest  \\\n",
       "0   family   on foot         single  independent        1989     variety   \n",
       "1   family    public         single  independent        1990  technology   \n",
       "2   family    public         single  independent        1989        none   \n",
       "3   family    public         single  independent        1940     variety   \n",
       "4   family    public         single  independent        1992        none   \n",
       "\n",
       "           personality  religion      activity  color  weight  budget  height  \n",
       "0    thrifty-protector      none       student  black      69  medium    1.77  \n",
       "1  hunter-ostentatious  Catholic       student    red      40     low    1.87  \n",
       "2          hard-worker  Catholic       student   blue      60     low    1.69  \n",
       "3          hard-worker      none  professional  green      44  medium    1.53  \n",
       "4    thrifty-protector  Catholic       student  black      65  medium    1.69  "
      ]
     },
     "execution_count": 10,
     "metadata": {},
     "output_type": "execute_result"
    }
   ],
   "source": [
    "udfpro = pd.read_csv(PATH+'userprofile.csv')\n",
    "udfpro.head()"
   ]
  },
  {
   "cell_type": "code",
   "execution_count": 11,
   "metadata": {
    "scrolled": true
   },
   "outputs": [
    {
     "data": {
      "text/html": [
       "<div>\n",
       "<style scoped>\n",
       "    .dataframe tbody tr th:only-of-type {\n",
       "        vertical-align: middle;\n",
       "    }\n",
       "\n",
       "    .dataframe tbody tr th {\n",
       "        vertical-align: top;\n",
       "    }\n",
       "\n",
       "    .dataframe thead th {\n",
       "        text-align: right;\n",
       "    }\n",
       "</style>\n",
       "<table border=\"1\" class=\"dataframe\">\n",
       "  <thead>\n",
       "    <tr style=\"text-align: right;\">\n",
       "      <th></th>\n",
       "      <th>userID</th>\n",
       "      <th>placeID</th>\n",
       "      <th>rating</th>\n",
       "      <th>food_rating</th>\n",
       "      <th>service_rating</th>\n",
       "    </tr>\n",
       "  </thead>\n",
       "  <tbody>\n",
       "    <tr>\n",
       "      <th>0</th>\n",
       "      <td>U1077</td>\n",
       "      <td>135085</td>\n",
       "      <td>2</td>\n",
       "      <td>2</td>\n",
       "      <td>2</td>\n",
       "    </tr>\n",
       "    <tr>\n",
       "      <th>1</th>\n",
       "      <td>U1077</td>\n",
       "      <td>135038</td>\n",
       "      <td>2</td>\n",
       "      <td>2</td>\n",
       "      <td>1</td>\n",
       "    </tr>\n",
       "    <tr>\n",
       "      <th>2</th>\n",
       "      <td>U1077</td>\n",
       "      <td>132825</td>\n",
       "      <td>2</td>\n",
       "      <td>2</td>\n",
       "      <td>2</td>\n",
       "    </tr>\n",
       "    <tr>\n",
       "      <th>3</th>\n",
       "      <td>U1077</td>\n",
       "      <td>135060</td>\n",
       "      <td>1</td>\n",
       "      <td>2</td>\n",
       "      <td>2</td>\n",
       "    </tr>\n",
       "    <tr>\n",
       "      <th>4</th>\n",
       "      <td>U1068</td>\n",
       "      <td>135104</td>\n",
       "      <td>1</td>\n",
       "      <td>1</td>\n",
       "      <td>2</td>\n",
       "    </tr>\n",
       "  </tbody>\n",
       "</table>\n",
       "</div>"
      ],
      "text/plain": [
       "  userID  placeID  rating  food_rating  service_rating\n",
       "0  U1077   135085       2            2               2\n",
       "1  U1077   135038       2            2               1\n",
       "2  U1077   132825       2            2               2\n",
       "3  U1077   135060       1            2               2\n",
       "4  U1068   135104       1            1               2"
      ]
     },
     "execution_count": 11,
     "metadata": {},
     "output_type": "execute_result"
    }
   ],
   "source": [
    "dfrat = pd.read_csv(PATH+'rating_final.csv')\n",
    "dfrat.head()"
   ]
  },
  {
   "cell_type": "code",
   "execution_count": 12,
   "metadata": {},
   "outputs": [
    {
     "data": {
      "text/html": [
       "<div>\n",
       "<style scoped>\n",
       "    .dataframe tbody tr th:only-of-type {\n",
       "        vertical-align: middle;\n",
       "    }\n",
       "\n",
       "    .dataframe tbody tr th {\n",
       "        vertical-align: top;\n",
       "    }\n",
       "\n",
       "    .dataframe thead th {\n",
       "        text-align: right;\n",
       "    }\n",
       "</style>\n",
       "<table border=\"1\" class=\"dataframe\">\n",
       "  <thead>\n",
       "    <tr style=\"text-align: right;\">\n",
       "      <th></th>\n",
       "      <th>placeID</th>\n",
       "      <th>hours</th>\n",
       "      <th>days</th>\n",
       "      <th>Rpayment</th>\n",
       "      <th>rcuisine</th>\n",
       "      <th>parking_lot</th>\n",
       "      <th>latitude</th>\n",
       "      <th>longitude</th>\n",
       "      <th>the_geom_meter</th>\n",
       "      <th>name</th>\n",
       "      <th>...</th>\n",
       "      <th>alcohol</th>\n",
       "      <th>smoking_area</th>\n",
       "      <th>dress_code</th>\n",
       "      <th>accessibility</th>\n",
       "      <th>price</th>\n",
       "      <th>url</th>\n",
       "      <th>Rambience</th>\n",
       "      <th>franchise</th>\n",
       "      <th>area</th>\n",
       "      <th>other_services</th>\n",
       "    </tr>\n",
       "  </thead>\n",
       "  <tbody>\n",
       "    <tr>\n",
       "      <th>0</th>\n",
       "      <td>135109</td>\n",
       "      <td>08:00-21:00;</td>\n",
       "      <td>Mon;Tue;Wed;Thu;Fri;</td>\n",
       "      <td>cash</td>\n",
       "      <td>Italian</td>\n",
       "      <td>none</td>\n",
       "      <td>18.921785</td>\n",
       "      <td>-99.235350</td>\n",
       "      <td>0101000020957F0000A6BF695F136F5AC1DADF87B20556...</td>\n",
       "      <td>Paniroles</td>\n",
       "      <td>...</td>\n",
       "      <td>Wine-Beer</td>\n",
       "      <td>not permitted</td>\n",
       "      <td>informal</td>\n",
       "      <td>no_accessibility</td>\n",
       "      <td>medium</td>\n",
       "      <td>?</td>\n",
       "      <td>quiet</td>\n",
       "      <td>f</td>\n",
       "      <td>closed</td>\n",
       "      <td>Internet</td>\n",
       "    </tr>\n",
       "    <tr>\n",
       "      <th>1</th>\n",
       "      <td>135109</td>\n",
       "      <td>08:00-21:00;</td>\n",
       "      <td>Sat;</td>\n",
       "      <td>cash</td>\n",
       "      <td>Italian</td>\n",
       "      <td>none</td>\n",
       "      <td>18.921785</td>\n",
       "      <td>-99.235350</td>\n",
       "      <td>0101000020957F0000A6BF695F136F5AC1DADF87B20556...</td>\n",
       "      <td>Paniroles</td>\n",
       "      <td>...</td>\n",
       "      <td>Wine-Beer</td>\n",
       "      <td>not permitted</td>\n",
       "      <td>informal</td>\n",
       "      <td>no_accessibility</td>\n",
       "      <td>medium</td>\n",
       "      <td>?</td>\n",
       "      <td>quiet</td>\n",
       "      <td>f</td>\n",
       "      <td>closed</td>\n",
       "      <td>Internet</td>\n",
       "    </tr>\n",
       "    <tr>\n",
       "      <th>2</th>\n",
       "      <td>135109</td>\n",
       "      <td>08:00-21:00;</td>\n",
       "      <td>Sun;</td>\n",
       "      <td>cash</td>\n",
       "      <td>Italian</td>\n",
       "      <td>none</td>\n",
       "      <td>18.921785</td>\n",
       "      <td>-99.235350</td>\n",
       "      <td>0101000020957F0000A6BF695F136F5AC1DADF87B20556...</td>\n",
       "      <td>Paniroles</td>\n",
       "      <td>...</td>\n",
       "      <td>Wine-Beer</td>\n",
       "      <td>not permitted</td>\n",
       "      <td>informal</td>\n",
       "      <td>no_accessibility</td>\n",
       "      <td>medium</td>\n",
       "      <td>?</td>\n",
       "      <td>quiet</td>\n",
       "      <td>f</td>\n",
       "      <td>closed</td>\n",
       "      <td>Internet</td>\n",
       "    </tr>\n",
       "    <tr>\n",
       "      <th>3</th>\n",
       "      <td>135106</td>\n",
       "      <td>18:00-23:30;</td>\n",
       "      <td>Mon;Tue;Wed;Thu;Fri;</td>\n",
       "      <td>cash</td>\n",
       "      <td>Mexican</td>\n",
       "      <td>none</td>\n",
       "      <td>22.149709</td>\n",
       "      <td>-100.976093</td>\n",
       "      <td>0101000020957F0000649D6F21634858C119AE9BF528A3...</td>\n",
       "      <td>El Rinc�n de San Francisco</td>\n",
       "      <td>...</td>\n",
       "      <td>Wine-Beer</td>\n",
       "      <td>only at bar</td>\n",
       "      <td>informal</td>\n",
       "      <td>partially</td>\n",
       "      <td>medium</td>\n",
       "      <td>?</td>\n",
       "      <td>familiar</td>\n",
       "      <td>f</td>\n",
       "      <td>open</td>\n",
       "      <td>none</td>\n",
       "    </tr>\n",
       "    <tr>\n",
       "      <th>4</th>\n",
       "      <td>135106</td>\n",
       "      <td>18:00-23:30;</td>\n",
       "      <td>Mon;Tue;Wed;Thu;Fri;</td>\n",
       "      <td>VISA</td>\n",
       "      <td>Mexican</td>\n",
       "      <td>none</td>\n",
       "      <td>22.149709</td>\n",
       "      <td>-100.976093</td>\n",
       "      <td>0101000020957F0000649D6F21634858C119AE9BF528A3...</td>\n",
       "      <td>El Rinc�n de San Francisco</td>\n",
       "      <td>...</td>\n",
       "      <td>Wine-Beer</td>\n",
       "      <td>only at bar</td>\n",
       "      <td>informal</td>\n",
       "      <td>partially</td>\n",
       "      <td>medium</td>\n",
       "      <td>?</td>\n",
       "      <td>familiar</td>\n",
       "      <td>f</td>\n",
       "      <td>open</td>\n",
       "      <td>none</td>\n",
       "    </tr>\n",
       "  </tbody>\n",
       "</table>\n",
       "<p>5 rows × 26 columns</p>\n",
       "</div>"
      ],
      "text/plain": [
       "   placeID         hours                  days Rpayment rcuisine parking_lot  \\\n",
       "0   135109  08:00-21:00;  Mon;Tue;Wed;Thu;Fri;     cash  Italian        none   \n",
       "1   135109  08:00-21:00;                  Sat;     cash  Italian        none   \n",
       "2   135109  08:00-21:00;                  Sun;     cash  Italian        none   \n",
       "3   135106  18:00-23:30;  Mon;Tue;Wed;Thu;Fri;     cash  Mexican        none   \n",
       "4   135106  18:00-23:30;  Mon;Tue;Wed;Thu;Fri;     VISA  Mexican        none   \n",
       "\n",
       "    latitude   longitude                                     the_geom_meter  \\\n",
       "0  18.921785  -99.235350  0101000020957F0000A6BF695F136F5AC1DADF87B20556...   \n",
       "1  18.921785  -99.235350  0101000020957F0000A6BF695F136F5AC1DADF87B20556...   \n",
       "2  18.921785  -99.235350  0101000020957F0000A6BF695F136F5AC1DADF87B20556...   \n",
       "3  22.149709 -100.976093  0101000020957F0000649D6F21634858C119AE9BF528A3...   \n",
       "4  22.149709 -100.976093  0101000020957F0000649D6F21634858C119AE9BF528A3...   \n",
       "\n",
       "                         name  ...    alcohol   smoking_area dress_code  \\\n",
       "0                   Paniroles  ...  Wine-Beer  not permitted   informal   \n",
       "1                   Paniroles  ...  Wine-Beer  not permitted   informal   \n",
       "2                   Paniroles  ...  Wine-Beer  not permitted   informal   \n",
       "3  El Rinc�n de San Francisco  ...  Wine-Beer    only at bar   informal   \n",
       "4  El Rinc�n de San Francisco  ...  Wine-Beer    only at bar   informal   \n",
       "\n",
       "      accessibility   price url Rambience franchise    area other_services  \n",
       "0  no_accessibility  medium   ?     quiet         f  closed       Internet  \n",
       "1  no_accessibility  medium   ?     quiet         f  closed       Internet  \n",
       "2  no_accessibility  medium   ?     quiet         f  closed       Internet  \n",
       "3         partially  medium   ?  familiar         f    open           none  \n",
       "4         partially  medium   ?  familiar         f    open           none  \n",
       "\n",
       "[5 rows x 26 columns]"
      ]
     },
     "execution_count": 12,
     "metadata": {},
     "output_type": "execute_result"
    }
   ],
   "source": [
    "df1 = pd.merge(dfhrs, dfacc, on='placeID', how='inner')\n",
    "df2 = pd.merge(df1, dfcui, on='placeID', how='inner')\n",
    "df3 = pd.merge(df2, dfpark, on='placeID', how='inner')\n",
    "df_chef = pd.merge(df3, dfgeo, on='placeID', how='inner')\n",
    "df_chef.head()"
   ]
  },
  {
   "cell_type": "code",
   "execution_count": 13,
   "metadata": {},
   "outputs": [
    {
     "data": {
      "text/html": [
       "<div>\n",
       "<style scoped>\n",
       "    .dataframe tbody tr th:only-of-type {\n",
       "        vertical-align: middle;\n",
       "    }\n",
       "\n",
       "    .dataframe tbody tr th {\n",
       "        vertical-align: top;\n",
       "    }\n",
       "\n",
       "    .dataframe thead th {\n",
       "        text-align: right;\n",
       "    }\n",
       "</style>\n",
       "<table border=\"1\" class=\"dataframe\">\n",
       "  <thead>\n",
       "    <tr style=\"text-align: right;\">\n",
       "      <th></th>\n",
       "      <th>userID</th>\n",
       "      <th>ucuisine</th>\n",
       "      <th>Upayment</th>\n",
       "      <th>latitude</th>\n",
       "      <th>longitude</th>\n",
       "      <th>smoker</th>\n",
       "      <th>drink_level</th>\n",
       "      <th>dress_preference</th>\n",
       "      <th>ambience</th>\n",
       "      <th>transport</th>\n",
       "      <th>...</th>\n",
       "      <th>hijos</th>\n",
       "      <th>birth_year</th>\n",
       "      <th>interest</th>\n",
       "      <th>personality</th>\n",
       "      <th>religion</th>\n",
       "      <th>activity</th>\n",
       "      <th>color</th>\n",
       "      <th>weight</th>\n",
       "      <th>budget</th>\n",
       "      <th>height</th>\n",
       "    </tr>\n",
       "  </thead>\n",
       "  <tbody>\n",
       "    <tr>\n",
       "      <th>0</th>\n",
       "      <td>U1001</td>\n",
       "      <td>American</td>\n",
       "      <td>cash</td>\n",
       "      <td>22.139997</td>\n",
       "      <td>-100.978803</td>\n",
       "      <td>false</td>\n",
       "      <td>abstemious</td>\n",
       "      <td>informal</td>\n",
       "      <td>family</td>\n",
       "      <td>on foot</td>\n",
       "      <td>...</td>\n",
       "      <td>independent</td>\n",
       "      <td>1989</td>\n",
       "      <td>variety</td>\n",
       "      <td>thrifty-protector</td>\n",
       "      <td>none</td>\n",
       "      <td>student</td>\n",
       "      <td>black</td>\n",
       "      <td>69</td>\n",
       "      <td>medium</td>\n",
       "      <td>1.77</td>\n",
       "    </tr>\n",
       "    <tr>\n",
       "      <th>1</th>\n",
       "      <td>U1002</td>\n",
       "      <td>Mexican</td>\n",
       "      <td>cash</td>\n",
       "      <td>22.150087</td>\n",
       "      <td>-100.983325</td>\n",
       "      <td>false</td>\n",
       "      <td>abstemious</td>\n",
       "      <td>informal</td>\n",
       "      <td>family</td>\n",
       "      <td>public</td>\n",
       "      <td>...</td>\n",
       "      <td>independent</td>\n",
       "      <td>1990</td>\n",
       "      <td>technology</td>\n",
       "      <td>hunter-ostentatious</td>\n",
       "      <td>Catholic</td>\n",
       "      <td>student</td>\n",
       "      <td>red</td>\n",
       "      <td>40</td>\n",
       "      <td>low</td>\n",
       "      <td>1.87</td>\n",
       "    </tr>\n",
       "    <tr>\n",
       "      <th>2</th>\n",
       "      <td>U1003</td>\n",
       "      <td>Mexican</td>\n",
       "      <td>cash</td>\n",
       "      <td>22.119847</td>\n",
       "      <td>-100.946527</td>\n",
       "      <td>false</td>\n",
       "      <td>social drinker</td>\n",
       "      <td>formal</td>\n",
       "      <td>family</td>\n",
       "      <td>public</td>\n",
       "      <td>...</td>\n",
       "      <td>independent</td>\n",
       "      <td>1989</td>\n",
       "      <td>none</td>\n",
       "      <td>hard-worker</td>\n",
       "      <td>Catholic</td>\n",
       "      <td>student</td>\n",
       "      <td>blue</td>\n",
       "      <td>60</td>\n",
       "      <td>low</td>\n",
       "      <td>1.69</td>\n",
       "    </tr>\n",
       "    <tr>\n",
       "      <th>3</th>\n",
       "      <td>U1004</td>\n",
       "      <td>Bakery</td>\n",
       "      <td>cash</td>\n",
       "      <td>18.867000</td>\n",
       "      <td>-99.183000</td>\n",
       "      <td>false</td>\n",
       "      <td>abstemious</td>\n",
       "      <td>informal</td>\n",
       "      <td>family</td>\n",
       "      <td>public</td>\n",
       "      <td>...</td>\n",
       "      <td>independent</td>\n",
       "      <td>1940</td>\n",
       "      <td>variety</td>\n",
       "      <td>hard-worker</td>\n",
       "      <td>none</td>\n",
       "      <td>professional</td>\n",
       "      <td>green</td>\n",
       "      <td>44</td>\n",
       "      <td>medium</td>\n",
       "      <td>1.53</td>\n",
       "    </tr>\n",
       "    <tr>\n",
       "      <th>4</th>\n",
       "      <td>U1004</td>\n",
       "      <td>Bakery</td>\n",
       "      <td>bank_debit_cards</td>\n",
       "      <td>18.867000</td>\n",
       "      <td>-99.183000</td>\n",
       "      <td>false</td>\n",
       "      <td>abstemious</td>\n",
       "      <td>informal</td>\n",
       "      <td>family</td>\n",
       "      <td>public</td>\n",
       "      <td>...</td>\n",
       "      <td>independent</td>\n",
       "      <td>1940</td>\n",
       "      <td>variety</td>\n",
       "      <td>hard-worker</td>\n",
       "      <td>none</td>\n",
       "      <td>professional</td>\n",
       "      <td>green</td>\n",
       "      <td>44</td>\n",
       "      <td>medium</td>\n",
       "      <td>1.53</td>\n",
       "    </tr>\n",
       "  </tbody>\n",
       "</table>\n",
       "<p>5 rows × 21 columns</p>\n",
       "</div>"
      ],
      "text/plain": [
       "  userID  ucuisine          Upayment   latitude   longitude smoker  \\\n",
       "0  U1001  American              cash  22.139997 -100.978803  false   \n",
       "1  U1002   Mexican              cash  22.150087 -100.983325  false   \n",
       "2  U1003   Mexican              cash  22.119847 -100.946527  false   \n",
       "3  U1004    Bakery              cash  18.867000  -99.183000  false   \n",
       "4  U1004    Bakery  bank_debit_cards  18.867000  -99.183000  false   \n",
       "\n",
       "      drink_level dress_preference ambience transport  ...        hijos  \\\n",
       "0      abstemious         informal   family   on foot  ...  independent   \n",
       "1      abstemious         informal   family    public  ...  independent   \n",
       "2  social drinker           formal   family    public  ...  independent   \n",
       "3      abstemious         informal   family    public  ...  independent   \n",
       "4      abstemious         informal   family    public  ...  independent   \n",
       "\n",
       "  birth_year    interest          personality  religion      activity  color  \\\n",
       "0       1989     variety    thrifty-protector      none       student  black   \n",
       "1       1990  technology  hunter-ostentatious  Catholic       student    red   \n",
       "2       1989        none          hard-worker  Catholic       student   blue   \n",
       "3       1940     variety          hard-worker      none  professional  green   \n",
       "4       1940     variety          hard-worker      none  professional  green   \n",
       "\n",
       "  weight  budget height  \n",
       "0     69  medium   1.77  \n",
       "1     40     low   1.87  \n",
       "2     60     low   1.69  \n",
       "3     44  medium   1.53  \n",
       "4     44  medium   1.53  \n",
       "\n",
       "[5 rows x 21 columns]"
      ]
     },
     "execution_count": 13,
     "metadata": {},
     "output_type": "execute_result"
    }
   ],
   "source": [
    "udf1 = pd.merge(udfcu, udfpay, on='userID', how='inner')\n",
    "df_user = pd.merge(udf1, udfpro, on='userID', how='inner')\n",
    "df_user.head()"
   ]
  },
  {
   "cell_type": "code",
   "execution_count": 14,
   "metadata": {
    "scrolled": true
   },
   "outputs": [
    {
     "data": {
      "text/html": [
       "<div>\n",
       "<style scoped>\n",
       "    .dataframe tbody tr th:only-of-type {\n",
       "        vertical-align: middle;\n",
       "    }\n",
       "\n",
       "    .dataframe tbody tr th {\n",
       "        vertical-align: top;\n",
       "    }\n",
       "\n",
       "    .dataframe thead th {\n",
       "        text-align: right;\n",
       "    }\n",
       "</style>\n",
       "<table border=\"1\" class=\"dataframe\">\n",
       "  <thead>\n",
       "    <tr style=\"text-align: right;\">\n",
       "      <th></th>\n",
       "      <th>userID</th>\n",
       "      <th>placeID</th>\n",
       "      <th>rating</th>\n",
       "      <th>food_rating</th>\n",
       "      <th>service_rating</th>\n",
       "      <th>ucuisine</th>\n",
       "      <th>Upayment</th>\n",
       "      <th>latitude_x</th>\n",
       "      <th>longitude_x</th>\n",
       "      <th>smoker</th>\n",
       "      <th>...</th>\n",
       "      <th>alcohol</th>\n",
       "      <th>smoking_area</th>\n",
       "      <th>dress_code</th>\n",
       "      <th>accessibility</th>\n",
       "      <th>price</th>\n",
       "      <th>url</th>\n",
       "      <th>Rambience</th>\n",
       "      <th>franchise</th>\n",
       "      <th>area</th>\n",
       "      <th>other_services</th>\n",
       "    </tr>\n",
       "  </thead>\n",
       "  <tbody>\n",
       "    <tr>\n",
       "      <th>0</th>\n",
       "      <td>U1077</td>\n",
       "      <td>135085</td>\n",
       "      <td>2</td>\n",
       "      <td>2</td>\n",
       "      <td>2</td>\n",
       "      <td>Mexican</td>\n",
       "      <td>VISA</td>\n",
       "      <td>22.156469</td>\n",
       "      <td>-100.98554</td>\n",
       "      <td>false</td>\n",
       "      <td>...</td>\n",
       "      <td>No_Alcohol_Served</td>\n",
       "      <td>not permitted</td>\n",
       "      <td>informal</td>\n",
       "      <td>no_accessibility</td>\n",
       "      <td>medium</td>\n",
       "      <td>?</td>\n",
       "      <td>familiar</td>\n",
       "      <td>f</td>\n",
       "      <td>closed</td>\n",
       "      <td>none</td>\n",
       "    </tr>\n",
       "    <tr>\n",
       "      <th>1</th>\n",
       "      <td>U1077</td>\n",
       "      <td>135085</td>\n",
       "      <td>2</td>\n",
       "      <td>2</td>\n",
       "      <td>2</td>\n",
       "      <td>Mexican</td>\n",
       "      <td>VISA</td>\n",
       "      <td>22.156469</td>\n",
       "      <td>-100.98554</td>\n",
       "      <td>false</td>\n",
       "      <td>...</td>\n",
       "      <td>No_Alcohol_Served</td>\n",
       "      <td>not permitted</td>\n",
       "      <td>informal</td>\n",
       "      <td>no_accessibility</td>\n",
       "      <td>medium</td>\n",
       "      <td>?</td>\n",
       "      <td>familiar</td>\n",
       "      <td>f</td>\n",
       "      <td>closed</td>\n",
       "      <td>none</td>\n",
       "    </tr>\n",
       "    <tr>\n",
       "      <th>2</th>\n",
       "      <td>U1077</td>\n",
       "      <td>135085</td>\n",
       "      <td>2</td>\n",
       "      <td>2</td>\n",
       "      <td>2</td>\n",
       "      <td>Mexican</td>\n",
       "      <td>VISA</td>\n",
       "      <td>22.156469</td>\n",
       "      <td>-100.98554</td>\n",
       "      <td>false</td>\n",
       "      <td>...</td>\n",
       "      <td>No_Alcohol_Served</td>\n",
       "      <td>not permitted</td>\n",
       "      <td>informal</td>\n",
       "      <td>no_accessibility</td>\n",
       "      <td>medium</td>\n",
       "      <td>?</td>\n",
       "      <td>familiar</td>\n",
       "      <td>f</td>\n",
       "      <td>closed</td>\n",
       "      <td>none</td>\n",
       "    </tr>\n",
       "    <tr>\n",
       "      <th>3</th>\n",
       "      <td>U1077</td>\n",
       "      <td>135085</td>\n",
       "      <td>2</td>\n",
       "      <td>2</td>\n",
       "      <td>2</td>\n",
       "      <td>Mexican</td>\n",
       "      <td>cash</td>\n",
       "      <td>22.156469</td>\n",
       "      <td>-100.98554</td>\n",
       "      <td>false</td>\n",
       "      <td>...</td>\n",
       "      <td>No_Alcohol_Served</td>\n",
       "      <td>not permitted</td>\n",
       "      <td>informal</td>\n",
       "      <td>no_accessibility</td>\n",
       "      <td>medium</td>\n",
       "      <td>?</td>\n",
       "      <td>familiar</td>\n",
       "      <td>f</td>\n",
       "      <td>closed</td>\n",
       "      <td>none</td>\n",
       "    </tr>\n",
       "    <tr>\n",
       "      <th>4</th>\n",
       "      <td>U1077</td>\n",
       "      <td>135085</td>\n",
       "      <td>2</td>\n",
       "      <td>2</td>\n",
       "      <td>2</td>\n",
       "      <td>Mexican</td>\n",
       "      <td>cash</td>\n",
       "      <td>22.156469</td>\n",
       "      <td>-100.98554</td>\n",
       "      <td>false</td>\n",
       "      <td>...</td>\n",
       "      <td>No_Alcohol_Served</td>\n",
       "      <td>not permitted</td>\n",
       "      <td>informal</td>\n",
       "      <td>no_accessibility</td>\n",
       "      <td>medium</td>\n",
       "      <td>?</td>\n",
       "      <td>familiar</td>\n",
       "      <td>f</td>\n",
       "      <td>closed</td>\n",
       "      <td>none</td>\n",
       "    </tr>\n",
       "    <tr>\n",
       "      <th>...</th>\n",
       "      <td>...</td>\n",
       "      <td>...</td>\n",
       "      <td>...</td>\n",
       "      <td>...</td>\n",
       "      <td>...</td>\n",
       "      <td>...</td>\n",
       "      <td>...</td>\n",
       "      <td>...</td>\n",
       "      <td>...</td>\n",
       "      <td>...</td>\n",
       "      <td>...</td>\n",
       "      <td>...</td>\n",
       "      <td>...</td>\n",
       "      <td>...</td>\n",
       "      <td>...</td>\n",
       "      <td>...</td>\n",
       "      <td>...</td>\n",
       "      <td>...</td>\n",
       "      <td>...</td>\n",
       "      <td>...</td>\n",
       "      <td>...</td>\n",
       "    </tr>\n",
       "    <tr>\n",
       "      <th>26404</th>\n",
       "      <td>U1086</td>\n",
       "      <td>132937</td>\n",
       "      <td>2</td>\n",
       "      <td>0</td>\n",
       "      <td>1</td>\n",
       "      <td>Italian</td>\n",
       "      <td>bank_debit_cards</td>\n",
       "      <td>22.157281</td>\n",
       "      <td>-100.98444</td>\n",
       "      <td>false</td>\n",
       "      <td>...</td>\n",
       "      <td>Full_Bar</td>\n",
       "      <td>section</td>\n",
       "      <td>informal</td>\n",
       "      <td>completely</td>\n",
       "      <td>low</td>\n",
       "      <td>?</td>\n",
       "      <td>quiet</td>\n",
       "      <td>f</td>\n",
       "      <td>closed</td>\n",
       "      <td>variety</td>\n",
       "    </tr>\n",
       "    <tr>\n",
       "      <th>26405</th>\n",
       "      <td>U1086</td>\n",
       "      <td>132937</td>\n",
       "      <td>2</td>\n",
       "      <td>0</td>\n",
       "      <td>1</td>\n",
       "      <td>Italian</td>\n",
       "      <td>bank_debit_cards</td>\n",
       "      <td>22.157281</td>\n",
       "      <td>-100.98444</td>\n",
       "      <td>false</td>\n",
       "      <td>...</td>\n",
       "      <td>Full_Bar</td>\n",
       "      <td>section</td>\n",
       "      <td>informal</td>\n",
       "      <td>completely</td>\n",
       "      <td>low</td>\n",
       "      <td>?</td>\n",
       "      <td>quiet</td>\n",
       "      <td>f</td>\n",
       "      <td>closed</td>\n",
       "      <td>variety</td>\n",
       "    </tr>\n",
       "    <tr>\n",
       "      <th>26406</th>\n",
       "      <td>U1086</td>\n",
       "      <td>132937</td>\n",
       "      <td>2</td>\n",
       "      <td>0</td>\n",
       "      <td>1</td>\n",
       "      <td>Italian</td>\n",
       "      <td>cash</td>\n",
       "      <td>22.157281</td>\n",
       "      <td>-100.98444</td>\n",
       "      <td>false</td>\n",
       "      <td>...</td>\n",
       "      <td>Full_Bar</td>\n",
       "      <td>section</td>\n",
       "      <td>informal</td>\n",
       "      <td>completely</td>\n",
       "      <td>low</td>\n",
       "      <td>?</td>\n",
       "      <td>quiet</td>\n",
       "      <td>f</td>\n",
       "      <td>closed</td>\n",
       "      <td>variety</td>\n",
       "    </tr>\n",
       "    <tr>\n",
       "      <th>26407</th>\n",
       "      <td>U1086</td>\n",
       "      <td>132937</td>\n",
       "      <td>2</td>\n",
       "      <td>0</td>\n",
       "      <td>1</td>\n",
       "      <td>Italian</td>\n",
       "      <td>cash</td>\n",
       "      <td>22.157281</td>\n",
       "      <td>-100.98444</td>\n",
       "      <td>false</td>\n",
       "      <td>...</td>\n",
       "      <td>Full_Bar</td>\n",
       "      <td>section</td>\n",
       "      <td>informal</td>\n",
       "      <td>completely</td>\n",
       "      <td>low</td>\n",
       "      <td>?</td>\n",
       "      <td>quiet</td>\n",
       "      <td>f</td>\n",
       "      <td>closed</td>\n",
       "      <td>variety</td>\n",
       "    </tr>\n",
       "    <tr>\n",
       "      <th>26408</th>\n",
       "      <td>U1086</td>\n",
       "      <td>132937</td>\n",
       "      <td>2</td>\n",
       "      <td>0</td>\n",
       "      <td>1</td>\n",
       "      <td>Italian</td>\n",
       "      <td>cash</td>\n",
       "      <td>22.157281</td>\n",
       "      <td>-100.98444</td>\n",
       "      <td>false</td>\n",
       "      <td>...</td>\n",
       "      <td>Full_Bar</td>\n",
       "      <td>section</td>\n",
       "      <td>informal</td>\n",
       "      <td>completely</td>\n",
       "      <td>low</td>\n",
       "      <td>?</td>\n",
       "      <td>quiet</td>\n",
       "      <td>f</td>\n",
       "      <td>closed</td>\n",
       "      <td>variety</td>\n",
       "    </tr>\n",
       "  </tbody>\n",
       "</table>\n",
       "<p>26409 rows × 50 columns</p>\n",
       "</div>"
      ],
      "text/plain": [
       "      userID  placeID  rating  food_rating  service_rating ucuisine  \\\n",
       "0      U1077   135085       2            2               2  Mexican   \n",
       "1      U1077   135085       2            2               2  Mexican   \n",
       "2      U1077   135085       2            2               2  Mexican   \n",
       "3      U1077   135085       2            2               2  Mexican   \n",
       "4      U1077   135085       2            2               2  Mexican   \n",
       "...      ...      ...     ...          ...             ...      ...   \n",
       "26404  U1086   132937       2            0               1  Italian   \n",
       "26405  U1086   132937       2            0               1  Italian   \n",
       "26406  U1086   132937       2            0               1  Italian   \n",
       "26407  U1086   132937       2            0               1  Italian   \n",
       "26408  U1086   132937       2            0               1  Italian   \n",
       "\n",
       "               Upayment  latitude_x  longitude_x smoker  ...  \\\n",
       "0                  VISA   22.156469   -100.98554  false  ...   \n",
       "1                  VISA   22.156469   -100.98554  false  ...   \n",
       "2                  VISA   22.156469   -100.98554  false  ...   \n",
       "3                  cash   22.156469   -100.98554  false  ...   \n",
       "4                  cash   22.156469   -100.98554  false  ...   \n",
       "...                 ...         ...          ...    ...  ...   \n",
       "26404  bank_debit_cards   22.157281   -100.98444  false  ...   \n",
       "26405  bank_debit_cards   22.157281   -100.98444  false  ...   \n",
       "26406              cash   22.157281   -100.98444  false  ...   \n",
       "26407              cash   22.157281   -100.98444  false  ...   \n",
       "26408              cash   22.157281   -100.98444  false  ...   \n",
       "\n",
       "                 alcohol   smoking_area dress_code     accessibility   price  \\\n",
       "0      No_Alcohol_Served  not permitted   informal  no_accessibility  medium   \n",
       "1      No_Alcohol_Served  not permitted   informal  no_accessibility  medium   \n",
       "2      No_Alcohol_Served  not permitted   informal  no_accessibility  medium   \n",
       "3      No_Alcohol_Served  not permitted   informal  no_accessibility  medium   \n",
       "4      No_Alcohol_Served  not permitted   informal  no_accessibility  medium   \n",
       "...                  ...            ...        ...               ...     ...   \n",
       "26404           Full_Bar        section   informal        completely     low   \n",
       "26405           Full_Bar        section   informal        completely     low   \n",
       "26406           Full_Bar        section   informal        completely     low   \n",
       "26407           Full_Bar        section   informal        completely     low   \n",
       "26408           Full_Bar        section   informal        completely     low   \n",
       "\n",
       "      url  Rambience franchise    area other_services  \n",
       "0       ?   familiar         f  closed           none  \n",
       "1       ?   familiar         f  closed           none  \n",
       "2       ?   familiar         f  closed           none  \n",
       "3       ?   familiar         f  closed           none  \n",
       "4       ?   familiar         f  closed           none  \n",
       "...    ..        ...       ...     ...            ...  \n",
       "26404   ?      quiet         f  closed        variety  \n",
       "26405   ?      quiet         f  closed        variety  \n",
       "26406   ?      quiet         f  closed        variety  \n",
       "26407   ?      quiet         f  closed        variety  \n",
       "26408   ?      quiet         f  closed        variety  \n",
       "\n",
       "[26409 rows x 50 columns]"
      ]
     },
     "execution_count": 14,
     "metadata": {},
     "output_type": "execute_result"
    }
   ],
   "source": [
    "df1 = pd.merge(dfrat, df_user, on='userID', how='inner')\n",
    "df = pd.merge(df1, df_chef, on='placeID', how='inner')\n",
    "df"
   ]
  },
  {
   "cell_type": "markdown",
   "metadata": {},
   "source": [
    "## Exploratory Data Analysis and Feature Engineering"
   ]
  },
  {
   "cell_type": "markdown",
   "metadata": {},
   "source": [
    "It is true that most people analyse the entire data before engineering any features. But this dataset can have us engiineer some features along the way. Let's see how..."
   ]
  },
  {
   "cell_type": "code",
   "execution_count": 15,
   "metadata": {},
   "outputs": [
    {
     "name": "stdout",
     "output_type": "stream",
     "text": [
      "Index(['userID', 'placeID', 'rating', 'food_rating', 'service_rating',\n",
      "       'ucuisine', 'Upayment', 'latitude_x', 'longitude_x', 'smoker',\n",
      "       'drink_level', 'dress_preference', 'ambience', 'transport',\n",
      "       'marital_status', 'hijos', 'birth_year', 'interest', 'personality',\n",
      "       'religion', 'activity', 'color', 'weight', 'budget', 'height', 'hours',\n",
      "       'days', 'Rpayment', 'rcuisine', 'parking_lot', 'latitude_y',\n",
      "       'longitude_y', 'the_geom_meter', 'name', 'address', 'city', 'state',\n",
      "       'country', 'fax', 'zip', 'alcohol', 'smoking_area', 'dress_code',\n",
      "       'accessibility', 'price', 'url', 'Rambience', 'franchise', 'area',\n",
      "       'other_services'],\n",
      "      dtype='object')\n"
     ]
    }
   ],
   "source": [
    "print(df.columns)"
   ]
  },
  {
   "cell_type": "code",
   "execution_count": 16,
   "metadata": {},
   "outputs": [
    {
     "data": {
      "text/plain": [
       "array(['?'], dtype=object)"
      ]
     },
     "execution_count": 16,
     "metadata": {},
     "output_type": "execute_result"
    }
   ],
   "source": [
    "df['fax'].unique()"
   ]
  },
  {
   "cell_type": "code",
   "execution_count": 17,
   "metadata": {
    "scrolled": true
   },
   "outputs": [
    {
     "data": {
      "text/plain": [
       "array(['0101000020957F00009F823DA6094858C18A2D4D37F9A44B41',\n",
       "       '0101000020957F00001AD016568C4858C1243261274BA54B41',\n",
       "       '0101000020957F00004C95C918394758C17A5C44896AA34B41',\n",
       "       '0101000020957F000087BEDDE8D24858C1B20CDB33DBA24B41',\n",
       "       '0101000020957F00007CDF5EAFC58157C1645743B23E4F4941',\n",
       "       '0101000020957F000027A30471EE8157C1AC17D61EC84E4941',\n",
       "       '0101000020957F00008A20E615808157C16272FECBF84F4941',\n",
       "       '0101000020957F0000F2F4110CF28157C1DCFD7C1BA04D4941',\n",
       "       '0101000020957F00003AE4C6DBF48157C1CE38ECC1864E4941',\n",
       "       '0101000020957F000048C65BA7EF8157C177F2344D664E4941',\n",
       "       '0101000020957F0000FC60BDA8E88157C1B2C357D6DA4E4941',\n",
       "       '0101000020957F00008EBA2D06DC8157C194E03B7B504E4941',\n",
       "       '0101000020957F00005D67BCDDED8157C1222A2DC8D84D4941',\n",
       "       '0101000020957F0000E14AD4DBC7765AC1F7B33C85B1534A41',\n",
       "       '0101000020957F000000DD3546816E5AC119D4BD17FD544A41',\n",
       "       '0101000020957F0000A15C8F5FF78057C1C93CEA9E0A4E4941',\n",
       "       '0101000020957F0000A478418BBA8057C133851EB22C4E4941',\n",
       "       '0101000020957F00004609B96F198557C11973490A874D4941',\n",
       "       '0101000020957F0000B21C3F6C5E8557C188ACCF0A444B4941',\n",
       "       '0101000020957F0000E3A742BFC14D58C1F4E529A7F3914B41',\n",
       "       '0101000020957F0000B230F8670C4E58C1D590A2700F8F4B41',\n",
       "       '0101000020957F000013871838EC4A58C1B5DF74F8E3964B41',\n",
       "       '0101000020957F0000550FC1FC854A58C16D7D4E35F8974B41',\n",
       "       '0101000020957F000011E92CCE714B58C19BF8C0CA75924B41',\n",
       "       '0101000020957F0000BC62C18D1F4B58C169E0A959C8944B41',\n",
       "       '0101000020957F0000C74DE39C7F4B58C1061F291714984B41',\n",
       "       '0101000020957F0000AA7883ADD88457C1FA651328BA464941',\n",
       "       '0101000020957F00000F14BF6B2C8657C1963CCB8E5C464941',\n",
       "       '0101000020957F000026D92BB4894858C161A7552DA2B04B41',\n",
       "       '0101000020957F0000B366C9254B4758C191987F9CAEAF4B41',\n",
       "       '0101000020957F000011DFB4E3EE4858C13F78758452AB4B41',\n",
       "       '0101000020957F00005D19BF45294958C18FF7F8E260A84B41',\n",
       "       '0101000020957F00005DAD35642E4958C11BBCDE4A02B34B41',\n",
       "       '0101000020957F0000E7B79B1DB94758C1D29BC363D8AA4B41',\n",
       "       '0101000020957F0000CDA37BD8BD4758C1F4FBE3D2D7A94B41',\n",
       "       '0101000020957F000026CADE45A14658C1F011EBCA55AF4B41',\n",
       "       '0101000020957F0000C8B62F9EFF4858C14FA6C296B9A94B41',\n",
       "       '0101000020957F0000332AE8AF824958C15A4195A82CA84B41',\n",
       "       '0101000020957F0000B4F00BDD8B4858C10AC3619C83A64B41',\n",
       "       '0101000020957F000017D69FF5084858C1A8F2188740A24B41',\n",
       "       '0101000020957F0000FA1A0E5A9B4858C17C884C4173AE4B41',\n",
       "       '0101000020957F0000EB71019D424558C15CC5404365A94B41',\n",
       "       '0101000020957F0000DEF36F4FC76A5AC162B083D9A0544A41',\n",
       "       '0101000020957F0000C015D38251795AC1D8D396893A554A41',\n",
       "       '0101000020957F00001672C2C435775AC1F69BF2EF0D424A41',\n",
       "       '0101000020957F0000A6BF695F136F5AC1DADF87B205564A41',\n",
       "       '0101000020957F00005645259D836D5AC11EF994E27F514A41',\n",
       "       '0101000020957F000043A319BA06715AC19443369877554A41',\n",
       "       '0101000020957F0000B1F935F9FA775AC1D06DFD1017514A41',\n",
       "       '0101000020957F0000C7080D105C4858C108B4006AB4A34B41',\n",
       "       '0101000020957F0000649D6F21634858C119AE9BF528A34B41',\n",
       "       '0101000020957F00008032636EEC4858C16CDF265038AA4B41',\n",
       "       '0101000020957F00002493B678494858C1AD55D2316BA74B41',\n",
       "       '0101000020957F0000C66BB014FC4658C17CFE8D93D2A14B41',\n",
       "       '0101000020957F0000B3C05AB5E54258C180F99573E7AB4B41',\n",
       "       '0101000020957F000095669021894958C182C9C10E669D4B41',\n",
       "       '0101000020957F000038E5D546B74A58C18FD29AD0D29A4B41',\n",
       "       '0101000020957F0000B72147F1274858C189A406ED75A34B41',\n",
       "       '0101000020957F00006B9D7207BE4358C12419118D05984B41',\n",
       "       '0101000020957F000040D5CE4E014958C177DC62AE09A34B41',\n",
       "       '0101000020957F0000C57C76034C4858C10E437A7E15A74B41',\n",
       "       '0101000020957F000005810F19B84858C136805B2745A74B41',\n",
       "       '0101000020957F00009FF49E27C04658C1BA8689941CA94B41',\n",
       "       '0101000020957F00006610DA0F9F4758C12ED00BA771AC4B41',\n",
       "       '0101000020957F0000D2002719234858C1CC7A9FC186A34B41',\n",
       "       '0101000020957F0000C1B7D30B2C4858C1CE557111A5A24B41',\n",
       "       '0101000020957F00007768135A174758C155D318CB73A54B41',\n",
       "       '0101000020957F0000AF95272CF14758C165B2F91238A64B41',\n",
       "       '0101000020957F0000D010A853D34858C116A1EA51CAA24B41',\n",
       "       '0101000020957F000065D51EE7724A58C1B688A454109A4B41',\n",
       "       '0101000020957F0000F78F04596C4658C1C151AA1AEFA54B41',\n",
       "       '0101000020957F000068BE7C87C24758C1920A360A08AD4B41',\n",
       "       '0101000020957F000049095EB34A4858C15CB4BD1EE1AB4B41',\n",
       "       '0101000020957F0000FEC3FB453E4B58C19B4A463617994B41',\n",
       "       '0101000020957F0000608CF6D8474C58C1DBF7C50028994B41',\n",
       "       '0101000020957F000074BBAF047E4758C1424B73C701AF4B41',\n",
       "       '0101000020957F0000BAC859A0634758C1C3E84FCAA5A54B41',\n",
       "       '0101000020957F0000942C3434384458C1C2D3499804A74B41',\n",
       "       '0101000020957F00004DDB874CD24758C1F29E91E259AF4B41',\n",
       "       '0101000020957F00006376BB64EF4758C1013687E5D7A64B41',\n",
       "       '0101000020957F00008A2A0747DE4758C11EB31D2A31A84B41',\n",
       "       '0101000020957F0000B1DA6F2D504458C112A26CA45B9C4B41',\n",
       "       '0101000020957F00001EF62687CD4758C1BE336F4EFAA24B41',\n",
       "       '0101000020957F000060A98A38FF4758C146718E41D9A44B41',\n",
       "       '0101000020957F0000F9F19DDC3B4858C191B265A83BA44B41'], dtype=object)"
      ]
     },
     "execution_count": 17,
     "metadata": {},
     "output_type": "execute_result"
    }
   ],
   "source": [
    "df['the_geom_meter'].unique()"
   ]
  },
  {
   "cell_type": "code",
   "execution_count": 18,
   "metadata": {},
   "outputs": [
    {
     "data": {
      "text/plain": [
       "array(['San Luis Potosi', 's.l.p.', '?', 'Ciudad Victoria', 'Cd Victoria',\n",
       "       'victoria', 'victoria ', 'Cuernavaca', 'cuernavaca',\n",
       "       'san luis potosi', 'Cd. Victoria', 'Jiutepec', 'Soledad',\n",
       "       'san luis potosi ', 'san luis potos', 's.l.p'], dtype=object)"
      ]
     },
     "execution_count": 18,
     "metadata": {},
     "output_type": "execute_result"
    }
   ],
   "source": [
    "df['city'].unique()"
   ]
  },
  {
   "cell_type": "code",
   "execution_count": 19,
   "metadata": {},
   "outputs": [
    {
     "data": {
      "text/plain": [
       "array(['SLP', 's.l.p.', '?', 'Tamaulipas', 'tamaulipas', 'Morelos',\n",
       "       'morelos', 'san luis potosi', 'San Luis Potosi', 'S.L.P.', 'slp',\n",
       "       'mexico', 'san luis potos'], dtype=object)"
      ]
     },
     "execution_count": 19,
     "metadata": {},
     "output_type": "execute_result"
    }
   ],
   "source": [
    "df['state'].unique()"
   ]
  },
  {
   "cell_type": "code",
   "execution_count": 20,
   "metadata": {},
   "outputs": [
    {
     "data": {
      "text/plain": [
       "array(['Mexico', 'mexico', '?'], dtype=object)"
      ]
     },
     "execution_count": 20,
     "metadata": {},
     "output_type": "execute_result"
    }
   ],
   "source": [
    "df['country'].unique()"
   ]
  },
  {
   "cell_type": "markdown",
   "metadata": {},
   "source": [
    "We can see that the same cities and states are being repeated mutiple times in certain places. We can also see that the only country is mexico. But, these columns are almost irrelevant and better to be dropped."
   ]
  },
  {
   "cell_type": "markdown",
   "metadata": {},
   "source": [
    "**Let's first drop all the irrelevant, less useful and less understandable columns to increase simplicity.**"
   ]
  },
  {
   "cell_type": "code",
   "execution_count": 21,
   "metadata": {},
   "outputs": [],
   "source": [
    "df.drop(columns=['userID', 'placeID', 'fax', 'the_geom_meter', 'hours', 'zip', 'name', 'state', 'country', 'city'], inplace=True)"
   ]
  },
  {
   "cell_type": "markdown",
   "metadata": {},
   "source": [
    "**Let us engineer Franchise, Accessiblity, Marital Status and Hijos (children)**"
   ]
  },
  {
   "cell_type": "code",
   "execution_count": 22,
   "metadata": {},
   "outputs": [
    {
     "data": {
      "text/plain": [
       "array(['f', 't'], dtype=object)"
      ]
     },
     "execution_count": 22,
     "metadata": {},
     "output_type": "execute_result"
    }
   ],
   "source": [
    "df['franchise'].unique()"
   ]
  },
  {
   "cell_type": "code",
   "execution_count": 23,
   "metadata": {},
   "outputs": [
    {
     "data": {
      "text/plain": [
       "array(['no_accessibility', 'completely', 'partially'], dtype=object)"
      ]
     },
     "execution_count": 23,
     "metadata": {},
     "output_type": "execute_result"
    }
   ],
   "source": [
    "df['accessibility'].unique()"
   ]
  },
  {
   "cell_type": "code",
   "execution_count": 24,
   "metadata": {},
   "outputs": [
    {
     "data": {
      "text/plain": [
       "array(['kids', 'independent', '?', 'dependent'], dtype=object)"
      ]
     },
     "execution_count": 24,
     "metadata": {},
     "output_type": "execute_result"
    }
   ],
   "source": [
    "df['hijos'].unique()"
   ]
  },
  {
   "cell_type": "code",
   "execution_count": 25,
   "metadata": {},
   "outputs": [
    {
     "data": {
      "text/plain": [
       "array(['married', 'single', 'widow', '?'], dtype=object)"
      ]
     },
     "execution_count": 25,
     "metadata": {},
     "output_type": "execute_result"
    }
   ],
   "source": [
    "df['marital_status'].unique()"
   ]
  },
  {
   "cell_type": "code",
   "execution_count": 26,
   "metadata": {},
   "outputs": [
    {
     "data": {
      "text/plain": [
       "array([1, 0], dtype=int64)"
      ]
     },
     "execution_count": 26,
     "metadata": {},
     "output_type": "execute_result"
    }
   ],
   "source": [
    "fr = []\n",
    "acc = []\n",
    "hij = []\n",
    "mar = []\n",
    "\n",
    "for i in range(len(df['franchise'])):\n",
    "    \n",
    "    if df['franchise'][i] == 'f':\n",
    "        fr.append(1)\n",
    "    \n",
    "    else:\n",
    "        fr.append(0)\n",
    "        \n",
    "for i in range(len(df['accessibility'])):\n",
    "        \n",
    "    if df['accessibility'][i][0] == 'n':\n",
    "        acc.append(-1)\n",
    "    \n",
    "    elif df['accessibility'][i][0] == 'p':\n",
    "        acc.append(0)\n",
    "        \n",
    "    else:\n",
    "        acc.append(1)\n",
    "        \n",
    "for i in range(len(df['marital_status'])):\n",
    "    \n",
    "    if df['marital_status'][i] == 'widow':\n",
    "        mar.append(-1)\n",
    "        \n",
    "    elif df['marital_status'][i] == 'single':\n",
    "        mar.append(1)\n",
    "        \n",
    "    elif df['marital_status'][i] == 'married':\n",
    "        mar.append(2)\n",
    "        \n",
    "    else:\n",
    "        mar.append(0)\n",
    "        \n",
    "for i in range(len(df['hijos'])):\n",
    "    \n",
    "    if df['hijos'][i][0] == 'k' or df['hijos'][i][0] == 'd':\n",
    "        hij.append(-1)\n",
    "        \n",
    "    elif df['hijos'][i][0] == 'i':\n",
    "        hij.append(1)\n",
    "        \n",
    "    else:\n",
    "        hij.append(0)\n",
    "    \n",
    "df['Franchise'] = fr\n",
    "df['Accessiblity'] = acc\n",
    "df['Children'] = hij\n",
    "df['Marital_status'] = mar\n",
    "df['Franchise'].unique()"
   ]
  },
  {
   "cell_type": "code",
   "execution_count": 27,
   "metadata": {},
   "outputs": [
    {
     "data": {
      "text/plain": [
       "array([-1,  1,  0], dtype=int64)"
      ]
     },
     "execution_count": 27,
     "metadata": {},
     "output_type": "execute_result"
    }
   ],
   "source": [
    "df['Accessiblity'].unique()"
   ]
  },
  {
   "cell_type": "code",
   "execution_count": 28,
   "metadata": {},
   "outputs": [
    {
     "data": {
      "text/plain": [
       "array([-1,  1,  0], dtype=int64)"
      ]
     },
     "execution_count": 28,
     "metadata": {},
     "output_type": "execute_result"
    }
   ],
   "source": [
    "df['Children'].unique()"
   ]
  },
  {
   "cell_type": "code",
   "execution_count": 29,
   "metadata": {},
   "outputs": [
    {
     "data": {
      "text/plain": [
       "array([ 2,  1, -1,  0], dtype=int64)"
      ]
     },
     "execution_count": 29,
     "metadata": {},
     "output_type": "execute_result"
    }
   ],
   "source": [
    "df['Marital_status'].unique()"
   ]
  },
  {
   "cell_type": "code",
   "execution_count": 30,
   "metadata": {},
   "outputs": [],
   "source": [
    "df.drop(columns=['franchise', 'accessibility', 'hijos', 'marital_status'], inplace=True)"
   ]
  },
  {
   "cell_type": "markdown",
   "metadata": {},
   "source": [
    "**Let us engineer the URLs and addresses**"
   ]
  },
  {
   "cell_type": "code",
   "execution_count": 31,
   "metadata": {},
   "outputs": [
    {
     "data": {
      "text/plain": [
       "array(['?', 'www.cenidet.edu.mx', 'reyecito.com', 'sushi-itto.com.mx',\n",
       "       'carlosandcharlies.com', 'eloceanodorado.com', 'lacantinaslp.com',\n",
       "       'lunacafe.com.mx'], dtype=object)"
      ]
     },
     "execution_count": 31,
     "metadata": {},
     "output_type": "execute_result"
    }
   ],
   "source": [
    "df['url'].unique()"
   ]
  },
  {
   "cell_type": "code",
   "execution_count": 32,
   "metadata": {
    "scrolled": true
   },
   "outputs": [
    {
     "data": {
      "text/plain": [
       "array(['Venustiano Carranza 719 Centro',\n",
       "       'esquina santos degollado y leon guzman',\n",
       "       'Ignacio Allende 785 Centro', 'Pascual M. Hernandez 240', '?',\n",
       "       'Calle Mezquite Fracc Framboyanes', 'frente al tecnologico',\n",
       "       'lic. Emilio portes gil', 'calle emilio portes gil',\n",
       "       'Interior Internado Palmira SN', 'avenida salvador montiel ',\n",
       "       'cd. mier', 'tampico', 'De La Estrella 2005 Estrella de Oriente',\n",
       "       'av. seminario', 'Ricardo B. Anaya',\n",
       "       'Ricardo B. Anaya 2700 Estrella de Oriente',\n",
       "       'Zaragoza entre Francisco Zarco y Lopez Velarde',\n",
       "       'Cordillera de Los Alpes 160 Lomas 2 Seccion',\n",
       "       'Agricultura 595 del Valle',\n",
       "       'Cordillera de Los Alpes 675 Loma Verde',\n",
       "       'Venustiano Carranza 1809 C Polanco',\n",
       "       'Venustiano Carranza 303 Centro', 'Av. de los Pintores',\n",
       "       'Himno Nacional 100 Avenida', 'Himno Nacional 2104 Tangamanga',\n",
       "       'Av. Carranza 830', 'Constitucion 200 Centro',\n",
       "       'Lateral Salvador Nava Martinez 3145', 'Munoz Sn Centro',\n",
       "       'Domingo 10 711 El Empleado',\n",
       "       'Libramiento Burgos Colonia Las Animas', 'Paseo de las Fuentes',\n",
       "       'Rio Mayo 17 Vista Hermosa', 'Himno nacional esq. Blvd. Juarez',\n",
       "       'Emiliano Zapata Col. Tres de Mayo', '1a. de Lozada 1',\n",
       "       'Universidad 169', 'Jesus Goytortua 390 Tangamanga',\n",
       "       'Cuauhtemoc 455', 'Tangamanga 7 Tangamanga',\n",
       "       'Satelite 606 Satelite', 'Costado Sur Central Camionera Km 2',\n",
       "       'Industrias 908 Valle Dorado', 'Ignacio Aldama 300 Centro',\n",
       "       '524 Soledad de Graciano Sanchez', 'Miguel Barragan 46 Centro',\n",
       "       'Anahuac 805', 'Santos Degollado 745 los Alamitos',\n",
       "       'Nereo Rodriguez Barragan 450 E Centro',\n",
       "       'Venustiano Carranza 2175 Jardin', 'Francisco I. Madero 215',\n",
       "       'Plaza del Carmen', 'sevilla y olmedo 715 a', 'Av. V. Carranza',\n",
       "       'Pascual M. Hernandez 210 Centro',\n",
       "       'circuito oriente esq. carretera 57', 'venustiano carranza',\n",
       "       'avenida hivno nacional', 'carr. mexico', 'Av. Coral',\n",
       "       'NICOLAS ZAPATA 300', 'Rio Papaloapan 265 Lomas de San Luis (3)',\n",
       "       'Av. Saan Luis enttre moctezuma y salinas', 'agustin de iturbide'],\n",
       "      dtype=object)"
      ]
     },
     "execution_count": 32,
     "metadata": {},
     "output_type": "execute_result"
    }
   ],
   "source": [
    "df['address'].unique()"
   ]
  },
  {
   "cell_type": "markdown",
   "metadata": {},
   "source": [
    "We can see that this dataset has URLs of a few restaurants. Now, the best thing to do woulld be make a feature which tells us whether a URL exists. Any more detail is almost irrelevant."
   ]
  },
  {
   "cell_type": "code",
   "execution_count": 33,
   "metadata": {},
   "outputs": [
    {
     "data": {
      "text/plain": [
       "array([0, 1], dtype=int64)"
      ]
     },
     "execution_count": 33,
     "metadata": {},
     "output_type": "execute_result"
    }
   ],
   "source": [
    "hasurl = []\n",
    "hasadr = []\n",
    "\n",
    "for i in range(len(df['url'])):\n",
    "    hasurl.append(int(df['url'][i] != '?'))\n",
    "    hasadr.append(int(df['address'][i] != '?'))\n",
    "    \n",
    "df['Has_url'] = hasurl\n",
    "df['Has_url'].unique()"
   ]
  },
  {
   "cell_type": "code",
   "execution_count": 34,
   "metadata": {},
   "outputs": [
    {
     "data": {
      "text/plain": [
       "array([1, 0], dtype=int64)"
      ]
     },
     "execution_count": 34,
     "metadata": {},
     "output_type": "execute_result"
    }
   ],
   "source": [
    "df['Has_address'] = hasadr\n",
    "df['Has_address'].unique()"
   ]
  },
  {
   "cell_type": "code",
   "execution_count": 35,
   "metadata": {},
   "outputs": [],
   "source": [
    "df = df.drop(columns=['url', 'address'])"
   ]
  },
  {
   "cell_type": "markdown",
   "metadata": {},
   "source": [
    "**Let us engineer the payment method**"
   ]
  },
  {
   "cell_type": "code",
   "execution_count": 36,
   "metadata": {},
   "outputs": [
    {
     "data": {
      "text/plain": [
       "array(['VISA', 'cash', 'bank_debit_cards', 'MasterCard-Eurocard',\n",
       "       'American_Express'], dtype=object)"
      ]
     },
     "execution_count": 36,
     "metadata": {},
     "output_type": "execute_result"
    }
   ],
   "source": [
    "df['Upayment'].unique()"
   ]
  },
  {
   "cell_type": "code",
   "execution_count": 37,
   "metadata": {},
   "outputs": [
    {
     "data": {
      "text/plain": [
       "array(['cash', 'VISA', 'MasterCard-Eurocard', 'American_Express',\n",
       "       'bank_debit_cards', 'Carte_Blanche'], dtype=object)"
      ]
     },
     "execution_count": 37,
     "metadata": {},
     "output_type": "execute_result"
    }
   ],
   "source": [
    "df['Rpayment'].unique()"
   ]
  },
  {
   "cell_type": "code",
   "execution_count": 38,
   "metadata": {},
   "outputs": [
    {
     "data": {
      "text/plain": [
       "array([0, 1], dtype=int64)"
      ]
     },
     "execution_count": 38,
     "metadata": {},
     "output_type": "execute_result"
    }
   ],
   "source": [
    "payment = []\n",
    "\n",
    "for i in range(len(df['Rpayment'])):\n",
    "    if df['Upayment'][i] == df['Rpayment'][i] or df['Upayment'][i] == 'cash':\n",
    "        payment.append(1)\n",
    "    else:\n",
    "        payment.append(0)\n",
    "        \n",
    "df['Payment_comfort'] = payment\n",
    "df['Payment_comfort'].unique()"
   ]
  },
  {
   "cell_type": "code",
   "execution_count": 39,
   "metadata": {},
   "outputs": [],
   "source": [
    "df = df.drop(columns=['Upayment', 'Rpayment'])"
   ]
  },
  {
   "cell_type": "markdown",
   "metadata": {},
   "source": [
    "**Let us engineer the smoking columns**"
   ]
  },
  {
   "cell_type": "code",
   "execution_count": 40,
   "metadata": {},
   "outputs": [
    {
     "data": {
      "text/plain": [
       "array(['false', 'true'], dtype=object)"
      ]
     },
     "execution_count": 40,
     "metadata": {},
     "output_type": "execute_result"
    }
   ],
   "source": [
    "df['smoker'].unique()"
   ]
  },
  {
   "cell_type": "code",
   "execution_count": 41,
   "metadata": {},
   "outputs": [
    {
     "data": {
      "text/plain": [
       "array(['not permitted', 'none', 'permitted', 'section', 'only at bar'],\n",
       "      dtype=object)"
      ]
     },
     "execution_count": 41,
     "metadata": {},
     "output_type": "execute_result"
    }
   ],
   "source": [
    "df['smoking_area'].unique()"
   ]
  },
  {
   "cell_type": "markdown",
   "metadata": {},
   "source": [
    "Next we target the smoking column. Here, if the person is a smoker and the area has a smoking area or smoking is permitted, we set it to 1. If the person is not a smoker, we set it to 0 and if the person is a smoker but there is no smoking area, we set it to -1."
   ]
  },
  {
   "cell_type": "code",
   "execution_count": 42,
   "metadata": {},
   "outputs": [
    {
     "data": {
      "text/plain": [
       "array([ 0, -1,  1], dtype=int64)"
      ]
     },
     "execution_count": 42,
     "metadata": {},
     "output_type": "execute_result"
    }
   ],
   "source": [
    "smkecomf = []\n",
    "\n",
    "for i in range(len(df['smoker'])):\n",
    "    \n",
    "    if df['smoker'][i] == 'true':\n",
    "        \n",
    "        if df['smoking_area'][i] == 'section' or df['smoking_area'][i] == 'permitted' or df['smoking_area'][i] == 'only at bar':\n",
    "            smkecomf.append(1)\n",
    "        \n",
    "        elif df['smoking_area'][i] == 'none':\n",
    "            smkecomf.append(0)\n",
    "        \n",
    "        else:\n",
    "            smkecomf.append(-1)\n",
    "    \n",
    "    else:\n",
    "        smkecomf.append(0)\n",
    "        \n",
    "df['Smoke_comfort'] = smkecomf\n",
    "df['Smoke_comfort'].unique()"
   ]
  },
  {
   "cell_type": "code",
   "execution_count": 43,
   "metadata": {},
   "outputs": [],
   "source": [
    "df = df.drop(columns=['smoking_area', 'smoker'])"
   ]
  },
  {
   "cell_type": "markdown",
   "metadata": {},
   "source": [
    "**Let us now engineer alcohol columns**"
   ]
  },
  {
   "cell_type": "code",
   "execution_count": 44,
   "metadata": {},
   "outputs": [
    {
     "data": {
      "text/plain": [
       "array(['No_Alcohol_Served', 'Wine-Beer', 'Full_Bar'], dtype=object)"
      ]
     },
     "execution_count": 44,
     "metadata": {},
     "output_type": "execute_result"
    }
   ],
   "source": [
    "df['alcohol'].unique()"
   ]
  },
  {
   "cell_type": "code",
   "execution_count": 45,
   "metadata": {},
   "outputs": [
    {
     "data": {
      "text/plain": [
       "array(['social drinker', 'abstemious', 'casual drinker'], dtype=object)"
      ]
     },
     "execution_count": 45,
     "metadata": {},
     "output_type": "execute_result"
    }
   ],
   "source": [
    "df['drink_level'].unique()"
   ]
  },
  {
   "cell_type": "markdown",
   "metadata": {},
   "source": [
    "We can see that there are different levels of drinkers. We can say that casual drinkers are the highest drinkers followed by social drinkers and then by abstemious. A Full bar is most liked by a social drinker while no alcohol is liked by abstemious. We can engineer a feature for drinking comfort by dividing the drink level column with alcohol column."
   ]
  },
  {
   "cell_type": "code",
   "execution_count": 46,
   "metadata": {},
   "outputs": [
    {
     "data": {
      "text/plain": [
       "array([1, 0, 2], dtype=int64)"
      ]
     },
     "execution_count": 46,
     "metadata": {},
     "output_type": "execute_result"
    }
   ],
   "source": [
    "drinkcomf = []\n",
    "\n",
    "for i in range(len(df['alcohol'])):\n",
    "    \n",
    "    dl = 0\n",
    "    al = 0\n",
    "    \n",
    "    if df['alcohol'][i][:2] == 'No':\n",
    "        al = 1\n",
    "    elif df['alcohol'][i][:2] == 'Wi':\n",
    "        al = 2        \n",
    "    elif df['alcohol'][i][:2] == 'Fu':\n",
    "        al = 3\n",
    "        \n",
    "    if df['drink_level'][i][:2] == 'ab':\n",
    "        dl = 1\n",
    "    elif df['drink_level'][i][:2] == 'so':\n",
    "        dl = 2\n",
    "    elif df['drink_level'][i][:2] == 'ca':\n",
    "        dl = 3\n",
    "        \n",
    "    com = dl-al\n",
    "    \n",
    "    if com < 0:\n",
    "        com = -com\n",
    "        \n",
    "    drinkcomf.append(com)\n",
    "\n",
    "df['Drink_comfort'] = drinkcomf\n",
    "df['Drink_comfort'].unique()"
   ]
  },
  {
   "cell_type": "code",
   "execution_count": 47,
   "metadata": {},
   "outputs": [],
   "source": [
    "df = df.drop(columns=['alcohol', 'drink_level'])"
   ]
  },
  {
   "cell_type": "markdown",
   "metadata": {},
   "source": [
    "**Let us engineer area**"
   ]
  },
  {
   "cell_type": "code",
   "execution_count": 48,
   "metadata": {},
   "outputs": [
    {
     "data": {
      "text/plain": [
       "array(['closed', 'open'], dtype=object)"
      ]
     },
     "execution_count": 48,
     "metadata": {},
     "output_type": "execute_result"
    }
   ],
   "source": [
    "df['area'].unique()"
   ]
  },
  {
   "cell_type": "code",
   "execution_count": 49,
   "metadata": {},
   "outputs": [
    {
     "data": {
      "text/plain": [
       "array([0, 1], dtype=int64)"
      ]
     },
     "execution_count": 49,
     "metadata": {},
     "output_type": "execute_result"
    }
   ],
   "source": [
    "ar = []\n",
    "\n",
    "for i in range(len(df['area'])):\n",
    "    \n",
    "    if df['area'][i][0] == 'o':\n",
    "        ar.append(1)\n",
    "        \n",
    "    else:\n",
    "        ar.append(0)\n",
    "        \n",
    "df['Area_open'] = ar\n",
    "df['Area_open'].unique()"
   ]
  },
  {
   "cell_type": "code",
   "execution_count": 50,
   "metadata": {},
   "outputs": [],
   "source": [
    "df = df.drop(columns=['area'])"
   ]
  },
  {
   "cell_type": "markdown",
   "metadata": {},
   "source": [
    "**Let us now engineer the dress code**"
   ]
  },
  {
   "cell_type": "code",
   "execution_count": 51,
   "metadata": {},
   "outputs": [
    {
     "data": {
      "text/plain": [
       "array(['elegant', 'informal', 'no preference', 'formal', '?'],\n",
       "      dtype=object)"
      ]
     },
     "execution_count": 51,
     "metadata": {},
     "output_type": "execute_result"
    }
   ],
   "source": [
    "df['dress_preference'].unique()"
   ]
  },
  {
   "cell_type": "code",
   "execution_count": 52,
   "metadata": {},
   "outputs": [
    {
     "data": {
      "text/plain": [
       "array(['informal', 'casual', 'formal'], dtype=object)"
      ]
     },
     "execution_count": 52,
     "metadata": {},
     "output_type": "execute_result"
    }
   ],
   "source": [
    "df['dress_code'].unique()"
   ]
  },
  {
   "cell_type": "markdown",
   "metadata": {},
   "source": [
    "If the person has no real preference or their preference is unkown, we can say that they will be nuetral. Also, elegant means they are fine with casual and formal. Finally, if the person wants to wear formal or informal, they will be uncomfortable with teh other. Thus, an uncomfortable person will get a negative value."
   ]
  },
  {
   "cell_type": "code",
   "execution_count": 53,
   "metadata": {},
   "outputs": [
    {
     "data": {
      "text/plain": [
       "array([ 0,  1, -1], dtype=int64)"
      ]
     },
     "execution_count": 53,
     "metadata": {},
     "output_type": "execute_result"
    }
   ],
   "source": [
    "dresscomf = []\n",
    "\n",
    "for i in range(len(df['dress_code'])):\n",
    "    \n",
    "    if df['dress_preference'][i] == '?' or df['dress_preference'][i] == 'no preference':\n",
    "        dresscomf.append(0)\n",
    "        \n",
    "    elif df['dress_preference'][i] == 'elegant':\n",
    "        if df['dress_code'][i] == 'informal':\n",
    "            dresscomf.append(0)\n",
    "        else:\n",
    "            dresscomf.append(1)\n",
    "\n",
    "    elif df['dress_preference'][i] == df['dress_code'][i]:\n",
    "        dresscomf.append(1)\n",
    "            \n",
    "    else:\n",
    "        dresscomf.append(-1)\n",
    "\n",
    "df['Dress_comfort'] = dresscomf\n",
    "df['Dress_comfort'].unique()"
   ]
  },
  {
   "cell_type": "code",
   "execution_count": 54,
   "metadata": {},
   "outputs": [],
   "source": [
    "df = df.drop(columns=['dress_preference', 'dress_code'])"
   ]
  },
  {
   "cell_type": "markdown",
   "metadata": {},
   "source": [
    "**Let us now engineer transportation and parking**"
   ]
  },
  {
   "cell_type": "code",
   "execution_count": 55,
   "metadata": {},
   "outputs": [
    {
     "data": {
      "text/plain": [
       "array(['public', 'on foot', 'car owner', '?'], dtype=object)"
      ]
     },
     "execution_count": 55,
     "metadata": {},
     "output_type": "execute_result"
    }
   ],
   "source": [
    "df['transport'].unique()"
   ]
  },
  {
   "cell_type": "code",
   "execution_count": 56,
   "metadata": {},
   "outputs": [
    {
     "data": {
      "text/plain": [
       "array(['public', 'none', 'yes', 'valet parking'], dtype=object)"
      ]
     },
     "execution_count": 56,
     "metadata": {},
     "output_type": "execute_result"
    }
   ],
   "source": [
    "df['parking_lot'].unique()"
   ]
  },
  {
   "cell_type": "markdown",
   "metadata": {},
   "source": [
    "If a person is on foot or uses public transport, they will be neutral to the presence or absence of a parking lot. But, if the person is a car owner, they would most prefer valet parking, followed by a parking lot. They would be neitral towrds public parking and will feel bad about not having a parking lot."
   ]
  },
  {
   "cell_type": "code",
   "execution_count": 57,
   "metadata": {},
   "outputs": [
    {
     "data": {
      "text/plain": [
       "array([ 0, -1,  1,  2], dtype=int64)"
      ]
     },
     "execution_count": 57,
     "metadata": {},
     "output_type": "execute_result"
    }
   ],
   "source": [
    "parkcomf = []\n",
    "\n",
    "for i in range(len(df['transport'])):\n",
    "    \n",
    "    if df['transport'][i] == 'public' or df['transport'][i] == '?' or df['transport'][i] == 'on foot':\n",
    "        parkcomf.append(0)\n",
    "        \n",
    "    elif df['transport'][i] == 'car owner':\n",
    "        \n",
    "        if df['parking_lot'][i] == 'none':\n",
    "            parkcomf.append(-1)\n",
    "        \n",
    "        elif df['parking_lot'][i] == 'public':\n",
    "            parkcomf.append(0)\n",
    "            \n",
    "        elif df['parking_lot'][i] == 'yes':\n",
    "            parkcomf.append(1)\n",
    "            \n",
    "        elif df['parking_lot'][i] == 'valet parking':\n",
    "            parkcomf.append(2)\n",
    "\n",
    "df['Parking_comfort'] = parkcomf\n",
    "df['Parking_comfort'].unique()"
   ]
  },
  {
   "cell_type": "code",
   "execution_count": 58,
   "metadata": {},
   "outputs": [],
   "source": [
    "df = df.drop(columns=['parking_lot', 'transport'])"
   ]
  },
  {
   "cell_type": "markdown",
   "metadata": {},
   "source": [
    "**Let us now engineer ambience**"
   ]
  },
  {
   "cell_type": "code",
   "execution_count": 59,
   "metadata": {},
   "outputs": [
    {
     "data": {
      "text/plain": [
       "array(['family', 'solitary', 'friends', '?'], dtype=object)"
      ]
     },
     "execution_count": 59,
     "metadata": {},
     "output_type": "execute_result"
    }
   ],
   "source": [
    "df['ambience'].unique()"
   ]
  },
  {
   "cell_type": "code",
   "execution_count": 60,
   "metadata": {},
   "outputs": [
    {
     "data": {
      "text/plain": [
       "array(['familiar', 'quiet'], dtype=object)"
      ]
     },
     "execution_count": 60,
     "metadata": {},
     "output_type": "execute_result"
    }
   ],
   "source": [
    "df['Rambience'].unique()"
   ]
  },
  {
   "cell_type": "code",
   "execution_count": 61,
   "metadata": {},
   "outputs": [
    {
     "data": {
      "text/plain": [
       "array([ 1, -1,  0], dtype=int64)"
      ]
     },
     "execution_count": 61,
     "metadata": {},
     "output_type": "execute_result"
    }
   ],
   "source": [
    "ambcomf = []\n",
    "\n",
    "for i in range(len(df['Rambience'])):\n",
    "    \n",
    "    if df['ambience'][i] == '?':\n",
    "        ambcomf.append(0)\n",
    "    \n",
    "    elif df['ambience'][i] == 'family' or df['ambience'][i] == 'friends':\n",
    "        \n",
    "        if df['Rambience'][i] == 'familiar':\n",
    "            ambcomf.append(1)\n",
    "            \n",
    "        elif df['Rambience'][i] == 'quiet':\n",
    "            ambcomf.append(-1)\n",
    "            \n",
    "    elif df['ambience'][i] == 'solitary':\n",
    "        \n",
    "        if df['Rambience'][i] == 'familiar':\n",
    "            ambcomf.append(-1)\n",
    "            \n",
    "        elif df['Rambience'][i] == 'quiet':\n",
    "            ambcomf.append(1)\n",
    "            \n",
    "df['Ambience_comfort'] = ambcomf\n",
    "df['Ambience_comfort'].unique()"
   ]
  },
  {
   "cell_type": "code",
   "execution_count": 62,
   "metadata": {},
   "outputs": [],
   "source": [
    "df = df.drop(columns=['ambience', 'Rambience'])"
   ]
  },
  {
   "cell_type": "markdown",
   "metadata": {},
   "source": [
    "**Let us engineer distance**"
   ]
  },
  {
   "cell_type": "code",
   "execution_count": 63,
   "metadata": {
    "scrolled": true
   },
   "outputs": [
    {
     "data": {
      "text/plain": [
       "array([22.156469, 22.143524, 22.207749, 22.139997, 22.168997, 22.149654,\n",
       "       18.927072, 22.118464, 22.15    , 22.121857, 22.160572, 22.172524,\n",
       "       22.137343, 22.149005, 22.156724, 22.156247, 22.174624, 22.195826,\n",
       "       22.170396, 22.169184, 22.125365, 22.303308, 22.182571, 22.144415,\n",
       "       22.162562, 22.16515 , 22.151796, 22.157281, 22.144803, 22.158473,\n",
       "       18.988278, 22.150087, 22.143289, 22.175833, 22.154339, 22.177726,\n",
       "       22.159427, 22.196787, 22.119847, 22.154677, 22.140388, 22.196624,\n",
       "       22.139511, 22.19204 , 22.146708, 18.867   , 22.172109, 22.184862,\n",
       "       22.150683, 22.187236, 22.150891, 23.752269, 23.752265, 23.753112,\n",
       "       23.745096, 23.752874, 23.753336, 23.752943, 23.715238, 23.730569,\n",
       "       23.758815, 23.753061, 23.77103 , 23.742409, 23.743793, 23.753237,\n",
       "       18.95298 , 18.844818, 18.86826 , 18.875641, 18.878189, 18.877719,\n",
       "       18.952615, 18.879729, 18.940062, 18.96479 , 18.917   , 18.925773,\n",
       "       18.935191, 23.724972, 22.12676 , 22.137072, 23.73944 , 22.138127,\n",
       "       22.15031 , 22.143078, 19.347641, 22.138055, 22.122989, 22.138245,\n",
       "       22.137131, 22.15421 , 22.120019, 23.733   , 23.733665, 23.738067,\n",
       "       23.728798, 22.13392 , 22.179865, 22.142208, 22.145471, 22.137178,\n",
       "       22.1455  , 22.149607, 22.190949, 22.167575, 22.183477, 22.153385,\n",
       "       22.205802, 22.190889, 18.813348, 18.886698, 18.839671, 18.871654,\n",
       "       18.890695, 18.871674, 18.871678, 18.943935, 18.895187, 23.751607,\n",
       "       22.125786, 22.152884, 22.142429])"
      ]
     },
     "execution_count": 63,
     "metadata": {},
     "output_type": "execute_result"
    }
   ],
   "source": [
    "df['latitude_x'].unique()"
   ]
  },
  {
   "cell_type": "code",
   "execution_count": 64,
   "metadata": {
    "scrolled": true
   },
   "outputs": [
    {
     "data": {
      "text/plain": [
       "array([-100.98554 , -100.987562, -100.942383, -100.978803, -100.974376,\n",
       "       -100.99861 ,  -99.173584, -100.938256, -100.983   , -100.904279,\n",
       "       -100.989418, -101.005758, -100.913935, -100.978153, -100.984268,\n",
       "       -100.977402, -100.993873, -101.006317, -100.949936, -100.986843,\n",
       "       -100.947888, -101.05468 , -100.963232, -100.933097, -100.99313 ,\n",
       "       -100.987015, -100.989075, -100.98444 , -100.944623,  -99.097023,\n",
       "       -100.983325, -100.987683, -100.986671, -100.975342, -101.014094,\n",
       "       -100.990448, -100.936335, -100.946527, -100.949013, -100.937321,\n",
       "       -100.91217 , -100.957002, -100.956935, -100.964355,  -99.183   ,\n",
       "       -100.963199, -100.970535, -100.994213, -100.974891,  -99.168605,\n",
       "        -99.16859 ,  -99.168567,  -99.164357,  -99.169242,  -99.167984,\n",
       "        -99.166589,  -99.158864,  -99.171883,  -99.171216,  -99.166095,\n",
       "        -99.167082,  -99.171889,  -99.163397,  -99.166868,  -99.260789,\n",
       "        -99.182758,  -99.212033,  -99.220737,  -99.222969,  -99.22299 ,\n",
       "        -99.201616,  -99.067106,  -99.228172,  -99.260017,  -99.25    ,\n",
       "        -99.219589,  -99.23624 ,  -99.152856, -100.905209, -100.918865,\n",
       "        -99.160548, -100.920512, -100.900536, -100.908523,  -99.130229,\n",
       "       -100.936005, -100.923811, -100.910948, -100.941151, -100.942233,\n",
       "       -100.950991,  -99.133   ,  -99.105617,  -99.139906,  -99.134047,\n",
       "       -101.028373, -101.018547, -101.022785, -100.939588, -101.013169,\n",
       "       -100.939593, -100.997235, -100.917902, -100.960364, -100.959891,\n",
       "       -100.975294, -100.986081, -100.998669,  -99.243697,  -99.114979,\n",
       "        -99.223897,  -99.183251,  -99.157104,  -99.183253,  -99.183263,\n",
       "        -99.206532,  -99.18039 ,  -99.170108, -100.943705, -100.939663,\n",
       "       -100.949147])"
      ]
     },
     "execution_count": 64,
     "metadata": {},
     "output_type": "execute_result"
    }
   ],
   "source": [
    "df['longitude_x'].unique()"
   ]
  },
  {
   "cell_type": "code",
   "execution_count": 65,
   "metadata": {
    "scrolled": true
   },
   "outputs": [
    {
     "data": {
      "text/plain": [
       "array([22.150802 , 22.1473922, 22.156883 , 22.147145 , 23.7529821,\n",
       "       23.7521965, 23.7543569, 23.7527071, 23.7521677, 23.7523648,\n",
       "       23.7523041, 23.7529035, 23.7526973, 18.8760113, 18.9257734,\n",
       "       23.7588052, 23.7602683, 23.7324226, 23.7318602, 22.126375 ,\n",
       "       22.1262926, 22.1412198, 22.1430781, 22.140626 , 22.1412384,\n",
       "       22.136872 , 23.7375834, 23.7292162, 22.140517 , 22.1489337,\n",
       "       22.141282 , 22.1416471, 22.135011 , 22.149192 , 22.149689 ,\n",
       "       22.153324 , 22.141848 , 22.139573 , 22.146658 , 22.152481 ,\n",
       "       22.141421 , 22.165587 , 18.948657 , 18.859803 , 18.8820871,\n",
       "       18.9217848, 18.933537 , 18.9101777, 18.8699929, 22.14955  ,\n",
       "       22.1497088, 22.142017 , 22.1477379, 22.159357 , 22.178931 ,\n",
       "       22.145992 , 22.140129 , 22.150981 , 22.185756 , 22.145893 ,\n",
       "       22.14788  , 22.145108 , 22.156376 , 22.148854 , 22.15106  ,\n",
       "       22.1513782, 22.156469 , 22.1506429, 22.147175 , 22.1422732,\n",
       "       22.1603808, 22.147622 , 22.1449787, 22.1378633, 22.1312917,\n",
       "       22.1480965, 22.1544736, 22.1735955, 22.145813 , 22.150305 ,\n",
       "       22.1499013, 22.1795169, 22.1534997, 22.1511348, 22.1500193])"
      ]
     },
     "execution_count": 65,
     "metadata": {},
     "output_type": "execute_result"
    }
   ],
   "source": [
    "df['latitude_y'].unique()"
   ]
  },
  {
   "cell_type": "code",
   "execution_count": 66,
   "metadata": {
    "scrolled": true
   },
   "outputs": [
    {
     "data": {
      "text/plain": [
       "array([-100.98268  , -100.983092 , -100.978485 , -100.974494 ,\n",
       "        -99.1684341,  -99.1666317,  -99.171288 ,  -99.1625655,\n",
       "        -99.165709 ,  -99.1652879,  -99.1669133,  -99.165076 ,\n",
       "        -99.1633594,  -99.2198896,  -99.2326355,  -99.1651297,\n",
       "        -99.1658646,  -99.1586602,  -99.1504365, -100.910926 ,\n",
       "       -100.9007764, -100.9313107, -100.9354788, -100.915657 ,\n",
       "       -100.9239252, -100.9345736,  -99.1351318,  -99.1323571,\n",
       "       -101.021422 , -101.019845 , -101.002958 , -100.9927118,\n",
       "       -101.0286   , -101.002936 , -100.999525 , -101.0195459,\n",
       "       -100.997475 , -100.991564 , -100.987219 , -100.973486 ,\n",
       "       -101.013955 , -101.001273 ,  -99.235361 ,  -99.222164 ,\n",
       "        -99.1630268,  -99.2353499,  -99.222497 ,  -99.2315438,\n",
       "        -99.2103195, -100.97797  , -100.9760928, -100.999246 ,\n",
       "       -100.9906163, -100.973411 , -101.012861 , -100.955118 ,\n",
       "       -100.944872 , -100.977412 , -100.944518 , -100.97487  ,\n",
       "       -100.989472 , -100.989547 , -100.998355 , -101.008472 ,\n",
       "       -100.977659 , -100.9746337, -100.98554  , -100.9870148,\n",
       "       -100.974269 , -100.9426537, -100.9880447, -101.0102749,\n",
       "       -101.0056829, -100.9383273, -100.9371941, -101.0173023,\n",
       "       -100.9858091, -100.9946027, -101.018032 , -100.9891337,\n",
       "       -100.9937793, -100.9584358, -100.976243 , -100.9823115,\n",
       "       -100.9799203])"
      ]
     },
     "execution_count": 66,
     "metadata": {},
     "output_type": "execute_result"
    }
   ],
   "source": [
    "df['longitude_y'].unique()"
   ]
  },
  {
   "cell_type": "markdown",
   "metadata": {},
   "source": [
    "We need a function to calculate distance between any two points given as latitudes and longitudes."
   ]
  },
  {
   "cell_type": "code",
   "execution_count": 67,
   "metadata": {},
   "outputs": [],
   "source": [
    "from math import radians, cos, sin, asin, sqrt\n",
    "\n",
    "def distance(lat1, lat2, lon1, lon2):\n",
    "    lon1 = radians(lon1)\n",
    "    lon2 = radians(lon2)\n",
    "    lat1 = radians(lat1)\n",
    "    lat2 = radians(lat2)\n",
    "    return(2 * asin(sqrt(sin((lat2 - lat1) / 2)**2 + cos(lat1) * cos(lat2) * sin((lon2 - lon1) / 2)**2)) * 6371)"
   ]
  },
  {
   "cell_type": "code",
   "execution_count": 68,
   "metadata": {},
   "outputs": [
    {
     "data": {
      "text/plain": [
       "array([6.95580631e-01, 9.52752712e-01, 7.57056441e+00, 1.26607652e+00,\n",
       "       2.19649729e+00, 1.64556656e+00, 4.04928214e+02, 5.81950999e+00,\n",
       "       9.50730907e-02, 8.69297974e+00, 1.28907742e+00, 3.38853370e+00,\n",
       "       7.23669767e+00, 5.07245175e-01, 6.78500812e-01, 8.13655896e-01,\n",
       "       2.88880491e+00, 5.56673290e+00, 4.01464969e+00, 2.08846090e+00,\n",
       "       4.56525990e+00, 1.85066162e+01, 4.06074841e+00, 5.15572674e+00,\n",
       "       1.69355266e+00, 1.65670783e+00, 6.67816909e-01, 7.42883255e-01,\n",
       "       3.97586151e+00, 8.68512583e-01, 4.02721787e+02, 1.03602902e-01,\n",
       "       1.04030551e+00, 6.57071852e-01, 3.18387727e+00, 7.91285187e+00,\n",
       "       9.33447650e-01, 2.56455430e+00, 1.61786371e+00, 2.90128889e-01,\n",
       "       1.60380987e+00, 1.11073543e+00, 4.64428737e+00, 5.39355280e-01,\n",
       "       1.04469298e+00, 1.53776135e+00, 5.89271601e+00, 4.26632712e+00,\n",
       "       7.30398798e+00, 1.88380569e+01, 4.41407071e+00, 4.85445113e+00,\n",
       "       3.60199100e+00, 7.87063329e-01, 3.97243041e+00, 4.77800551e+00,\n",
       "       4.02412780e+02, 9.12701545e+00, 3.00607407e-01, 7.28008001e-01,\n",
       "       2.26950433e+00, 2.93712336e+00, 4.49516695e+00, 1.84329263e+00,\n",
       "       4.10821907e+02, 4.29872336e-01, 5.95817442e-01, 1.26404225e+00,\n",
       "       1.32062910e-01, 2.31177354e+00, 3.21702583e+00, 2.53033212e+00,\n",
       "       7.61614112e-01, 3.74356097e+00, 3.30166434e+00, 1.61607723e+00,\n",
       "       3.25973531e+00, 6.14861812e-01, 8.95531556e-01, 1.53917098e+00,\n",
       "       7.50630734e+00, 2.42986192e+00, 9.31779085e-01, 4.18538091e-01,\n",
       "       8.11783850e-02, 8.13012137e-02, 1.97885729e-02, 9.70122255e-01,\n",
       "       8.30985435e-02, 6.03908126e-02, 2.00996803e-01, 8.31206980e-02,\n",
       "       4.18496925e+00, 2.21718291e-01, 2.46355109e+00, 2.76140686e-01,\n",
       "       8.71373798e-01, 1.87074811e-01, 3.58418323e-01, 3.59870092e-01,\n",
       "       5.47809668e-01, 2.65611727e-01, 4.95772258e-01, 3.54908990e-01,\n",
       "       1.90273441e+00, 6.16603787e-01, 6.15117326e-01, 1.48719278e+00,\n",
       "       3.61366518e-01, 4.10334141e-01, 4.18337570e+00, 6.12464052e-01,\n",
       "       9.94808998e-01, 6.79759589e-01, 2.94959202e-01, 1.06817067e-01,\n",
       "       3.09247321e-01, 9.27610360e-01, 2.65494156e-01, 3.37769791e-01,\n",
       "       3.36258302e-01, 1.29495999e+00, 3.43919960e-01, 8.13787952e-01,\n",
       "       9.37239717e-01, 1.72219038e-01, 1.18404302e-01, 8.46110725e-01,\n",
       "       1.58241869e-01, 3.64619843e-01, 1.86113756e-01, 1.05177715e-01,\n",
       "       3.56054374e-01, 4.24010400e-01, 2.02588704e+00, 5.34515687e-01,\n",
       "       5.32009448e-01, 8.51302682e-01, 4.75999605e-01, 9.57902291e+00,\n",
       "       5.22462171e+00, 1.19424976e+00, 9.82079099e-02, 4.04487566e-01,\n",
       "       3.77449565e-01, 4.23318493e+00, 4.42175634e+00, 1.81504777e+01,\n",
       "       1.65672809e+00, 5.38797684e+00, 5.43889584e+00, 5.20721551e+00,\n",
       "       2.07071271e+00, 1.37227888e+00, 1.11370572e+00, 6.43934530e-01,\n",
       "       6.46236975e-01, 7.23281720e-01, 1.67856971e+00, 6.19410438e-01,\n",
       "       1.37377828e+00, 7.88485679e-01, 8.01758158e-01, 1.69404585e+00,\n",
       "       5.68084274e-01, 1.20304254e+00, 2.42027566e+00, 1.36167072e+00,\n",
       "       1.35314343e+00, 1.01756987e+00, 2.86333614e+00, 2.03770343e+00,\n",
       "       8.04557810e-01, 5.90438608e-01, 1.44342814e+00, 2.53571462e+02,\n",
       "       1.63784533e+00, 2.86854006e+00, 1.87370822e+00, 3.80897798e+00,\n",
       "       4.59532440e-01, 6.11093358e-01, 2.67072781e+00, 3.59658915e+02,\n",
       "       2.02984824e+00, 3.13259689e+00, 5.98003718e-01, 2.16936808e+00,\n",
       "       2.12320693e+00, 3.60734536e+00, 5.61166451e-01, 2.77628029e+00,\n",
       "       8.82386928e-01, 2.58308734e+00, 1.88024920e+00, 3.12619993e+00,\n",
       "       5.15117480e-01, 2.52790621e+02, 4.30076007e+00, 5.72069217e-01,\n",
       "       1.89336738e+00, 2.13342109e+00, 5.52567025e-01, 2.51160921e+00,\n",
       "       2.61156849e+00, 1.29354992e+00, 2.02927479e+00, 1.59947545e+00,\n",
       "       1.37742398e+00, 3.22685137e+00, 3.81081624e+00, 1.97584611e-01,\n",
       "       3.62472766e+02, 1.90053376e+00, 2.77042970e+00, 2.43817029e+00,\n",
       "       5.53923027e-01, 3.03571905e+00, 4.88920070e-01, 4.25798474e-01,\n",
       "       1.78196795e-01, 2.76652807e+00, 1.02502173e+00, 4.38530392e+00,\n",
       "       2.34654413e-01, 8.66205492e+00, 8.44638186e+00, 1.88640872e+00,\n",
       "       3.37885038e+00, 3.25587323e+00, 2.99754462e+00, 3.44199998e+00,\n",
       "       1.47698337e+00, 8.06836916e-01, 7.86114293e+00, 8.21521826e+00,\n",
       "       7.76079488e+00, 8.55231865e+00, 8.27402954e+00, 2.74270503e+00,\n",
       "       1.60517756e+00, 1.03303081e+00, 9.17951756e+00, 5.94197433e+00,\n",
       "       6.14935747e+00, 2.27263379e+00, 6.76104259e+00, 9.72833149e+00,\n",
       "       1.11924177e+01, 1.09742268e+00, 3.77217837e+00, 5.69982345e-01,\n",
       "       5.49173355e-01, 1.07782078e+00, 6.17313499e+00, 3.66881339e+00,\n",
       "       4.95918451e+00, 6.14766593e+00, 1.36496925e+00, 4.72801000e+00,\n",
       "       2.06317798e+00, 5.70671014e+00, 8.67242812e+00, 1.23546257e-01,\n",
       "       1.60753787e+00, 9.99573204e-01, 8.71756897e+00, 9.24135362e+00,\n",
       "       3.12210784e+00, 3.37448926e+00, 2.61062573e+00, 3.77055710e+00,\n",
       "       2.97794142e+00, 1.79722956e+00, 6.53664289e+00, 5.88951901e-01,\n",
       "       3.45000125e+00, 1.40995179e+00, 9.43152442e-02, 2.36020986e-01,\n",
       "       2.34134030e+00, 2.77085158e+00, 1.28026879e+00, 8.39165326e+00,\n",
       "       7.77422042e+00, 3.30226170e+00, 8.75823660e-01, 6.63667338e+00,\n",
       "       4.02610015e+02, 6.02419197e-01, 5.74903032e-01, 1.33535135e+00,\n",
       "       3.90474048e+00, 1.45679460e+00, 5.13139373e+00, 4.69316394e+00,\n",
       "       4.86951350e+00, 5.58755056e+00, 4.02088340e+02, 1.03481680e+01,\n",
       "       5.39313166e+00, 3.50270864e-01, 3.77651516e-01, 8.21334177e+00,\n",
       "       4.04741814e+02, 5.71751277e-01, 4.10228462e+02, 1.49186714e+00,\n",
       "       4.65928438e+00, 1.87517974e+01, 1.87028523e+00, 4.02551531e+02,\n",
       "       1.08241423e+00, 1.75885284e+00, 2.93018682e+00, 6.92992804e+00,\n",
       "       4.04648887e+02, 5.88070014e+00, 7.14539205e+00, 4.71738466e+00,\n",
       "       1.13860032e+00, 2.15476625e+00, 5.24162844e+00, 1.01792249e+00,\n",
       "       3.72006796e+00, 7.89979241e+00, 4.10150511e+02, 2.81458831e-01,\n",
       "       6.36009514e+00, 6.16776470e-01, 1.20646482e+00, 5.81381079e-01,\n",
       "       2.76600410e-01, 2.28463490e-01, 3.13844329e+00, 2.31118205e+00,\n",
       "       1.87381873e+01, 3.50851882e+00, 2.72836665e+00, 8.20447856e+00,\n",
       "       4.19808244e+00, 4.30085438e+00, 4.78695175e-01, 6.84888303e+00,\n",
       "       7.89378444e+00, 1.08604691e+01, 7.67254761e+00, 7.67222270e+00,\n",
       "       2.83063360e+00, 8.34154128e+00, 1.88809842e+00, 8.99051159e-01,\n",
       "       1.30837596e+00, 2.38422327e+00, 2.51463165e+00, 5.31343269e+00,\n",
       "       1.53883189e+00, 1.62705853e+01, 7.40529132e+00, 9.03500403e-01,\n",
       "       6.27516941e+00, 7.15745652e+00, 6.73490328e+00, 4.73739193e+00,\n",
       "       2.82620181e+00, 1.50712151e+01, 3.57608037e+00, 1.44157185e+01,\n",
       "       1.21863056e+00, 1.50020206e+00, 5.64077494e+00, 4.46893956e+00,\n",
       "       1.76749440e+00, 2.24599223e+00, 2.42357440e+00, 4.63512111e+00,\n",
       "       1.14211845e+00, 5.08102858e+00, 2.42269539e+00, 2.42340716e+00,\n",
       "       1.01912341e+01, 5.01955779e+00, 5.06948091e+00, 1.49363848e+00,\n",
       "       2.03869507e+00, 1.74070499e+01, 1.24517681e+01, 9.39511375e-01,\n",
       "       5.25806760e+00, 8.02261104e+00, 8.02168833e+00, 9.15899336e-01,\n",
       "       1.45711847e+00, 1.25375701e+01, 4.00506444e+00, 2.08438049e+00,\n",
       "       2.63884388e-01, 1.26327536e+00, 3.66186486e+00, 4.21470937e+00,\n",
       "       1.21876689e+00, 3.05680838e+00, 1.06570405e+00, 7.71041764e+00,\n",
       "       1.43737949e+00, 1.09530818e+00, 5.35544545e+00, 5.20445173e-01,\n",
       "       1.70060241e+00, 5.97345249e-01, 6.34643241e-02, 2.98539133e-01,\n",
       "       4.10268691e+00, 1.18538328e+00, 3.97804107e+00, 1.39085437e+00,\n",
       "       4.04502342e+02, 3.52286571e+00, 4.10000300e+02, 7.39411562e-01,\n",
       "       2.82260797e+00, 1.80553959e-01, 3.54221060e+00, 7.46021933e-01,\n",
       "       1.19929057e+00, 2.42448072e+00, 6.38054767e+00, 9.34468643e+00,\n",
       "       1.89408630e+00, 8.69011942e-01, 5.79647809e-01, 3.15034110e+00,\n",
       "       8.50391767e-01, 4.05012780e+02, 1.43241273e+00, 4.11878907e+00,\n",
       "       1.29988418e+00, 1.66856873e+00, 5.49917641e+00, 4.78346139e-01,\n",
       "       5.54955590e+00, 4.02828844e+02, 2.28492431e+00, 2.77952896e+00,\n",
       "       2.55801503e+02, 4.05321073e+02, 4.01067501e+00, 1.28970008e+00,\n",
       "       3.02182875e+00, 1.65395106e+00, 5.92354033e-01, 1.43448460e+00,\n",
       "       5.37135163e-01, 2.85144720e+00, 2.71119086e+00, 1.76274648e+00,\n",
       "       5.64773402e+00, 1.80605700e+01, 1.54193252e+00, 3.37772260e+00,\n",
       "       4.36551458e+00, 2.71866293e+00, 1.84586062e-01, 2.13061486e+00,\n",
       "       1.99581066e+00, 8.41304952e+00, 4.06569204e+00, 1.97567225e+00,\n",
       "       7.46320621e-01, 2.55495660e+02, 1.61120543e+00, 3.86336746e+00,\n",
       "       6.29893823e+00, 9.54657271e-01, 2.55261845e+02, 2.91918177e+00,\n",
       "       2.45997757e+00, 3.51938754e+00, 3.66995429e+00, 4.19702181e+00,\n",
       "       5.88409003e+00, 4.34929790e+00, 1.25123217e+00, 7.52336776e+00,\n",
       "       2.55206370e+02, 1.58915064e+00, 2.70012709e+00, 6.29653541e+00,\n",
       "       2.54964764e+02, 2.32325777e+00, 2.51885570e+00, 3.63336464e+02,\n",
       "       2.88762437e+00, 2.45873197e+00, 7.27011631e+00, 2.02753866e+00,\n",
       "       4.04691001e+02, 3.64072190e+00, 1.42620696e+00, 1.03589420e+00,\n",
       "       4.38847501e+00, 5.85745758e-01, 1.63282686e+00, 4.29963779e-01,\n",
       "       2.32596908e-01, 9.52017451e-01, 1.63839688e+00, 5.85553389e-01,\n",
       "       2.76796526e+00, 2.15745280e-01, 5.80727714e+00, 2.59825677e-01,\n",
       "       3.55903380e+00, 1.86018190e+00, 1.09203494e+00, 6.17030447e-01,\n",
       "       2.45536856e+00, 2.51622120e+02, 2.80057624e+00, 1.45695005e+00,\n",
       "       1.60301339e+00, 2.68062913e+00, 1.48806865e+00, 3.54297149e+00,\n",
       "       4.82487625e+00, 7.64839644e+00, 7.70651704e-01, 4.04068542e+02,\n",
       "       5.85103248e+00, 1.60950576e+00, 3.78509227e+00, 2.83624091e+00,\n",
       "       9.40409555e-01, 4.83804304e-01, 5.34837415e-01, 5.55756452e-01,\n",
       "       8.23571729e+00, 4.04971083e+02, 1.03735601e+00, 1.62280196e+00,\n",
       "       3.21278992e+00, 1.17243505e+00, 7.07005349e-01, 4.02784316e+02,\n",
       "       9.63008510e+00, 1.06149228e+00, 1.32898076e+00, 1.71956967e+00,\n",
       "       1.59490174e+00, 7.94012911e+00, 5.24640598e+00, 7.45258749e-01,\n",
       "       4.62695609e+00, 8.46847192e-01, 7.47913502e-01, 4.06235863e+02,\n",
       "       1.03186452e+00, 2.39811517e+00, 8.94837508e+00, 8.82131786e-01,\n",
       "       2.08091554e+00, 3.45788045e+00, 1.85302695e+00, 4.64383069e+00,\n",
       "       8.73309878e-01, 6.70778608e+00, 9.36912241e+00, 6.17257475e+00,\n",
       "       1.73301429e+00, 3.83780671e+00, 1.01956836e+00, 3.60096590e+00,\n",
       "       1.38551063e+00, 9.14245413e+00, 6.73899487e+00, 7.10370013e+00,\n",
       "       1.16031572e+00, 4.04710691e+02, 3.66518557e+00, 2.55822699e+00,\n",
       "       4.04238916e+00, 5.62547236e-01, 2.34100850e-01, 9.27318976e-01,\n",
       "       2.77408352e+00, 2.42277664e-01, 2.85689561e-01, 3.57399733e+00,\n",
       "       4.72525986e+00, 9.82952846e-01, 4.32064157e+00, 5.93477059e-01,\n",
       "       4.04595886e+02, 4.27153008e+00, 3.37210255e-01, 2.33277608e-01,\n",
       "       6.44338956e+00, 1.15663072e+00, 6.11864671e-01, 3.74707502e+00,\n",
       "       1.06286805e-01, 6.03077631e-02, 3.30767392e+00, 2.34540762e+00,\n",
       "       1.87959503e+01, 3.66181427e+00, 4.05622848e+02, 0.00000000e+00,\n",
       "       2.87171512e+00, 6.06334615e-01, 1.07661376e+00, 3.77263710e+00,\n",
       "       1.10951089e+00, 1.12587396e+00, 1.34029172e-01, 6.03037790e-01,\n",
       "       8.38447940e-01, 2.88398390e+00, 3.51497318e+00, 4.87124413e+00,\n",
       "       3.98009221e+00, 1.42019655e+00, 1.03439295e+00, 6.34455886e-01,\n",
       "       4.40911330e+00, 5.27818505e+00, 8.07044804e+00, 8.77566991e+00,\n",
       "       7.65407176e-01, 4.05122702e+02, 5.24768260e+00, 1.27045856e+00,\n",
       "       3.10570599e+00, 4.19612528e-01, 1.03877135e+00, 1.16977984e+00,\n",
       "       4.31302378e+00, 5.39601044e+00, 2.47908341e-01, 4.41397604e+00,\n",
       "       9.15468720e-01, 4.02926485e+02, 8.12759826e+00, 9.24863923e+00,\n",
       "       3.85001414e-01, 1.05884850e+00, 1.55415549e+00, 1.02237213e+00,\n",
       "       4.18136507e-01, 4.55820908e+00, 3.63419888e+02, 2.89220459e+00,\n",
       "       5.92363390e-01, 4.11620805e+02, 3.05296397e+00, 4.43023828e-01,\n",
       "       5.67731230e+00, 8.41270063e+00, 8.79084607e+00, 5.25857495e+00,\n",
       "       1.26581996e+00, 4.11428197e+02, 7.55668388e+00, 4.03822792e+02,\n",
       "       7.28406101e+00, 7.28344040e+00, 4.10947355e+02, 7.05935158e+00,\n",
       "       6.80748121e+00, 6.80699226e+00, 1.01086799e+00, 4.13098402e+00,\n",
       "       1.45268502e+00, 2.51301941e+00, 2.22962601e+00, 3.12399967e+00,\n",
       "       3.02019195e-01, 9.08058143e-01, 3.62085129e+02, 1.65912116e+00,\n",
       "       3.23082478e+00, 7.66614525e-01, 7.97601664e+00, 2.96499125e+00,\n",
       "       3.53482073e+00, 6.76001302e+00, 8.68208425e+00, 7.07092138e+00,\n",
       "       8.00920291e+00, 3.89471980e+00, 2.38955237e+00, 3.74438535e+00,\n",
       "       5.54279276e+00, 5.75450496e-01, 1.17358552e+00, 1.19363918e+00,\n",
       "       3.42533396e-01, 4.37589594e+00, 2.05890017e+00, 2.56218872e+00,\n",
       "       2.77684396e+00, 1.51728508e+00, 2.75048433e+00, 9.37598641e-01,\n",
       "       6.53016648e+00, 1.56929264e+01, 1.23620647e+00, 1.22163618e+00,\n",
       "       3.68711334e+00, 3.22790303e+00, 3.78678104e+00, 1.08295345e+00,\n",
       "       7.17617660e+00, 6.32611065e-01, 1.46588346e+00, 2.74783881e+00,\n",
       "       4.13971511e+00, 4.47065523e+00, 5.80830035e+00, 5.10293144e+00,\n",
       "       1.42369877e+00, 1.66504658e+00, 1.65901818e-01, 9.13983175e-01,\n",
       "       5.44904567e+00, 8.34099079e+00, 5.13095821e+00, 5.98720757e-01,\n",
       "       8.37945129e-01, 4.67123856e+00, 2.74905575e+00, 4.15166944e+00,\n",
       "       1.40939274e+00, 4.64083191e+00, 1.83309840e+00, 1.11020113e+00,\n",
       "       5.60208791e+00, 9.58682924e-01, 1.38031069e+00, 2.97753380e+00,\n",
       "       5.99342878e-01, 4.07969307e+00, 4.18287210e+00, 3.76786458e+00,\n",
       "       1.70551903e+00, 9.94401346e-01, 8.22169547e-01, 4.39655687e+00,\n",
       "       5.06840477e+00, 7.00426474e-01, 7.17720189e-01, 8.40479919e-01,\n",
       "       1.44742082e-01, 4.80481447e+00, 1.83425435e+00, 9.63300976e-01,\n",
       "       9.32017780e-01])"
      ]
     },
     "execution_count": 68,
     "metadata": {},
     "output_type": "execute_result"
    }
   ],
   "source": [
    "dist = []\n",
    "\n",
    "for i in range(len(df['latitude_x'])):\n",
    "    dist.append(distance(df['latitude_x'][i], df['latitude_y'][i], df['longitude_x'][i], df['longitude_y'][i]))\n",
    "    \n",
    "df['Distance'] = dist\n",
    "df['Distance'].unique()"
   ]
  },
  {
   "cell_type": "code",
   "execution_count": 69,
   "metadata": {},
   "outputs": [],
   "source": [
    "df = df.drop(columns=['latitude_x', 'latitude_y', 'longitude_x', 'longitude_y'])"
   ]
  },
  {
   "cell_type": "markdown",
   "metadata": {},
   "source": [
    "**Let us now engineer budget**"
   ]
  },
  {
   "cell_type": "code",
   "execution_count": 70,
   "metadata": {},
   "outputs": [
    {
     "data": {
      "text/plain": [
       "array(['medium', 'low', '?', 'high'], dtype=object)"
      ]
     },
     "execution_count": 70,
     "metadata": {},
     "output_type": "execute_result"
    }
   ],
   "source": [
    "df['budget'].unique()"
   ]
  },
  {
   "cell_type": "code",
   "execution_count": 71,
   "metadata": {},
   "outputs": [
    {
     "data": {
      "text/plain": [
       "array(['medium', 'low', 'high'], dtype=object)"
      ]
     },
     "execution_count": 71,
     "metadata": {},
     "output_type": "execute_result"
    }
   ],
   "source": [
    "df['price'].unique()"
   ]
  },
  {
   "cell_type": "code",
   "execution_count": 72,
   "metadata": {},
   "outputs": [
    {
     "data": {
      "text/plain": [
       "array([ 0, -1,  1,  2, -2], dtype=int64)"
      ]
     },
     "execution_count": 72,
     "metadata": {},
     "output_type": "execute_result"
    }
   ],
   "source": [
    "budgecomf = []\n",
    "\n",
    "for i in range(len(df['budget'])):\n",
    "    b = 0\n",
    "    p = 0\n",
    "    \n",
    "    if df['budget'][i][0] == 'l':\n",
    "        b = 1\n",
    "        \n",
    "    elif df['budget'][i][0] == 'm':\n",
    "        b = 2\n",
    "        \n",
    "    elif df['budget'][i][0] == 'h':\n",
    "        b = 3\n",
    "        \n",
    "    else:\n",
    "        b = 1\n",
    "        \n",
    "    if df['price'][i][0] == 'l':\n",
    "        p = 1\n",
    "        \n",
    "    elif df['price'][i][0] == 'm':\n",
    "        p = 2\n",
    "        \n",
    "    elif df['price'][i][0] == 'h':\n",
    "        p = 3\n",
    "        \n",
    "    budgecomf.append(b-p)\n",
    "    \n",
    "df['Budget_comfort'] = budgecomf\n",
    "df['Budget_comfort'].unique()"
   ]
  },
  {
   "cell_type": "code",
   "execution_count": 73,
   "metadata": {},
   "outputs": [],
   "source": [
    "df = df.drop(columns=['budget', 'price'])"
   ]
  },
  {
   "cell_type": "markdown",
   "metadata": {},
   "source": [
    "**Let's Explore the rest of the columns to identify what can be done with them**"
   ]
  },
  {
   "cell_type": "code",
   "execution_count": 74,
   "metadata": {},
   "outputs": [
    {
     "data": {
      "text/plain": [
       "Index(['rating', 'food_rating', 'service_rating', 'ucuisine', 'birth_year',\n",
       "       'interest', 'personality', 'religion', 'activity', 'color', 'weight',\n",
       "       'height', 'days', 'rcuisine', 'other_services', 'Franchise',\n",
       "       'Accessiblity', 'Children', 'Marital_status', 'Has_url', 'Has_address',\n",
       "       'Payment_comfort', 'Smoke_comfort', 'Drink_comfort', 'Area_open',\n",
       "       'Dress_comfort', 'Parking_comfort', 'Ambience_comfort', 'Distance',\n",
       "       'Budget_comfort'],\n",
       "      dtype='object')"
      ]
     },
     "execution_count": 74,
     "metadata": {},
     "output_type": "execute_result"
    }
   ],
   "source": [
    "df.columns"
   ]
  },
  {
   "cell_type": "code",
   "execution_count": 75,
   "metadata": {},
   "outputs": [],
   "source": [
    "df['birth_year'] = 2021 - df['birth_year']"
   ]
  },
  {
   "cell_type": "code",
   "execution_count": 76,
   "metadata": {},
   "outputs": [
    {
     "data": {
      "text/plain": [
       "array(['technology', 'variety', 'none', 'eco-friendly', 'retro'],\n",
       "      dtype=object)"
      ]
     },
     "execution_count": 76,
     "metadata": {},
     "output_type": "execute_result"
    }
   ],
   "source": [
    "df['interest'].unique()"
   ]
  },
  {
   "cell_type": "code",
   "execution_count": 77,
   "metadata": {},
   "outputs": [
    {
     "data": {
      "text/plain": [
       "array(['thrifty-protector', 'hard-worker', 'hunter-ostentatious',\n",
       "       'conformist'], dtype=object)"
      ]
     },
     "execution_count": 77,
     "metadata": {},
     "output_type": "execute_result"
    }
   ],
   "source": [
    "df['personality'].unique()"
   ]
  },
  {
   "cell_type": "code",
   "execution_count": 78,
   "metadata": {},
   "outputs": [
    {
     "data": {
      "text/plain": [
       "array(['Catholic', 'none', 'Mormon', 'Christian', 'Jewish'], dtype=object)"
      ]
     },
     "execution_count": 78,
     "metadata": {},
     "output_type": "execute_result"
    }
   ],
   "source": [
    "df['religion'].unique()"
   ]
  },
  {
   "cell_type": "code",
   "execution_count": 79,
   "metadata": {},
   "outputs": [
    {
     "data": {
      "text/plain": [
       "array(['student', 'professional', '?', 'unemployed', 'working-class'],\n",
       "      dtype=object)"
      ]
     },
     "execution_count": 79,
     "metadata": {},
     "output_type": "execute_result"
    }
   ],
   "source": [
    "df['activity'].unique()"
   ]
  },
  {
   "cell_type": "code",
   "execution_count": 80,
   "metadata": {},
   "outputs": [
    {
     "data": {
      "text/plain": [
       "array(['blue', 'green', 'black', 'yellow', 'purple', 'red', 'orange',\n",
       "       'white'], dtype=object)"
      ]
     },
     "execution_count": 80,
     "metadata": {},
     "output_type": "execute_result"
    }
   ],
   "source": [
    "df['color'].unique()"
   ]
  },
  {
   "cell_type": "code",
   "execution_count": 81,
   "metadata": {},
   "outputs": [
    {
     "data": {
      "text/plain": [
       "array(['Mon;Tue;Wed;Thu;Fri;', 'Sat;', 'Sun;'], dtype=object)"
      ]
     },
     "execution_count": 81,
     "metadata": {},
     "output_type": "execute_result"
    }
   ],
   "source": [
    "df['days'].unique()"
   ]
  },
  {
   "cell_type": "code",
   "execution_count": 82,
   "metadata": {},
   "outputs": [
    {
     "data": {
      "text/plain": [
       "array(['none', 'variety', 'Internet'], dtype=object)"
      ]
     },
     "execution_count": 82,
     "metadata": {},
     "output_type": "execute_result"
    }
   ],
   "source": [
    "df['other_services'].unique()"
   ]
  },
  {
   "cell_type": "code",
   "execution_count": 83,
   "metadata": {},
   "outputs": [
    {
     "data": {
      "text/html": [
       "<div>\n",
       "<style scoped>\n",
       "    .dataframe tbody tr th:only-of-type {\n",
       "        vertical-align: middle;\n",
       "    }\n",
       "\n",
       "    .dataframe tbody tr th {\n",
       "        vertical-align: top;\n",
       "    }\n",
       "\n",
       "    .dataframe thead th {\n",
       "        text-align: right;\n",
       "    }\n",
       "</style>\n",
       "<table border=\"1\" class=\"dataframe\">\n",
       "  <thead>\n",
       "    <tr style=\"text-align: right;\">\n",
       "      <th></th>\n",
       "      <th>rating</th>\n",
       "      <th>food_rating</th>\n",
       "      <th>service_rating</th>\n",
       "      <th>birth_year</th>\n",
       "      <th>weight</th>\n",
       "      <th>height</th>\n",
       "      <th>Franchise</th>\n",
       "      <th>Accessiblity</th>\n",
       "      <th>Children</th>\n",
       "      <th>Marital_status</th>\n",
       "      <th>...</th>\n",
       "      <th>ucuisine_Swiss</th>\n",
       "      <th>ucuisine_Tapas</th>\n",
       "      <th>ucuisine_Tea_House</th>\n",
       "      <th>ucuisine_Tex-Mex</th>\n",
       "      <th>ucuisine_Thai</th>\n",
       "      <th>ucuisine_Tibetan</th>\n",
       "      <th>ucuisine_Tunisian</th>\n",
       "      <th>ucuisine_Turkish</th>\n",
       "      <th>ucuisine_Vegetarian</th>\n",
       "      <th>ucuisine_Vietnamese</th>\n",
       "    </tr>\n",
       "  </thead>\n",
       "  <tbody>\n",
       "    <tr>\n",
       "      <th>0</th>\n",
       "      <td>2</td>\n",
       "      <td>2</td>\n",
       "      <td>2</td>\n",
       "      <td>34</td>\n",
       "      <td>65</td>\n",
       "      <td>1.71</td>\n",
       "      <td>1</td>\n",
       "      <td>-1</td>\n",
       "      <td>-1</td>\n",
       "      <td>2</td>\n",
       "      <td>...</td>\n",
       "      <td>0</td>\n",
       "      <td>0</td>\n",
       "      <td>0</td>\n",
       "      <td>0</td>\n",
       "      <td>0</td>\n",
       "      <td>0</td>\n",
       "      <td>0</td>\n",
       "      <td>0</td>\n",
       "      <td>0</td>\n",
       "      <td>0</td>\n",
       "    </tr>\n",
       "    <tr>\n",
       "      <th>1</th>\n",
       "      <td>2</td>\n",
       "      <td>2</td>\n",
       "      <td>2</td>\n",
       "      <td>34</td>\n",
       "      <td>65</td>\n",
       "      <td>1.71</td>\n",
       "      <td>1</td>\n",
       "      <td>-1</td>\n",
       "      <td>-1</td>\n",
       "      <td>2</td>\n",
       "      <td>...</td>\n",
       "      <td>0</td>\n",
       "      <td>0</td>\n",
       "      <td>0</td>\n",
       "      <td>0</td>\n",
       "      <td>0</td>\n",
       "      <td>0</td>\n",
       "      <td>0</td>\n",
       "      <td>0</td>\n",
       "      <td>0</td>\n",
       "      <td>0</td>\n",
       "    </tr>\n",
       "    <tr>\n",
       "      <th>2</th>\n",
       "      <td>2</td>\n",
       "      <td>2</td>\n",
       "      <td>2</td>\n",
       "      <td>34</td>\n",
       "      <td>65</td>\n",
       "      <td>1.71</td>\n",
       "      <td>1</td>\n",
       "      <td>-1</td>\n",
       "      <td>-1</td>\n",
       "      <td>2</td>\n",
       "      <td>...</td>\n",
       "      <td>0</td>\n",
       "      <td>0</td>\n",
       "      <td>0</td>\n",
       "      <td>0</td>\n",
       "      <td>0</td>\n",
       "      <td>0</td>\n",
       "      <td>0</td>\n",
       "      <td>0</td>\n",
       "      <td>0</td>\n",
       "      <td>0</td>\n",
       "    </tr>\n",
       "    <tr>\n",
       "      <th>3</th>\n",
       "      <td>2</td>\n",
       "      <td>2</td>\n",
       "      <td>2</td>\n",
       "      <td>34</td>\n",
       "      <td>65</td>\n",
       "      <td>1.71</td>\n",
       "      <td>1</td>\n",
       "      <td>-1</td>\n",
       "      <td>-1</td>\n",
       "      <td>2</td>\n",
       "      <td>...</td>\n",
       "      <td>0</td>\n",
       "      <td>0</td>\n",
       "      <td>0</td>\n",
       "      <td>0</td>\n",
       "      <td>0</td>\n",
       "      <td>0</td>\n",
       "      <td>0</td>\n",
       "      <td>0</td>\n",
       "      <td>0</td>\n",
       "      <td>0</td>\n",
       "    </tr>\n",
       "    <tr>\n",
       "      <th>4</th>\n",
       "      <td>2</td>\n",
       "      <td>2</td>\n",
       "      <td>2</td>\n",
       "      <td>34</td>\n",
       "      <td>65</td>\n",
       "      <td>1.71</td>\n",
       "      <td>1</td>\n",
       "      <td>-1</td>\n",
       "      <td>-1</td>\n",
       "      <td>2</td>\n",
       "      <td>...</td>\n",
       "      <td>0</td>\n",
       "      <td>0</td>\n",
       "      <td>0</td>\n",
       "      <td>0</td>\n",
       "      <td>0</td>\n",
       "      <td>0</td>\n",
       "      <td>0</td>\n",
       "      <td>0</td>\n",
       "      <td>0</td>\n",
       "      <td>0</td>\n",
       "    </tr>\n",
       "    <tr>\n",
       "      <th>...</th>\n",
       "      <td>...</td>\n",
       "      <td>...</td>\n",
       "      <td>...</td>\n",
       "      <td>...</td>\n",
       "      <td>...</td>\n",
       "      <td>...</td>\n",
       "      <td>...</td>\n",
       "      <td>...</td>\n",
       "      <td>...</td>\n",
       "      <td>...</td>\n",
       "      <td>...</td>\n",
       "      <td>...</td>\n",
       "      <td>...</td>\n",
       "      <td>...</td>\n",
       "      <td>...</td>\n",
       "      <td>...</td>\n",
       "      <td>...</td>\n",
       "      <td>...</td>\n",
       "      <td>...</td>\n",
       "      <td>...</td>\n",
       "      <td>...</td>\n",
       "    </tr>\n",
       "    <tr>\n",
       "      <th>26404</th>\n",
       "      <td>2</td>\n",
       "      <td>0</td>\n",
       "      <td>1</td>\n",
       "      <td>30</td>\n",
       "      <td>49</td>\n",
       "      <td>1.59</td>\n",
       "      <td>1</td>\n",
       "      <td>1</td>\n",
       "      <td>1</td>\n",
       "      <td>1</td>\n",
       "      <td>...</td>\n",
       "      <td>0</td>\n",
       "      <td>0</td>\n",
       "      <td>0</td>\n",
       "      <td>0</td>\n",
       "      <td>0</td>\n",
       "      <td>0</td>\n",
       "      <td>0</td>\n",
       "      <td>0</td>\n",
       "      <td>0</td>\n",
       "      <td>0</td>\n",
       "    </tr>\n",
       "    <tr>\n",
       "      <th>26405</th>\n",
       "      <td>2</td>\n",
       "      <td>0</td>\n",
       "      <td>1</td>\n",
       "      <td>30</td>\n",
       "      <td>49</td>\n",
       "      <td>1.59</td>\n",
       "      <td>1</td>\n",
       "      <td>1</td>\n",
       "      <td>1</td>\n",
       "      <td>1</td>\n",
       "      <td>...</td>\n",
       "      <td>0</td>\n",
       "      <td>0</td>\n",
       "      <td>0</td>\n",
       "      <td>0</td>\n",
       "      <td>0</td>\n",
       "      <td>0</td>\n",
       "      <td>0</td>\n",
       "      <td>0</td>\n",
       "      <td>0</td>\n",
       "      <td>0</td>\n",
       "    </tr>\n",
       "    <tr>\n",
       "      <th>26406</th>\n",
       "      <td>2</td>\n",
       "      <td>0</td>\n",
       "      <td>1</td>\n",
       "      <td>30</td>\n",
       "      <td>49</td>\n",
       "      <td>1.59</td>\n",
       "      <td>1</td>\n",
       "      <td>1</td>\n",
       "      <td>1</td>\n",
       "      <td>1</td>\n",
       "      <td>...</td>\n",
       "      <td>0</td>\n",
       "      <td>0</td>\n",
       "      <td>0</td>\n",
       "      <td>0</td>\n",
       "      <td>0</td>\n",
       "      <td>0</td>\n",
       "      <td>0</td>\n",
       "      <td>0</td>\n",
       "      <td>0</td>\n",
       "      <td>0</td>\n",
       "    </tr>\n",
       "    <tr>\n",
       "      <th>26407</th>\n",
       "      <td>2</td>\n",
       "      <td>0</td>\n",
       "      <td>1</td>\n",
       "      <td>30</td>\n",
       "      <td>49</td>\n",
       "      <td>1.59</td>\n",
       "      <td>1</td>\n",
       "      <td>1</td>\n",
       "      <td>1</td>\n",
       "      <td>1</td>\n",
       "      <td>...</td>\n",
       "      <td>0</td>\n",
       "      <td>0</td>\n",
       "      <td>0</td>\n",
       "      <td>0</td>\n",
       "      <td>0</td>\n",
       "      <td>0</td>\n",
       "      <td>0</td>\n",
       "      <td>0</td>\n",
       "      <td>0</td>\n",
       "      <td>0</td>\n",
       "    </tr>\n",
       "    <tr>\n",
       "      <th>26408</th>\n",
       "      <td>2</td>\n",
       "      <td>0</td>\n",
       "      <td>1</td>\n",
       "      <td>30</td>\n",
       "      <td>49</td>\n",
       "      <td>1.59</td>\n",
       "      <td>1</td>\n",
       "      <td>1</td>\n",
       "      <td>1</td>\n",
       "      <td>1</td>\n",
       "      <td>...</td>\n",
       "      <td>0</td>\n",
       "      <td>0</td>\n",
       "      <td>0</td>\n",
       "      <td>0</td>\n",
       "      <td>0</td>\n",
       "      <td>0</td>\n",
       "      <td>0</td>\n",
       "      <td>0</td>\n",
       "      <td>0</td>\n",
       "      <td>0</td>\n",
       "    </tr>\n",
       "  </tbody>\n",
       "</table>\n",
       "<p>26409 rows × 179 columns</p>\n",
       "</div>"
      ],
      "text/plain": [
       "       rating  food_rating  service_rating  birth_year  weight  height  \\\n",
       "0           2            2               2          34      65    1.71   \n",
       "1           2            2               2          34      65    1.71   \n",
       "2           2            2               2          34      65    1.71   \n",
       "3           2            2               2          34      65    1.71   \n",
       "4           2            2               2          34      65    1.71   \n",
       "...       ...          ...             ...         ...     ...     ...   \n",
       "26404       2            0               1          30      49    1.59   \n",
       "26405       2            0               1          30      49    1.59   \n",
       "26406       2            0               1          30      49    1.59   \n",
       "26407       2            0               1          30      49    1.59   \n",
       "26408       2            0               1          30      49    1.59   \n",
       "\n",
       "       Franchise  Accessiblity  Children  Marital_status  ...  ucuisine_Swiss  \\\n",
       "0              1            -1        -1               2  ...               0   \n",
       "1              1            -1        -1               2  ...               0   \n",
       "2              1            -1        -1               2  ...               0   \n",
       "3              1            -1        -1               2  ...               0   \n",
       "4              1            -1        -1               2  ...               0   \n",
       "...          ...           ...       ...             ...  ...             ...   \n",
       "26404          1             1         1               1  ...               0   \n",
       "26405          1             1         1               1  ...               0   \n",
       "26406          1             1         1               1  ...               0   \n",
       "26407          1             1         1               1  ...               0   \n",
       "26408          1             1         1               1  ...               0   \n",
       "\n",
       "       ucuisine_Tapas  ucuisine_Tea_House  ucuisine_Tex-Mex  ucuisine_Thai  \\\n",
       "0                   0                   0                 0              0   \n",
       "1                   0                   0                 0              0   \n",
       "2                   0                   0                 0              0   \n",
       "3                   0                   0                 0              0   \n",
       "4                   0                   0                 0              0   \n",
       "...               ...                 ...               ...            ...   \n",
       "26404               0                   0                 0              0   \n",
       "26405               0                   0                 0              0   \n",
       "26406               0                   0                 0              0   \n",
       "26407               0                   0                 0              0   \n",
       "26408               0                   0                 0              0   \n",
       "\n",
       "       ucuisine_Tibetan  ucuisine_Tunisian  ucuisine_Turkish  \\\n",
       "0                     0                  0                 0   \n",
       "1                     0                  0                 0   \n",
       "2                     0                  0                 0   \n",
       "3                     0                  0                 0   \n",
       "4                     0                  0                 0   \n",
       "...                 ...                ...               ...   \n",
       "26404                 0                  0                 0   \n",
       "26405                 0                  0                 0   \n",
       "26406                 0                  0                 0   \n",
       "26407                 0                  0                 0   \n",
       "26408                 0                  0                 0   \n",
       "\n",
       "       ucuisine_Vegetarian  ucuisine_Vietnamese  \n",
       "0                        0                    0  \n",
       "1                        0                    0  \n",
       "2                        0                    0  \n",
       "3                        0                    0  \n",
       "4                        0                    0  \n",
       "...                    ...                  ...  \n",
       "26404                    0                    0  \n",
       "26405                    0                    0  \n",
       "26406                    0                    0  \n",
       "26407                    0                    0  \n",
       "26408                    0                    0  \n",
       "\n",
       "[26409 rows x 179 columns]"
      ]
     },
     "execution_count": 83,
     "metadata": {},
     "output_type": "execute_result"
    }
   ],
   "source": [
    "df = pd.get_dummies(df, columns=['interest', 'personality', 'religion', 'activity', 'color', 'days', 'other_services', 'rcuisine', 'ucuisine'] )\n",
    "df"
   ]
  },
  {
   "cell_type": "markdown",
   "metadata": {},
   "source": [
    "All the columns we have are now in numerical form. Thus, we can apply any regression model on the dataset."
   ]
  },
  {
   "cell_type": "code",
   "execution_count": 84,
   "metadata": {
    "scrolled": true
   },
   "outputs": [
    {
     "name": "stdout",
     "output_type": "stream",
     "text": [
      "int64\n",
      "int64\n",
      "int64\n",
      "int64\n",
      "int64\n",
      "float64\n",
      "int64\n",
      "int64\n",
      "int64\n",
      "int64\n",
      "int64\n",
      "int64\n",
      "int64\n",
      "int64\n",
      "int64\n",
      "int64\n",
      "int64\n",
      "int64\n",
      "int64\n",
      "float64\n",
      "int64\n",
      "uint8\n",
      "uint8\n",
      "uint8\n",
      "uint8\n",
      "uint8\n",
      "uint8\n",
      "uint8\n",
      "uint8\n",
      "uint8\n",
      "uint8\n",
      "uint8\n",
      "uint8\n",
      "uint8\n",
      "uint8\n",
      "uint8\n",
      "uint8\n",
      "uint8\n",
      "uint8\n",
      "uint8\n",
      "uint8\n",
      "uint8\n",
      "uint8\n",
      "uint8\n",
      "uint8\n",
      "uint8\n",
      "uint8\n",
      "uint8\n",
      "uint8\n",
      "uint8\n",
      "uint8\n",
      "uint8\n",
      "uint8\n",
      "uint8\n",
      "uint8\n",
      "uint8\n",
      "uint8\n",
      "uint8\n",
      "uint8\n",
      "uint8\n",
      "uint8\n",
      "uint8\n",
      "uint8\n",
      "uint8\n",
      "uint8\n",
      "uint8\n",
      "uint8\n",
      "uint8\n",
      "uint8\n",
      "uint8\n",
      "uint8\n",
      "uint8\n",
      "uint8\n",
      "uint8\n",
      "uint8\n",
      "uint8\n",
      "uint8\n",
      "uint8\n",
      "uint8\n",
      "uint8\n",
      "uint8\n",
      "uint8\n",
      "uint8\n",
      "uint8\n",
      "uint8\n",
      "uint8\n",
      "uint8\n",
      "uint8\n",
      "uint8\n",
      "uint8\n",
      "uint8\n",
      "uint8\n",
      "uint8\n",
      "uint8\n",
      "uint8\n",
      "uint8\n",
      "uint8\n",
      "uint8\n",
      "uint8\n",
      "uint8\n",
      "uint8\n",
      "uint8\n",
      "uint8\n",
      "uint8\n",
      "uint8\n",
      "uint8\n",
      "uint8\n",
      "uint8\n",
      "uint8\n",
      "uint8\n",
      "uint8\n",
      "uint8\n",
      "uint8\n",
      "uint8\n",
      "uint8\n",
      "uint8\n",
      "uint8\n",
      "uint8\n",
      "uint8\n",
      "uint8\n",
      "uint8\n",
      "uint8\n",
      "uint8\n",
      "uint8\n",
      "uint8\n",
      "uint8\n",
      "uint8\n",
      "uint8\n",
      "uint8\n",
      "uint8\n",
      "uint8\n",
      "uint8\n",
      "uint8\n",
      "uint8\n",
      "uint8\n",
      "uint8\n",
      "uint8\n",
      "uint8\n",
      "uint8\n",
      "uint8\n",
      "uint8\n",
      "uint8\n",
      "uint8\n",
      "uint8\n",
      "uint8\n",
      "uint8\n",
      "uint8\n",
      "uint8\n",
      "uint8\n",
      "uint8\n",
      "uint8\n",
      "uint8\n",
      "uint8\n",
      "uint8\n",
      "uint8\n",
      "uint8\n",
      "uint8\n",
      "uint8\n",
      "uint8\n",
      "uint8\n",
      "uint8\n",
      "uint8\n",
      "uint8\n",
      "uint8\n",
      "uint8\n",
      "uint8\n",
      "uint8\n",
      "uint8\n",
      "uint8\n",
      "uint8\n",
      "uint8\n",
      "uint8\n",
      "uint8\n",
      "uint8\n",
      "uint8\n",
      "uint8\n",
      "uint8\n",
      "uint8\n",
      "uint8\n"
     ]
    }
   ],
   "source": [
    "for i in df.dtypes:\n",
    "    print(i)"
   ]
  },
  {
   "cell_type": "code",
   "execution_count": 85,
   "metadata": {},
   "outputs": [],
   "source": [
    "x_col = df.drop(columns = ['rating', 'food_rating', 'service_rating'])\n",
    "y_col = df[['rating', 'food_rating', 'service_rating']]"
   ]
  },
  {
   "cell_type": "markdown",
   "metadata": {},
   "source": [
    "### Normalisation"
   ]
  },
  {
   "cell_type": "code",
   "execution_count": 86,
   "metadata": {},
   "outputs": [],
   "source": [
    "mms = MinMaxScaler()\n",
    "x_norm = mms.fit_transform(x_col)"
   ]
  },
  {
   "cell_type": "markdown",
   "metadata": {},
   "source": [
    "## Model Creation and Evauation"
   ]
  },
  {
   "cell_type": "markdown",
   "metadata": {},
   "source": [
    "Looking at the dataset, we can say very clearly that different columns will bear a different amount of impact on the given output columns. A linear regression model is unable to identify the \"weights\" which the \"x-values\" will need to work properly. Thus, it is most preferred to go ahead with a Multilayer perceptron, which can successfully identify the \"weights\" of all the \"x-values\" and give us a more successful prediction."
   ]
  },
  {
   "cell_type": "markdown",
   "metadata": {},
   "source": [
    "### Linear Regression (Just out of curiosity)"
   ]
  },
  {
   "cell_type": "code",
   "execution_count": 87,
   "metadata": {},
   "outputs": [],
   "source": [
    "x_train, x_test, y_train, y_test = train_test_split(x_norm, y_col, random_state=0)"
   ]
  },
  {
   "cell_type": "code",
   "execution_count": 88,
   "metadata": {},
   "outputs": [
    {
     "data": {
      "text/plain": [
       "LinearRegression()"
      ]
     },
     "execution_count": 88,
     "metadata": {},
     "output_type": "execute_result"
    }
   ],
   "source": [
    "lm = LinearRegression()\n",
    "lm.fit(x_train, y_train)"
   ]
  },
  {
   "cell_type": "code",
   "execution_count": 89,
   "metadata": {},
   "outputs": [
    {
     "data": {
      "text/plain": [
       "array([[-0.19488525,  0.13981628, -0.34259033],\n",
       "       [ 1.71124268,  1.32957077,  1.30285645],\n",
       "       [ 0.8230896 ,  0.89165878,  1.06036377],\n",
       "       ...,\n",
       "       [-0.22290039, -0.07970428, -0.06054688],\n",
       "       [ 1.40621948,  0.96695328,  0.77850342],\n",
       "       [ 0.07614136,  0.06235504,  0.128479  ]])"
      ]
     },
     "execution_count": 89,
     "metadata": {},
     "output_type": "execute_result"
    }
   ],
   "source": [
    "predict = lm.predict(x_test)\n",
    "predict"
   ]
  },
  {
   "cell_type": "markdown",
   "metadata": {},
   "source": [
    "Since there are 3 values which are being predicted, we can see a list of size [n X 3]"
   ]
  },
  {
   "cell_type": "code",
   "execution_count": 90,
   "metadata": {},
   "outputs": [
    {
     "data": {
      "text/plain": [
       "0.21487455500192376"
      ]
     },
     "execution_count": 90,
     "metadata": {},
     "output_type": "execute_result"
    }
   ],
   "source": [
    "mean_squared_error(y_test, predict)"
   ]
  },
  {
   "cell_type": "code",
   "execution_count": 91,
   "metadata": {},
   "outputs": [
    {
     "data": {
      "text/plain": [
       "0.31865464458497345"
      ]
     },
     "execution_count": 91,
     "metadata": {},
     "output_type": "execute_result"
    }
   ],
   "source": [
    "mean_absolute_error(y_test, predict)"
   ]
  },
  {
   "cell_type": "code",
   "execution_count": 92,
   "metadata": {
    "scrolled": true
   },
   "outputs": [
    {
     "data": {
      "text/plain": [
       "0.7023133648353234"
      ]
     },
     "execution_count": 92,
     "metadata": {},
     "output_type": "execute_result"
    }
   ],
   "source": [
    "r2_score(y_test, predict)"
   ]
  },
  {
   "cell_type": "markdown",
   "metadata": {},
   "source": [
    "### Using a multi-layer perceptron"
   ]
  },
  {
   "cell_type": "code",
   "execution_count": 93,
   "metadata": {
    "scrolled": true
   },
   "outputs": [
    {
     "name": "stdout",
     "output_type": "stream",
     "text": [
      "Iteration 1, loss = 0.18565922\n",
      "Iteration 2, loss = 0.10255436\n",
      "Iteration 3, loss = 0.08530957\n",
      "Iteration 4, loss = 0.07286189\n",
      "Iteration 5, loss = 0.06538430\n",
      "Iteration 6, loss = 0.05729591\n",
      "Iteration 7, loss = 0.05161547\n",
      "Iteration 8, loss = 0.04756421\n",
      "Iteration 9, loss = 0.04355669\n",
      "Iteration 10, loss = 0.03998650\n",
      "Iteration 11, loss = 0.03741529\n",
      "Iteration 12, loss = 0.03475800\n",
      "Iteration 13, loss = 0.03318035\n",
      "Iteration 14, loss = 0.03112085\n",
      "Iteration 15, loss = 0.02943807\n",
      "Iteration 16, loss = 0.02845867\n",
      "Iteration 17, loss = 0.02725807\n",
      "Iteration 18, loss = 0.02563680\n",
      "Iteration 19, loss = 0.02490913\n",
      "Iteration 20, loss = 0.02350601\n",
      "Iteration 21, loss = 0.02262724\n",
      "Iteration 22, loss = 0.02203855\n",
      "Iteration 23, loss = 0.02116777\n",
      "Iteration 24, loss = 0.02183663\n",
      "Iteration 25, loss = 0.01954482\n",
      "Iteration 26, loss = 0.01895268\n",
      "Iteration 27, loss = 0.01856479\n",
      "Iteration 28, loss = 0.01767245\n",
      "Iteration 29, loss = 0.01724479\n",
      "Iteration 30, loss = 0.01661784\n",
      "Iteration 31, loss = 0.01637199\n",
      "Iteration 32, loss = 0.01713732\n",
      "Iteration 33, loss = 0.01719545\n",
      "Iteration 34, loss = 0.01485382\n",
      "Iteration 35, loss = 0.01439321\n",
      "Iteration 36, loss = 0.01419539\n",
      "Iteration 37, loss = 0.01378620\n",
      "Iteration 38, loss = 0.01353330\n",
      "Iteration 39, loss = 0.01386884\n",
      "Iteration 40, loss = 0.01292387\n",
      "Iteration 41, loss = 0.01309926\n",
      "Iteration 42, loss = 0.01304598\n",
      "Iteration 43, loss = 0.01193349\n",
      "Iteration 44, loss = 0.01164772\n",
      "Iteration 45, loss = 0.01150173\n",
      "Iteration 46, loss = 0.01137794\n",
      "Iteration 47, loss = 0.01092659\n",
      "Iteration 48, loss = 0.01072251\n",
      "Iteration 49, loss = 0.01135108\n",
      "Iteration 50, loss = 0.01037545\n",
      "Iteration 51, loss = 0.01020555\n",
      "Iteration 52, loss = 0.01000465\n",
      "Iteration 53, loss = 0.00995519\n",
      "Iteration 54, loss = 0.01098339\n",
      "Iteration 55, loss = 0.00947414\n",
      "Iteration 56, loss = 0.00938884\n",
      "Iteration 57, loss = 0.00922108\n",
      "Iteration 58, loss = 0.00899338\n",
      "Iteration 59, loss = 0.00888185\n",
      "Iteration 60, loss = 0.00869811\n",
      "Iteration 61, loss = 0.00866227\n",
      "Iteration 62, loss = 0.00869979\n",
      "Iteration 63, loss = 0.00847978\n",
      "Iteration 64, loss = 0.00824237\n",
      "Iteration 65, loss = 0.00830006\n",
      "Iteration 66, loss = 0.00828841\n",
      "Iteration 67, loss = 0.00808338\n",
      "Iteration 68, loss = 0.00774002\n",
      "Iteration 69, loss = 0.00784814\n",
      "Iteration 70, loss = 0.00758978\n",
      "Iteration 71, loss = 0.00831000\n",
      "Iteration 72, loss = 0.00811195\n",
      "Iteration 73, loss = 0.00747099\n",
      "Iteration 74, loss = 0.00723108\n",
      "Iteration 75, loss = 0.00717363\n",
      "Iteration 76, loss = 0.00698177\n",
      "Iteration 77, loss = 0.00700584\n",
      "Iteration 78, loss = 0.00708140\n",
      "Iteration 79, loss = 0.00772387\n",
      "Iteration 80, loss = 0.00733816\n",
      "Iteration 81, loss = 0.00668338\n",
      "Iteration 82, loss = 0.00660581\n",
      "Iteration 83, loss = 0.00652785\n",
      "Iteration 84, loss = 0.00716493\n",
      "Iteration 85, loss = 0.00661034\n",
      "Iteration 86, loss = 0.00638170\n",
      "Iteration 87, loss = 0.00623901\n",
      "Iteration 88, loss = 0.00619901\n",
      "Iteration 89, loss = 0.00614973\n",
      "Iteration 90, loss = 0.00622383\n",
      "Iteration 91, loss = 0.00610822\n",
      "Iteration 92, loss = 0.00609102\n",
      "Iteration 93, loss = 0.00962104\n",
      "Iteration 94, loss = 0.00618608\n",
      "Iteration 95, loss = 0.00592258\n",
      "Iteration 96, loss = 0.00605536\n",
      "Iteration 97, loss = 0.00641257\n",
      "Iteration 98, loss = 0.00581090\n",
      "Iteration 99, loss = 0.00567817\n",
      "Iteration 100, loss = 0.00583086\n",
      "Iteration 101, loss = 0.00561807\n",
      "Iteration 102, loss = 0.00556815\n",
      "Iteration 103, loss = 0.00580975\n",
      "Iteration 104, loss = 0.00553774\n",
      "Iteration 105, loss = 0.00548549\n",
      "Iteration 106, loss = 0.00542433\n",
      "Iteration 107, loss = 0.00535168\n",
      "Iteration 108, loss = 0.00533995\n",
      "Iteration 109, loss = 0.00532279\n",
      "Iteration 110, loss = 0.00555414\n",
      "Training loss did not improve more than tol=0.000100 for 10 consecutive epochs. Stopping.\n"
     ]
    },
    {
     "data": {
      "text/plain": [
       "MLPRegressor(learning_rate='invscaling', random_state=0, verbose=2)"
      ]
     },
     "execution_count": 93,
     "metadata": {},
     "output_type": "execute_result"
    }
   ],
   "source": [
    "mlp = MLPRegressor(max_iter=200, activation='relu', verbose=2, learning_rate = 'invscaling', random_state=0)\n",
    "mlp.fit(x_train,y_train)"
   ]
  },
  {
   "cell_type": "code",
   "execution_count": 94,
   "metadata": {},
   "outputs": [],
   "source": [
    "mlpredict = mlp.predict(x_test)"
   ]
  },
  {
   "cell_type": "code",
   "execution_count": 95,
   "metadata": {},
   "outputs": [
    {
     "data": {
      "text/plain": [
       "0.014892577915570067"
      ]
     },
     "execution_count": 95,
     "metadata": {},
     "output_type": "execute_result"
    }
   ],
   "source": [
    "mean_squared_error(y_test, mlpredict)"
   ]
  },
  {
   "cell_type": "code",
   "execution_count": 96,
   "metadata": {},
   "outputs": [
    {
     "data": {
      "text/plain": [
       "0.05602829082445484"
      ]
     },
     "execution_count": 96,
     "metadata": {},
     "output_type": "execute_result"
    }
   ],
   "source": [
    "mean_absolute_error(y_test, mlpredict)"
   ]
  },
  {
   "cell_type": "code",
   "execution_count": 97,
   "metadata": {},
   "outputs": [
    {
     "data": {
      "text/plain": [
       "0.9793407608180682"
      ]
     },
     "execution_count": 97,
     "metadata": {},
     "output_type": "execute_result"
    }
   ],
   "source": [
    "r2_score(y_test, mlpredict)"
   ]
  },
  {
   "cell_type": "markdown",
   "metadata": {},
   "source": [
    "As is clearly visible, the MAE and MSE for this are much lesser than they were in case of linear regression. The high r2 score suggests that the model has fit very well for the given data. Although, it may even cause overfitting and so, we should test the model with some other data as well. "
   ]
  },
  {
   "cell_type": "markdown",
   "metadata": {},
   "source": [
    "### Trying out different values of max_iter to see where the model flatlines"
   ]
  },
  {
   "cell_type": "code",
   "execution_count": 98,
   "metadata": {
    "scrolled": true
   },
   "outputs": [
    {
     "name": "stdout",
     "output_type": "stream",
     "text": [
      "\n",
      "\n",
      "Maximum iterations 10:\n",
      "\n",
      "\n",
      "Run number 1:\n",
      "\n"
     ]
    },
    {
     "name": "stderr",
     "output_type": "stream",
     "text": [
      "C:\\Users\\hites\\Anaconda3\\lib\\site-packages\\sklearn\\neural_network\\_multilayer_perceptron.py:582: ConvergenceWarning: Stochastic Optimizer: Maximum iterations (10) reached and the optimization hasn't converged yet.\n",
      "  warnings.warn(\n"
     ]
    },
    {
     "name": "stdout",
     "output_type": "stream",
     "text": [
      "\n",
      "Run number 2:\n",
      "\n"
     ]
    },
    {
     "name": "stderr",
     "output_type": "stream",
     "text": [
      "C:\\Users\\hites\\Anaconda3\\lib\\site-packages\\sklearn\\neural_network\\_multilayer_perceptron.py:582: ConvergenceWarning: Stochastic Optimizer: Maximum iterations (10) reached and the optimization hasn't converged yet.\n",
      "  warnings.warn(\n"
     ]
    },
    {
     "name": "stdout",
     "output_type": "stream",
     "text": [
      "\n",
      "Run number 3:\n",
      "\n"
     ]
    },
    {
     "name": "stderr",
     "output_type": "stream",
     "text": [
      "C:\\Users\\hites\\Anaconda3\\lib\\site-packages\\sklearn\\neural_network\\_multilayer_perceptron.py:582: ConvergenceWarning: Stochastic Optimizer: Maximum iterations (10) reached and the optimization hasn't converged yet.\n",
      "  warnings.warn(\n"
     ]
    },
    {
     "name": "stdout",
     "output_type": "stream",
     "text": [
      "\n",
      "Run number 4:\n",
      "\n"
     ]
    },
    {
     "name": "stderr",
     "output_type": "stream",
     "text": [
      "C:\\Users\\hites\\Anaconda3\\lib\\site-packages\\sklearn\\neural_network\\_multilayer_perceptron.py:582: ConvergenceWarning: Stochastic Optimizer: Maximum iterations (10) reached and the optimization hasn't converged yet.\n",
      "  warnings.warn(\n"
     ]
    },
    {
     "name": "stdout",
     "output_type": "stream",
     "text": [
      "\n",
      "Run number 5:\n",
      "\n"
     ]
    },
    {
     "name": "stderr",
     "output_type": "stream",
     "text": [
      "C:\\Users\\hites\\Anaconda3\\lib\\site-packages\\sklearn\\neural_network\\_multilayer_perceptron.py:582: ConvergenceWarning: Stochastic Optimizer: Maximum iterations (10) reached and the optimization hasn't converged yet.\n",
      "  warnings.warn(\n"
     ]
    },
    {
     "name": "stdout",
     "output_type": "stream",
     "text": [
      "\n",
      "\n",
      "Maximum iterations 30:\n",
      "\n",
      "\n",
      "Run number 1:\n",
      "\n"
     ]
    },
    {
     "name": "stderr",
     "output_type": "stream",
     "text": [
      "C:\\Users\\hites\\Anaconda3\\lib\\site-packages\\sklearn\\neural_network\\_multilayer_perceptron.py:582: ConvergenceWarning: Stochastic Optimizer: Maximum iterations (30) reached and the optimization hasn't converged yet.\n",
      "  warnings.warn(\n"
     ]
    },
    {
     "name": "stdout",
     "output_type": "stream",
     "text": [
      "\n",
      "Run number 2:\n",
      "\n"
     ]
    },
    {
     "name": "stderr",
     "output_type": "stream",
     "text": [
      "C:\\Users\\hites\\Anaconda3\\lib\\site-packages\\sklearn\\neural_network\\_multilayer_perceptron.py:582: ConvergenceWarning: Stochastic Optimizer: Maximum iterations (30) reached and the optimization hasn't converged yet.\n",
      "  warnings.warn(\n"
     ]
    },
    {
     "name": "stdout",
     "output_type": "stream",
     "text": [
      "\n",
      "Run number 3:\n",
      "\n"
     ]
    },
    {
     "name": "stderr",
     "output_type": "stream",
     "text": [
      "C:\\Users\\hites\\Anaconda3\\lib\\site-packages\\sklearn\\neural_network\\_multilayer_perceptron.py:582: ConvergenceWarning: Stochastic Optimizer: Maximum iterations (30) reached and the optimization hasn't converged yet.\n",
      "  warnings.warn(\n"
     ]
    },
    {
     "name": "stdout",
     "output_type": "stream",
     "text": [
      "\n",
      "Run number 4:\n",
      "\n"
     ]
    },
    {
     "name": "stderr",
     "output_type": "stream",
     "text": [
      "C:\\Users\\hites\\Anaconda3\\lib\\site-packages\\sklearn\\neural_network\\_multilayer_perceptron.py:582: ConvergenceWarning: Stochastic Optimizer: Maximum iterations (30) reached and the optimization hasn't converged yet.\n",
      "  warnings.warn(\n"
     ]
    },
    {
     "name": "stdout",
     "output_type": "stream",
     "text": [
      "\n",
      "Run number 5:\n",
      "\n"
     ]
    },
    {
     "name": "stderr",
     "output_type": "stream",
     "text": [
      "C:\\Users\\hites\\Anaconda3\\lib\\site-packages\\sklearn\\neural_network\\_multilayer_perceptron.py:582: ConvergenceWarning: Stochastic Optimizer: Maximum iterations (30) reached and the optimization hasn't converged yet.\n",
      "  warnings.warn(\n"
     ]
    },
    {
     "name": "stdout",
     "output_type": "stream",
     "text": [
      "\n",
      "\n",
      "Maximum iterations 50:\n",
      "\n",
      "\n",
      "Run number 1:\n",
      "\n"
     ]
    },
    {
     "name": "stderr",
     "output_type": "stream",
     "text": [
      "C:\\Users\\hites\\Anaconda3\\lib\\site-packages\\sklearn\\neural_network\\_multilayer_perceptron.py:582: ConvergenceWarning: Stochastic Optimizer: Maximum iterations (50) reached and the optimization hasn't converged yet.\n",
      "  warnings.warn(\n"
     ]
    },
    {
     "name": "stdout",
     "output_type": "stream",
     "text": [
      "\n",
      "Run number 2:\n",
      "\n"
     ]
    },
    {
     "name": "stderr",
     "output_type": "stream",
     "text": [
      "C:\\Users\\hites\\Anaconda3\\lib\\site-packages\\sklearn\\neural_network\\_multilayer_perceptron.py:582: ConvergenceWarning: Stochastic Optimizer: Maximum iterations (50) reached and the optimization hasn't converged yet.\n",
      "  warnings.warn(\n"
     ]
    },
    {
     "name": "stdout",
     "output_type": "stream",
     "text": [
      "\n",
      "Run number 3:\n",
      "\n"
     ]
    },
    {
     "name": "stderr",
     "output_type": "stream",
     "text": [
      "C:\\Users\\hites\\Anaconda3\\lib\\site-packages\\sklearn\\neural_network\\_multilayer_perceptron.py:582: ConvergenceWarning: Stochastic Optimizer: Maximum iterations (50) reached and the optimization hasn't converged yet.\n",
      "  warnings.warn(\n"
     ]
    },
    {
     "name": "stdout",
     "output_type": "stream",
     "text": [
      "\n",
      "Run number 4:\n",
      "\n"
     ]
    },
    {
     "name": "stderr",
     "output_type": "stream",
     "text": [
      "C:\\Users\\hites\\Anaconda3\\lib\\site-packages\\sklearn\\neural_network\\_multilayer_perceptron.py:582: ConvergenceWarning: Stochastic Optimizer: Maximum iterations (50) reached and the optimization hasn't converged yet.\n",
      "  warnings.warn(\n"
     ]
    },
    {
     "name": "stdout",
     "output_type": "stream",
     "text": [
      "\n",
      "Run number 5:\n",
      "\n"
     ]
    },
    {
     "name": "stderr",
     "output_type": "stream",
     "text": [
      "C:\\Users\\hites\\Anaconda3\\lib\\site-packages\\sklearn\\neural_network\\_multilayer_perceptron.py:582: ConvergenceWarning: Stochastic Optimizer: Maximum iterations (50) reached and the optimization hasn't converged yet.\n",
      "  warnings.warn(\n"
     ]
    },
    {
     "name": "stdout",
     "output_type": "stream",
     "text": [
      "\n",
      "\n",
      "Maximum iterations 70:\n",
      "\n",
      "\n",
      "Run number 1:\n",
      "\n"
     ]
    },
    {
     "name": "stderr",
     "output_type": "stream",
     "text": [
      "C:\\Users\\hites\\Anaconda3\\lib\\site-packages\\sklearn\\neural_network\\_multilayer_perceptron.py:582: ConvergenceWarning: Stochastic Optimizer: Maximum iterations (70) reached and the optimization hasn't converged yet.\n",
      "  warnings.warn(\n"
     ]
    },
    {
     "name": "stdout",
     "output_type": "stream",
     "text": [
      "\n",
      "Run number 2:\n",
      "\n"
     ]
    },
    {
     "name": "stderr",
     "output_type": "stream",
     "text": [
      "C:\\Users\\hites\\Anaconda3\\lib\\site-packages\\sklearn\\neural_network\\_multilayer_perceptron.py:582: ConvergenceWarning: Stochastic Optimizer: Maximum iterations (70) reached and the optimization hasn't converged yet.\n",
      "  warnings.warn(\n"
     ]
    },
    {
     "name": "stdout",
     "output_type": "stream",
     "text": [
      "\n",
      "Run number 3:\n",
      "\n"
     ]
    },
    {
     "name": "stderr",
     "output_type": "stream",
     "text": [
      "C:\\Users\\hites\\Anaconda3\\lib\\site-packages\\sklearn\\neural_network\\_multilayer_perceptron.py:582: ConvergenceWarning: Stochastic Optimizer: Maximum iterations (70) reached and the optimization hasn't converged yet.\n",
      "  warnings.warn(\n"
     ]
    },
    {
     "name": "stdout",
     "output_type": "stream",
     "text": [
      "\n",
      "Run number 4:\n",
      "\n"
     ]
    },
    {
     "name": "stderr",
     "output_type": "stream",
     "text": [
      "C:\\Users\\hites\\Anaconda3\\lib\\site-packages\\sklearn\\neural_network\\_multilayer_perceptron.py:582: ConvergenceWarning: Stochastic Optimizer: Maximum iterations (70) reached and the optimization hasn't converged yet.\n",
      "  warnings.warn(\n"
     ]
    },
    {
     "name": "stdout",
     "output_type": "stream",
     "text": [
      "\n",
      "Run number 5:\n",
      "\n"
     ]
    },
    {
     "name": "stderr",
     "output_type": "stream",
     "text": [
      "C:\\Users\\hites\\Anaconda3\\lib\\site-packages\\sklearn\\neural_network\\_multilayer_perceptron.py:582: ConvergenceWarning: Stochastic Optimizer: Maximum iterations (70) reached and the optimization hasn't converged yet.\n",
      "  warnings.warn(\n"
     ]
    },
    {
     "name": "stdout",
     "output_type": "stream",
     "text": [
      "\n",
      "\n",
      "Maximum iterations 90:\n",
      "\n",
      "\n",
      "Run number 1:\n",
      "\n"
     ]
    },
    {
     "name": "stderr",
     "output_type": "stream",
     "text": [
      "C:\\Users\\hites\\Anaconda3\\lib\\site-packages\\sklearn\\neural_network\\_multilayer_perceptron.py:582: ConvergenceWarning: Stochastic Optimizer: Maximum iterations (90) reached and the optimization hasn't converged yet.\n",
      "  warnings.warn(\n"
     ]
    },
    {
     "name": "stdout",
     "output_type": "stream",
     "text": [
      "\n",
      "Run number 2:\n",
      "\n"
     ]
    },
    {
     "name": "stderr",
     "output_type": "stream",
     "text": [
      "C:\\Users\\hites\\Anaconda3\\lib\\site-packages\\sklearn\\neural_network\\_multilayer_perceptron.py:582: ConvergenceWarning: Stochastic Optimizer: Maximum iterations (90) reached and the optimization hasn't converged yet.\n",
      "  warnings.warn(\n"
     ]
    },
    {
     "name": "stdout",
     "output_type": "stream",
     "text": [
      "\n",
      "Run number 3:\n",
      "\n"
     ]
    },
    {
     "name": "stderr",
     "output_type": "stream",
     "text": [
      "C:\\Users\\hites\\Anaconda3\\lib\\site-packages\\sklearn\\neural_network\\_multilayer_perceptron.py:582: ConvergenceWarning: Stochastic Optimizer: Maximum iterations (90) reached and the optimization hasn't converged yet.\n",
      "  warnings.warn(\n"
     ]
    },
    {
     "name": "stdout",
     "output_type": "stream",
     "text": [
      "\n",
      "Run number 4:\n",
      "\n"
     ]
    },
    {
     "name": "stderr",
     "output_type": "stream",
     "text": [
      "C:\\Users\\hites\\Anaconda3\\lib\\site-packages\\sklearn\\neural_network\\_multilayer_perceptron.py:582: ConvergenceWarning: Stochastic Optimizer: Maximum iterations (90) reached and the optimization hasn't converged yet.\n",
      "  warnings.warn(\n"
     ]
    },
    {
     "name": "stdout",
     "output_type": "stream",
     "text": [
      "\n",
      "Run number 5:\n",
      "\n"
     ]
    },
    {
     "name": "stderr",
     "output_type": "stream",
     "text": [
      "C:\\Users\\hites\\Anaconda3\\lib\\site-packages\\sklearn\\neural_network\\_multilayer_perceptron.py:582: ConvergenceWarning: Stochastic Optimizer: Maximum iterations (90) reached and the optimization hasn't converged yet.\n",
      "  warnings.warn(\n"
     ]
    },
    {
     "name": "stdout",
     "output_type": "stream",
     "text": [
      "\n",
      "\n",
      "Maximum iterations 110:\n",
      "\n",
      "\n",
      "Run number 1:\n",
      "\n"
     ]
    },
    {
     "name": "stderr",
     "output_type": "stream",
     "text": [
      "C:\\Users\\hites\\Anaconda3\\lib\\site-packages\\sklearn\\neural_network\\_multilayer_perceptron.py:582: ConvergenceWarning: Stochastic Optimizer: Maximum iterations (110) reached and the optimization hasn't converged yet.\n",
      "  warnings.warn(\n"
     ]
    },
    {
     "name": "stdout",
     "output_type": "stream",
     "text": [
      "\n",
      "Run number 2:\n",
      "\n"
     ]
    },
    {
     "name": "stderr",
     "output_type": "stream",
     "text": [
      "C:\\Users\\hites\\Anaconda3\\lib\\site-packages\\sklearn\\neural_network\\_multilayer_perceptron.py:582: ConvergenceWarning: Stochastic Optimizer: Maximum iterations (110) reached and the optimization hasn't converged yet.\n",
      "  warnings.warn(\n"
     ]
    },
    {
     "name": "stdout",
     "output_type": "stream",
     "text": [
      "\n",
      "Run number 3:\n",
      "\n"
     ]
    },
    {
     "name": "stderr",
     "output_type": "stream",
     "text": [
      "C:\\Users\\hites\\Anaconda3\\lib\\site-packages\\sklearn\\neural_network\\_multilayer_perceptron.py:582: ConvergenceWarning: Stochastic Optimizer: Maximum iterations (110) reached and the optimization hasn't converged yet.\n",
      "  warnings.warn(\n"
     ]
    },
    {
     "name": "stdout",
     "output_type": "stream",
     "text": [
      "\n",
      "Run number 4:\n",
      "\n"
     ]
    },
    {
     "name": "stderr",
     "output_type": "stream",
     "text": [
      "C:\\Users\\hites\\Anaconda3\\lib\\site-packages\\sklearn\\neural_network\\_multilayer_perceptron.py:582: ConvergenceWarning: Stochastic Optimizer: Maximum iterations (110) reached and the optimization hasn't converged yet.\n",
      "  warnings.warn(\n"
     ]
    },
    {
     "name": "stdout",
     "output_type": "stream",
     "text": [
      "\n",
      "Run number 5:\n",
      "\n"
     ]
    },
    {
     "name": "stderr",
     "output_type": "stream",
     "text": [
      "C:\\Users\\hites\\Anaconda3\\lib\\site-packages\\sklearn\\neural_network\\_multilayer_perceptron.py:582: ConvergenceWarning: Stochastic Optimizer: Maximum iterations (110) reached and the optimization hasn't converged yet.\n",
      "  warnings.warn(\n"
     ]
    },
    {
     "name": "stdout",
     "output_type": "stream",
     "text": [
      "\n",
      "\n",
      "Maximum iterations 130:\n",
      "\n",
      "\n",
      "Run number 1:\n",
      "\n",
      "\n",
      "Run number 2:\n",
      "\n",
      "\n",
      "Run number 3:\n",
      "\n",
      "\n",
      "Run number 4:\n",
      "\n",
      "\n",
      "Run number 5:\n",
      "\n"
     ]
    },
    {
     "name": "stderr",
     "output_type": "stream",
     "text": [
      "C:\\Users\\hites\\Anaconda3\\lib\\site-packages\\sklearn\\neural_network\\_multilayer_perceptron.py:582: ConvergenceWarning: Stochastic Optimizer: Maximum iterations (130) reached and the optimization hasn't converged yet.\n",
      "  warnings.warn(\n"
     ]
    },
    {
     "name": "stdout",
     "output_type": "stream",
     "text": [
      "\n",
      "\n",
      "Maximum iterations 150:\n",
      "\n",
      "\n",
      "Run number 1:\n",
      "\n",
      "\n",
      "Run number 2:\n",
      "\n",
      "\n",
      "Run number 3:\n",
      "\n",
      "\n",
      "Run number 4:\n",
      "\n",
      "\n",
      "Run number 5:\n",
      "\n"
     ]
    }
   ],
   "source": [
    "iterArray = range(10,151,20)\n",
    "r2Array = []\n",
    "runs = 5\n",
    "\n",
    "for i in iterArray:\n",
    "    \n",
    "    r2Avg = 0\n",
    "    mlpr = MLPRegressor(max_iter=i, activation='relu', learning_rate = 'invscaling')\n",
    "    print(f'\\n\\nMaximum iterations {i}:\\n')\n",
    "    \n",
    "    for j in range(runs):\n",
    "        \n",
    "        print(f'\\nRun number {j+1}:\\n')\n",
    "        mlpr.fit(x_train,y_train)\n",
    "        pred = mlpr.predict(x_test)\n",
    "        r2Avg += r2_score(y_test, pred)\n",
    "        \n",
    "    r2Avg /= runs\n",
    "    r2Array.append(r2Avg)"
   ]
  },
  {
   "cell_type": "markdown",
   "metadata": {},
   "source": [
    "The verbose suggests that there is a possiblity for the model to not converge even at 130."
   ]
  },
  {
   "cell_type": "code",
   "execution_count": 99,
   "metadata": {},
   "outputs": [
    {
     "data": {
      "image/png": "[encoded data removed]",
      "text/plain": [
       "<Figure size 432x288 with 1 Axes>"
      ]
     },
     "metadata": {
      "needs_background": "light"
     },
     "output_type": "display_data"
    }
   ],
   "source": [
    "sns.scatterplot(x=iterArray,y=r2Array)\n",
    "sns.lineplot(x=iterArray,y=r2Array)\n",
    "\n",
    "plt.xlabel('Max Iterations')\n",
    "plt.ylabel('R2 Score')\n",
    "plt.grid(linestyle='--')"
   ]
  },
  {
   "cell_type": "markdown",
   "metadata": {},
   "source": [
    "The best R2 score the model can achieve flatlines at max iter 110. The model usually converges by then although as seen above, there is a chance for it to not converge completely."
   ]
  },
  {
   "cell_type": "markdown",
   "metadata": {},
   "source": [
    "## Trying out different Test and Train ratios"
   ]
  },
  {
   "cell_type": "code",
   "execution_count": 100,
   "metadata": {},
   "outputs": [],
   "source": [
    "mae = []\n",
    "mse = []\n",
    "r2 = []"
   ]
  },
  {
   "cell_type": "code",
   "execution_count": 101,
   "metadata": {},
   "outputs": [],
   "source": [
    "mlp = MLPRegressor(max_iter=500, activation='relu', learning_rate = 'invscaling', random_state=0)"
   ]
  },
  {
   "cell_type": "markdown",
   "metadata": {},
   "source": [
    "### Ratios 80:20, 75:25 and 70:30"
   ]
  },
  {
   "cell_type": "code",
   "execution_count": 102,
   "metadata": {},
   "outputs": [],
   "source": [
    "test_sizes = [0.2, 0.25, 0.3]"
   ]
  },
  {
   "cell_type": "code",
   "execution_count": 103,
   "metadata": {
    "scrolled": true
   },
   "outputs": [],
   "source": [
    "for size in test_sizes:\n",
    "    \n",
    "    x_train, x_test, y_train, y_test = train_test_split(x_norm, y_col, test_size = size, random_state=0)\n",
    "    \n",
    "    mlp.fit(x_train,y_train)\n",
    "    \n",
    "    prd = mlp.predict(x_test)\n",
    "    \n",
    "    mse.append(mean_squared_error(y_test, prd))\n",
    "    mae.append(mean_absolute_error(y_test, prd))\n",
    "    r2.append(r2_score(y_test, prd))"
   ]
  },
  {
   "cell_type": "markdown",
   "metadata": {},
   "source": [
    "### 100:100 (Full data as both, test and train)"
   ]
  },
  {
   "cell_type": "code",
   "execution_count": 104,
   "metadata": {},
   "outputs": [],
   "source": [
    "x_train = x_norm\n",
    "x_test = x_norm\n",
    "y_train = y_col\n",
    "y_test = y_col\n",
    "    \n",
    "mlp.fit(x_train,y_train)\n",
    "    \n",
    "prd = mlp.predict(x_test)\n",
    "  \n",
    "mse.append(mean_squared_error(y_test, prd))\n",
    "mae.append(mean_absolute_error(y_test, prd))\n",
    "r2.append(r2_score(y_test, prd))"
   ]
  },
  {
   "cell_type": "code",
   "execution_count": 105,
   "metadata": {},
   "outputs": [],
   "source": [
    "test_sizes.append(1)"
   ]
  },
  {
   "cell_type": "markdown",
   "metadata": {},
   "source": [
    "### Plotting the Mean Squared Error"
   ]
  },
  {
   "cell_type": "code",
   "execution_count": 106,
   "metadata": {},
   "outputs": [
    {
     "data": {
      "image/png": "[encoded data removed]",
      "text/plain": [
       "<Figure size 432x288 with 1 Axes>"
      ]
     },
     "metadata": {
      "needs_background": "light"
     },
     "output_type": "display_data"
    }
   ],
   "source": [
    "sns.scatterplot(x = test_sizes, y = mse, color = 'green')\n",
    "sns.lineplot(x = test_sizes, y = mse, color = 'green')\n",
    "\n",
    "plt.xlabel('Test Size')\n",
    "plt.ylabel('Mean Squared Error')\n",
    "plt.grid(linestyle='--')"
   ]
  },
  {
   "cell_type": "markdown",
   "metadata": {},
   "source": [
    "We can see that the error is least when the entire data is used for training and testing. This means that the model fits its own data most well."
   ]
  },
  {
   "cell_type": "markdown",
   "metadata": {},
   "source": [
    "### Plotting the Mean Absolute Error"
   ]
  },
  {
   "cell_type": "code",
   "execution_count": 107,
   "metadata": {},
   "outputs": [
    {
     "data": {
      "image/png": "[encoded data removed]",
      "text/plain": [
       "<Figure size 432x288 with 1 Axes>"
      ]
     },
     "metadata": {
      "needs_background": "light"
     },
     "output_type": "display_data"
    }
   ],
   "source": [
    "sns.scatterplot(x = test_sizes, y = mae, color = 'blue')\n",
    "sns.lineplot(x = test_sizes, y = mae, color = 'blue')\n",
    "\n",
    "plt.xlabel('Test Size')\n",
    "plt.ylabel('Mean Absolute Error')\n",
    "plt.grid(linestyle='--')"
   ]
  },
  {
   "cell_type": "markdown",
   "metadata": {},
   "source": [
    "As with MSE, MAE also sees a very similar trend. As mentioned earlier, the model best fits its own data."
   ]
  },
  {
   "cell_type": "markdown",
   "metadata": {},
   "source": [
    "### Plotting the R2 Score"
   ]
  },
  {
   "cell_type": "code",
   "execution_count": 108,
   "metadata": {},
   "outputs": [
    {
     "data": {
      "image/png": "[encoded data removed]",
      "text/plain": [
       "<Figure size 432x288 with 1 Axes>"
      ]
     },
     "metadata": {
      "needs_background": "light"
     },
     "output_type": "display_data"
    }
   ],
   "source": [
    "sns.scatterplot(x = test_sizes, y = r2, color = 'red')\n",
    "sns.lineplot(x = test_sizes, y = r2, color = 'red')\n",
    "\n",
    "plt.xlabel('Test Size')\n",
    "plt.ylabel('R2 Score')\n",
    "plt.grid(linestyle='--')"
   ]
  },
  {
   "cell_type": "markdown",
   "metadata": {},
   "source": [
    "The R2 score acts as a mirror image of the MSE and MAE when the mirror is placed horizontally. It shows the same thing again, the model best fits the entirety of its own data."
   ]
  },
  {
   "cell_type": "code",
   "execution_count": null,
   "metadata": {},
   "outputs": [],
   "source": []
  }
 ],
 "metadata": {
  "kernelspec": {
   "display_name": "Python 3",
   "language": "python",
   "name": "python3"
  },
  "language_info": {
   "codemirror_mode": {
    "name": "ipython",
    "version": 3
   },
   "file_extension": ".py",
   "mimetype": "text/x-python",
   "name": "python",
   "nbconvert_exporter": "python",
   "pygments_lexer": "ipython3",
   "version": "3.8.5"
  }
 },
 "nbformat": 4,
 "nbformat_minor": 4
}
