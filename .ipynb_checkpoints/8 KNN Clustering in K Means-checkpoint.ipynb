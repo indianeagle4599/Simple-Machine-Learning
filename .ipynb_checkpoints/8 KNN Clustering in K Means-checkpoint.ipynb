{
 "cells": [
  {
   "cell_type": "markdown",
   "metadata": {},
   "source": [
    "# Applying KNN in K Means Clustering\n",
    "\n",
    "### Algorithm:\n",
    "\n",
    "1. Input 'n' as number of centroids and 'k' as the number of nearest neighbours to check from.\n",
    "2. Select 'n' centroids randomly.\n",
    "3. Calculate distance of each element from all centroids and assign to closest centroid.\n",
    "4. Get KNN of the centroid from the new-formed clusters.\n",
    "5. Generate new centroid by finding the mean of the KNN.\n",
    "6. If new centroids are same as old centroids, go to step 8.\n",
    "7. Else, go to step 3."
   ]
  },
  {
   "cell_type": "code",
   "execution_count": 17,
   "metadata": {},
   "outputs": [],
   "source": [
    "import random\n",
    "\n",
    "def getDistance(centroid, element):\n",
    "    \n",
    "    distance = 0\n",
    "    for i in range(len(centroid)):\n",
    "        # Manhattan Distance\n",
    "        distance += abs(centroid[i]-element[i])\n",
    "    return distance\n",
    "\n",
    "def getClosest(centroids, element):\n",
    "    \n",
    "    closest = 0\n",
    "    shortest = getDistance(centroids[closest], element)\n",
    "    for centroid in range(len(centroids)):\n",
    "        distance = getDistance(centroid, element)\n",
    "        if distance < shortest:\n",
    "            shortest = distance\n",
    "            closest = centroid\n",
    "    return closest\n",
    "\n",
    "def KNNClustering(n, k, data):\n",
    "    \n",
    "    # Select n centroids randomly\n",
    "    curCentroids = []\n",
    "    newCentroids = []\n",
    "    clusters = [[] for i in range(n)]\n",
    "    datasize = len(data)\n",
    "    while len(curCentroids) < n:\n",
    "        cent = random.randint(0, datasize-1)\n",
    "        if data[cent] not in curCentroids:\n",
    "            curCentroids.append(data[cent])\n",
    "            clusters.append([])\n",
    "            \n",
    "    while newCentroids != curCentroids:\n",
    "        for i in clusters:\n",
    "            i = []\n",
    "        # Calculate distance of each element and assign to the closest centroid\n",
    "        for i in range(datasize):\n",
    "            closest = getClosest(curCentroids, data[i])\n",
    "            print(closest)\n",
    "            clusters[closest].append(data[i])\n",
    "\n",
    "        for cluster in range(len(clusters)):\n",
    "            for element in range(len(clusters[cluster])):\n",
    "                for attribute in range(len(clusters[cluster][element])):\n",
    "                    newCentroids[cluster][attribute] *= element\n",
    "                    newCentroids[cluster][attribute] += clusters[cluster][element][attribute]\n",
    "                    newCentroids[cluster][attribute] /= element+1\n",
    "                    \n",
    "    return clusters"
   ]
  },
  {
   "cell_type": "code",
   "execution_count": 18,
   "metadata": {},
   "outputs": [
    {
     "name": "stdout",
     "output_type": "stream",
     "text": [
      "[1, 8, 2]\n"
     ]
    },
    {
     "ename": "TypeError",
     "evalue": "list indices must be integers or slices, not list",
     "output_type": "error",
     "traceback": [
      "\u001b[1;31m---------------------------------------------------------------------------\u001b[0m",
      "\u001b[1;31mTypeError\u001b[0m                                 Traceback (most recent call last)",
      "\u001b[1;32m<ipython-input-18-459dbd813f20>\u001b[0m in \u001b[0;36m<module>\u001b[1;34m\u001b[0m\n\u001b[0;32m     18\u001b[0m \u001b[0mk\u001b[0m \u001b[1;33m=\u001b[0m \u001b[1;36m2\u001b[0m\u001b[1;33m\u001b[0m\u001b[1;33m\u001b[0m\u001b[0m\n\u001b[0;32m     19\u001b[0m \u001b[1;33m\u001b[0m\u001b[0m\n\u001b[1;32m---> 20\u001b[1;33m \u001b[0mprint\u001b[0m\u001b[1;33m(\u001b[0m\u001b[0mKNNClustering\u001b[0m\u001b[1;33m(\u001b[0m\u001b[0mn\u001b[0m\u001b[1;33m,\u001b[0m \u001b[0mk\u001b[0m\u001b[1;33m,\u001b[0m \u001b[0mdata\u001b[0m\u001b[1;33m)\u001b[0m\u001b[1;33m)\u001b[0m\u001b[1;33m\u001b[0m\u001b[1;33m\u001b[0m\u001b[0m\n\u001b[0m",
      "\u001b[1;32m<ipython-input-17-1594384ad489>\u001b[0m in \u001b[0;36mKNNClustering\u001b[1;34m(n, k, data)\u001b[0m\n\u001b[0;32m     40\u001b[0m             \u001b[0mclosest\u001b[0m \u001b[1;33m=\u001b[0m \u001b[0mgetClosest\u001b[0m\u001b[1;33m(\u001b[0m\u001b[0mcurCentroids\u001b[0m\u001b[1;33m,\u001b[0m \u001b[0mdata\u001b[0m\u001b[1;33m[\u001b[0m\u001b[0mi\u001b[0m\u001b[1;33m]\u001b[0m\u001b[1;33m)\u001b[0m\u001b[1;33m\u001b[0m\u001b[1;33m\u001b[0m\u001b[0m\n\u001b[0;32m     41\u001b[0m             \u001b[0mprint\u001b[0m\u001b[1;33m(\u001b[0m\u001b[0mclosest\u001b[0m\u001b[1;33m)\u001b[0m\u001b[1;33m\u001b[0m\u001b[1;33m\u001b[0m\u001b[0m\n\u001b[1;32m---> 42\u001b[1;33m             \u001b[0mclusters\u001b[0m\u001b[1;33m[\u001b[0m\u001b[0mclosest\u001b[0m\u001b[1;33m]\u001b[0m\u001b[1;33m.\u001b[0m\u001b[0mappend\u001b[0m\u001b[1;33m(\u001b[0m\u001b[0mdata\u001b[0m\u001b[1;33m[\u001b[0m\u001b[0mi\u001b[0m\u001b[1;33m]\u001b[0m\u001b[1;33m)\u001b[0m\u001b[1;33m\u001b[0m\u001b[1;33m\u001b[0m\u001b[0m\n\u001b[0m\u001b[0;32m     43\u001b[0m \u001b[1;33m\u001b[0m\u001b[0m\n\u001b[0;32m     44\u001b[0m         \u001b[1;32mfor\u001b[0m \u001b[0mcluster\u001b[0m \u001b[1;32min\u001b[0m \u001b[0mrange\u001b[0m\u001b[1;33m(\u001b[0m\u001b[0mlen\u001b[0m\u001b[1;33m(\u001b[0m\u001b[0mclusters\u001b[0m\u001b[1;33m)\u001b[0m\u001b[1;33m)\u001b[0m\u001b[1;33m:\u001b[0m\u001b[1;33m\u001b[0m\u001b[1;33m\u001b[0m\u001b[0m\n",
      "\u001b[1;31mTypeError\u001b[0m: list indices must be integers or slices, not list"
     ]
    }
   ],
   "source": [
    "data = [\n",
    "    [0, 1, 2],\n",
    "    [0, 2, 4],\n",
    "    [1, 8, 2],\n",
    "    [3, 4, 1],\n",
    "    [5, 6, 8],\n",
    "    [4, 2, 2],\n",
    "    [2, 1, 5],\n",
    "    [1, 8, 5],\n",
    "    [9, 1, 4],\n",
    "    [8, 5, 3],\n",
    "    [3, 3, 9],\n",
    "    [7, 5, 1],\n",
    "    [5, 6, 8],\n",
    "]\n",
    "\n",
    "n = 3\n",
    "k = 2\n",
    "\n",
    "print(KNNClustering(n, k, data))"
   ]
  },
  {
   "cell_type": "code",
   "execution_count": null,
   "metadata": {},
   "outputs": [],
   "source": []
  }
 ],
 "metadata": {
  "kernelspec": {
   "display_name": "Python 3",
   "language": "python",
   "name": "python3"
  },
  "language_info": {
   "codemirror_mode": {
    "name": "ipython",
    "version": 3
   },
   "file_extension": ".py",
   "mimetype": "text/x-python",
   "name": "python",
   "nbconvert_exporter": "python",
   "pygments_lexer": "ipython3",
   "version": "3.8.5"
  }
 },
 "nbformat": 4,
 "nbformat_minor": 4
}
